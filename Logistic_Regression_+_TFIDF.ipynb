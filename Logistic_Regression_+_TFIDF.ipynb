{
  "cells": [
    {
      "cell_type": "code",
      "execution_count": 17,
      "id": "d8de779f",
      "metadata": {
        "id": "d8de779f"
      },
      "outputs": [],
      "source": [
        "from collections import defaultdict, Counter\n",
        "from tqdm import tqdm_notebook as tqdm\n",
        "import numpy as np\n",
        "import pandas as pd\n",
        "import scipy.stats\n",
        "import seaborn as sn\n",
        "import nltk\n",
        "from nltk.corpus import stopwords\n",
        "from sklearn import preprocessing\n",
        "from sklearn.model_selection import train_test_split\n",
        "from sklearn.linear_model import LogisticRegression\n",
        "from sklearn.metrics import accuracy_score\n",
        "from sklearn.metrics import confusion_matrix\n",
        "from sklearn.metrics import classification_report\n",
        "from sklearn.metrics import balanced_accuracy_score\n",
        "\n",
        "import matplotlib.pyplot as plt\n",
        "%matplotlib inline"
      ]
    },
    {
      "cell_type": "code",
      "execution_count": 18,
      "id": "21da4e1b",
      "metadata": {
        "colab": {
          "base_uri": "https://localhost:8080/",
          "height": 528
        },
        "id": "21da4e1b",
        "outputId": "c714e4ea-087a-490d-9b06-966db27cc18e"
      },
      "outputs": [
        {
          "output_type": "execute_result",
          "data": {
            "text/plain": [
              "            id             subreddit  \\\n",
              "0       4ra2z6              Throwers   \n",
              "1       6dkhwl       weddingplanning   \n",
              "2       5jzfbj             redditdev   \n",
              "3       6680x8               csshelp   \n",
              "4       4tadox        StrangerThings   \n",
              "...        ...                   ...   \n",
              "116995  6cum56         LearnJapanese   \n",
              "116996  6dud8e            HotPeppers   \n",
              "116997  4nyacs            Warmachine   \n",
              "116998  66y8wp  TalesFromThePizzaGuy   \n",
              "116999  75nct0             pesmobile   \n",
              "\n",
              "                                                    title  \\\n",
              "0                                new to this (vibrations)   \n",
              "1         vendor and photographer issues and frustrations   \n",
              "2       [praw 360] test if comment is top level ?  or ...   \n",
              "3       in /r/modern_hp_theme (a test subreddit) how c...   \n",
              "4                  mr wheeler stole every scene he was in   \n",
              "...                                                   ...   \n",
              "116995  i'm having trouble reading the number 七十一万四千 w...   \n",
              "116996                       my reaper seeds won't sprout   \n",
              "116997                         what happened to skorne ?    \n",
              "116998  \"\"\"ma'am i know you're lying right now enjoy y...   \n",
              "116999                       new event superstar gameplay   \n",
              "\n",
              "                                                 selftext              genre  \n",
              "0       \"i recently got back into yoyos last time i ha...              hobby  \n",
              "1       \"your stories and advice are most certainly we...  sex/relationships  \n",
              "2       \"i mod a sub that is looking into adding a rul...               meta  \n",
              "3       \"/r/modern_hp_theme    space:nowrap;color:#666...        programming  \n",
              "4       \"\"\"what did i do ?  what did iiiiiiiii doooooo...            tv_show  \n",
              "...                                                   ...                ...  \n",
              "116995  what throws me off is the 七十一 at the beginning...          education  \n",
              "116996  i'm using the damp towel in plastic bag method...         food/drink  \n",
              "116997  \"so i have no idea what happened to other fact...         board_game  \n",
              "116998  \"last week we were stupid slow all day and thi...    writing/stories  \n",
              "116999  anyone feels that this difficulty is kinda eas...         video_game  \n",
              "\n",
              "[117000 rows x 5 columns]"
            ],
            "text/html": [
              "\n",
              "  <div id=\"df-acc03e15-c966-4cbb-b163-da6467a2c3ef\" class=\"colab-df-container\">\n",
              "    <div>\n",
              "<style scoped>\n",
              "    .dataframe tbody tr th:only-of-type {\n",
              "        vertical-align: middle;\n",
              "    }\n",
              "\n",
              "    .dataframe tbody tr th {\n",
              "        vertical-align: top;\n",
              "    }\n",
              "\n",
              "    .dataframe thead th {\n",
              "        text-align: right;\n",
              "    }\n",
              "</style>\n",
              "<table border=\"1\" class=\"dataframe\">\n",
              "  <thead>\n",
              "    <tr style=\"text-align: right;\">\n",
              "      <th></th>\n",
              "      <th>id</th>\n",
              "      <th>subreddit</th>\n",
              "      <th>title</th>\n",
              "      <th>selftext</th>\n",
              "      <th>genre</th>\n",
              "    </tr>\n",
              "  </thead>\n",
              "  <tbody>\n",
              "    <tr>\n",
              "      <th>0</th>\n",
              "      <td>4ra2z6</td>\n",
              "      <td>Throwers</td>\n",
              "      <td>new to this (vibrations)</td>\n",
              "      <td>\"i recently got back into yoyos last time i ha...</td>\n",
              "      <td>hobby</td>\n",
              "    </tr>\n",
              "    <tr>\n",
              "      <th>1</th>\n",
              "      <td>6dkhwl</td>\n",
              "      <td>weddingplanning</td>\n",
              "      <td>vendor and photographer issues and frustrations</td>\n",
              "      <td>\"your stories and advice are most certainly we...</td>\n",
              "      <td>sex/relationships</td>\n",
              "    </tr>\n",
              "    <tr>\n",
              "      <th>2</th>\n",
              "      <td>5jzfbj</td>\n",
              "      <td>redditdev</td>\n",
              "      <td>[praw 360] test if comment is top level ?  or ...</td>\n",
              "      <td>\"i mod a sub that is looking into adding a rul...</td>\n",
              "      <td>meta</td>\n",
              "    </tr>\n",
              "    <tr>\n",
              "      <th>3</th>\n",
              "      <td>6680x8</td>\n",
              "      <td>csshelp</td>\n",
              "      <td>in /r/modern_hp_theme (a test subreddit) how c...</td>\n",
              "      <td>\"/r/modern_hp_theme    space:nowrap;color:#666...</td>\n",
              "      <td>programming</td>\n",
              "    </tr>\n",
              "    <tr>\n",
              "      <th>4</th>\n",
              "      <td>4tadox</td>\n",
              "      <td>StrangerThings</td>\n",
              "      <td>mr wheeler stole every scene he was in</td>\n",
              "      <td>\"\"\"what did i do ?  what did iiiiiiiii doooooo...</td>\n",
              "      <td>tv_show</td>\n",
              "    </tr>\n",
              "    <tr>\n",
              "      <th>...</th>\n",
              "      <td>...</td>\n",
              "      <td>...</td>\n",
              "      <td>...</td>\n",
              "      <td>...</td>\n",
              "      <td>...</td>\n",
              "    </tr>\n",
              "    <tr>\n",
              "      <th>116995</th>\n",
              "      <td>6cum56</td>\n",
              "      <td>LearnJapanese</td>\n",
              "      <td>i'm having trouble reading the number 七十一万四千 w...</td>\n",
              "      <td>what throws me off is the 七十一 at the beginning...</td>\n",
              "      <td>education</td>\n",
              "    </tr>\n",
              "    <tr>\n",
              "      <th>116996</th>\n",
              "      <td>6dud8e</td>\n",
              "      <td>HotPeppers</td>\n",
              "      <td>my reaper seeds won't sprout</td>\n",
              "      <td>i'm using the damp towel in plastic bag method...</td>\n",
              "      <td>food/drink</td>\n",
              "    </tr>\n",
              "    <tr>\n",
              "      <th>116997</th>\n",
              "      <td>4nyacs</td>\n",
              "      <td>Warmachine</td>\n",
              "      <td>what happened to skorne ?</td>\n",
              "      <td>\"so i have no idea what happened to other fact...</td>\n",
              "      <td>board_game</td>\n",
              "    </tr>\n",
              "    <tr>\n",
              "      <th>116998</th>\n",
              "      <td>66y8wp</td>\n",
              "      <td>TalesFromThePizzaGuy</td>\n",
              "      <td>\"\"\"ma'am i know you're lying right now enjoy y...</td>\n",
              "      <td>\"last week we were stupid slow all day and thi...</td>\n",
              "      <td>writing/stories</td>\n",
              "    </tr>\n",
              "    <tr>\n",
              "      <th>116999</th>\n",
              "      <td>75nct0</td>\n",
              "      <td>pesmobile</td>\n",
              "      <td>new event superstar gameplay</td>\n",
              "      <td>anyone feels that this difficulty is kinda eas...</td>\n",
              "      <td>video_game</td>\n",
              "    </tr>\n",
              "  </tbody>\n",
              "</table>\n",
              "<p>117000 rows × 5 columns</p>\n",
              "</div>\n",
              "    <div class=\"colab-df-buttons\">\n",
              "\n",
              "  <div class=\"colab-df-container\">\n",
              "    <button class=\"colab-df-convert\" onclick=\"convertToInteractive('df-acc03e15-c966-4cbb-b163-da6467a2c3ef')\"\n",
              "            title=\"Convert this dataframe to an interactive table.\"\n",
              "            style=\"display:none;\">\n",
              "\n",
              "  <svg xmlns=\"http://www.w3.org/2000/svg\" height=\"24px\" viewBox=\"0 -960 960 960\">\n",
              "    <path d=\"M120-120v-720h720v720H120Zm60-500h600v-160H180v160Zm220 220h160v-160H400v160Zm0 220h160v-160H400v160ZM180-400h160v-160H180v160Zm440 0h160v-160H620v160ZM180-180h160v-160H180v160Zm440 0h160v-160H620v160Z\"/>\n",
              "  </svg>\n",
              "    </button>\n",
              "\n",
              "  <style>\n",
              "    .colab-df-container {\n",
              "      display:flex;\n",
              "      gap: 12px;\n",
              "    }\n",
              "\n",
              "    .colab-df-convert {\n",
              "      background-color: #E8F0FE;\n",
              "      border: none;\n",
              "      border-radius: 50%;\n",
              "      cursor: pointer;\n",
              "      display: none;\n",
              "      fill: #1967D2;\n",
              "      height: 32px;\n",
              "      padding: 0 0 0 0;\n",
              "      width: 32px;\n",
              "    }\n",
              "\n",
              "    .colab-df-convert:hover {\n",
              "      background-color: #E2EBFA;\n",
              "      box-shadow: 0px 1px 2px rgba(60, 64, 67, 0.3), 0px 1px 3px 1px rgba(60, 64, 67, 0.15);\n",
              "      fill: #174EA6;\n",
              "    }\n",
              "\n",
              "    .colab-df-buttons div {\n",
              "      margin-bottom: 4px;\n",
              "    }\n",
              "\n",
              "    [theme=dark] .colab-df-convert {\n",
              "      background-color: #3B4455;\n",
              "      fill: #D2E3FC;\n",
              "    }\n",
              "\n",
              "    [theme=dark] .colab-df-convert:hover {\n",
              "      background-color: #434B5C;\n",
              "      box-shadow: 0px 1px 3px 1px rgba(0, 0, 0, 0.15);\n",
              "      filter: drop-shadow(0px 1px 2px rgba(0, 0, 0, 0.3));\n",
              "      fill: #FFFFFF;\n",
              "    }\n",
              "  </style>\n",
              "\n",
              "    <script>\n",
              "      const buttonEl =\n",
              "        document.querySelector('#df-acc03e15-c966-4cbb-b163-da6467a2c3ef button.colab-df-convert');\n",
              "      buttonEl.style.display =\n",
              "        google.colab.kernel.accessAllowed ? 'block' : 'none';\n",
              "\n",
              "      async function convertToInteractive(key) {\n",
              "        const element = document.querySelector('#df-acc03e15-c966-4cbb-b163-da6467a2c3ef');\n",
              "        const dataTable =\n",
              "          await google.colab.kernel.invokeFunction('convertToInteractive',\n",
              "                                                    [key], {});\n",
              "        if (!dataTable) return;\n",
              "\n",
              "        const docLinkHtml = 'Like what you see? Visit the ' +\n",
              "          '<a target=\"_blank\" href=https://colab.research.google.com/notebooks/data_table.ipynb>data table notebook</a>'\n",
              "          + ' to learn more about interactive tables.';\n",
              "        element.innerHTML = '';\n",
              "        dataTable['output_type'] = 'display_data';\n",
              "        await google.colab.output.renderOutput(dataTable, element);\n",
              "        const docLink = document.createElement('div');\n",
              "        docLink.innerHTML = docLinkHtml;\n",
              "        element.appendChild(docLink);\n",
              "      }\n",
              "    </script>\n",
              "  </div>\n",
              "\n",
              "\n",
              "<div id=\"df-a9c96072-669e-4b54-a4cb-cb731330b938\">\n",
              "  <button class=\"colab-df-quickchart\" onclick=\"quickchart('df-a9c96072-669e-4b54-a4cb-cb731330b938')\"\n",
              "            title=\"Suggest charts\"\n",
              "            style=\"display:none;\">\n",
              "\n",
              "<svg xmlns=\"http://www.w3.org/2000/svg\" height=\"24px\"viewBox=\"0 0 24 24\"\n",
              "     width=\"24px\">\n",
              "    <g>\n",
              "        <path d=\"M19 3H5c-1.1 0-2 .9-2 2v14c0 1.1.9 2 2 2h14c1.1 0 2-.9 2-2V5c0-1.1-.9-2-2-2zM9 17H7v-7h2v7zm4 0h-2V7h2v10zm4 0h-2v-4h2v4z\"/>\n",
              "    </g>\n",
              "</svg>\n",
              "  </button>\n",
              "\n",
              "<style>\n",
              "  .colab-df-quickchart {\n",
              "      --bg-color: #E8F0FE;\n",
              "      --fill-color: #1967D2;\n",
              "      --hover-bg-color: #E2EBFA;\n",
              "      --hover-fill-color: #174EA6;\n",
              "      --disabled-fill-color: #AAA;\n",
              "      --disabled-bg-color: #DDD;\n",
              "  }\n",
              "\n",
              "  [theme=dark] .colab-df-quickchart {\n",
              "      --bg-color: #3B4455;\n",
              "      --fill-color: #D2E3FC;\n",
              "      --hover-bg-color: #434B5C;\n",
              "      --hover-fill-color: #FFFFFF;\n",
              "      --disabled-bg-color: #3B4455;\n",
              "      --disabled-fill-color: #666;\n",
              "  }\n",
              "\n",
              "  .colab-df-quickchart {\n",
              "    background-color: var(--bg-color);\n",
              "    border: none;\n",
              "    border-radius: 50%;\n",
              "    cursor: pointer;\n",
              "    display: none;\n",
              "    fill: var(--fill-color);\n",
              "    height: 32px;\n",
              "    padding: 0;\n",
              "    width: 32px;\n",
              "  }\n",
              "\n",
              "  .colab-df-quickchart:hover {\n",
              "    background-color: var(--hover-bg-color);\n",
              "    box-shadow: 0 1px 2px rgba(60, 64, 67, 0.3), 0 1px 3px 1px rgba(60, 64, 67, 0.15);\n",
              "    fill: var(--button-hover-fill-color);\n",
              "  }\n",
              "\n",
              "  .colab-df-quickchart-complete:disabled,\n",
              "  .colab-df-quickchart-complete:disabled:hover {\n",
              "    background-color: var(--disabled-bg-color);\n",
              "    fill: var(--disabled-fill-color);\n",
              "    box-shadow: none;\n",
              "  }\n",
              "\n",
              "  .colab-df-spinner {\n",
              "    border: 2px solid var(--fill-color);\n",
              "    border-color: transparent;\n",
              "    border-bottom-color: var(--fill-color);\n",
              "    animation:\n",
              "      spin 1s steps(1) infinite;\n",
              "  }\n",
              "\n",
              "  @keyframes spin {\n",
              "    0% {\n",
              "      border-color: transparent;\n",
              "      border-bottom-color: var(--fill-color);\n",
              "      border-left-color: var(--fill-color);\n",
              "    }\n",
              "    20% {\n",
              "      border-color: transparent;\n",
              "      border-left-color: var(--fill-color);\n",
              "      border-top-color: var(--fill-color);\n",
              "    }\n",
              "    30% {\n",
              "      border-color: transparent;\n",
              "      border-left-color: var(--fill-color);\n",
              "      border-top-color: var(--fill-color);\n",
              "      border-right-color: var(--fill-color);\n",
              "    }\n",
              "    40% {\n",
              "      border-color: transparent;\n",
              "      border-right-color: var(--fill-color);\n",
              "      border-top-color: var(--fill-color);\n",
              "    }\n",
              "    60% {\n",
              "      border-color: transparent;\n",
              "      border-right-color: var(--fill-color);\n",
              "    }\n",
              "    80% {\n",
              "      border-color: transparent;\n",
              "      border-right-color: var(--fill-color);\n",
              "      border-bottom-color: var(--fill-color);\n",
              "    }\n",
              "    90% {\n",
              "      border-color: transparent;\n",
              "      border-bottom-color: var(--fill-color);\n",
              "    }\n",
              "  }\n",
              "</style>\n",
              "\n",
              "  <script>\n",
              "    async function quickchart(key) {\n",
              "      const quickchartButtonEl =\n",
              "        document.querySelector('#' + key + ' button');\n",
              "      quickchartButtonEl.disabled = true;  // To prevent multiple clicks.\n",
              "      quickchartButtonEl.classList.add('colab-df-spinner');\n",
              "      try {\n",
              "        const charts = await google.colab.kernel.invokeFunction(\n",
              "            'suggestCharts', [key], {});\n",
              "      } catch (error) {\n",
              "        console.error('Error during call to suggestCharts:', error);\n",
              "      }\n",
              "      quickchartButtonEl.classList.remove('colab-df-spinner');\n",
              "      quickchartButtonEl.classList.add('colab-df-quickchart-complete');\n",
              "    }\n",
              "    (() => {\n",
              "      let quickchartButtonEl =\n",
              "        document.querySelector('#df-a9c96072-669e-4b54-a4cb-cb731330b938 button');\n",
              "      quickchartButtonEl.style.display =\n",
              "        google.colab.kernel.accessAllowed ? 'block' : 'none';\n",
              "    })();\n",
              "  </script>\n",
              "</div>\n",
              "\n",
              "  <div id=\"id_94ac3e31-c1af-433d-b97e-c3979f558d55\">\n",
              "    <style>\n",
              "      .colab-df-generate {\n",
              "        background-color: #E8F0FE;\n",
              "        border: none;\n",
              "        border-radius: 50%;\n",
              "        cursor: pointer;\n",
              "        display: none;\n",
              "        fill: #1967D2;\n",
              "        height: 32px;\n",
              "        padding: 0 0 0 0;\n",
              "        width: 32px;\n",
              "      }\n",
              "\n",
              "      .colab-df-generate:hover {\n",
              "        background-color: #E2EBFA;\n",
              "        box-shadow: 0px 1px 2px rgba(60, 64, 67, 0.3), 0px 1px 3px 1px rgba(60, 64, 67, 0.15);\n",
              "        fill: #174EA6;\n",
              "      }\n",
              "\n",
              "      [theme=dark] .colab-df-generate {\n",
              "        background-color: #3B4455;\n",
              "        fill: #D2E3FC;\n",
              "      }\n",
              "\n",
              "      [theme=dark] .colab-df-generate:hover {\n",
              "        background-color: #434B5C;\n",
              "        box-shadow: 0px 1px 3px 1px rgba(0, 0, 0, 0.15);\n",
              "        filter: drop-shadow(0px 1px 2px rgba(0, 0, 0, 0.3));\n",
              "        fill: #FFFFFF;\n",
              "      }\n",
              "    </style>\n",
              "    <button class=\"colab-df-generate\" onclick=\"generateWithVariable('main_df_sampled')\"\n",
              "            title=\"Generate code using this dataframe.\"\n",
              "            style=\"display:none;\">\n",
              "\n",
              "  <svg xmlns=\"http://www.w3.org/2000/svg\" height=\"24px\"viewBox=\"0 0 24 24\"\n",
              "       width=\"24px\">\n",
              "    <path d=\"M7,19H8.4L18.45,9,17,7.55,7,17.6ZM5,21V16.75L18.45,3.32a2,2,0,0,1,2.83,0l1.4,1.43a1.91,1.91,0,0,1,.58,1.4,1.91,1.91,0,0,1-.58,1.4L9.25,21ZM18.45,9,17,7.55Zm-12,3A5.31,5.31,0,0,0,4.9,8.1,5.31,5.31,0,0,0,1,6.5,5.31,5.31,0,0,0,4.9,4.9,5.31,5.31,0,0,0,6.5,1,5.31,5.31,0,0,0,8.1,4.9,5.31,5.31,0,0,0,12,6.5,5.46,5.46,0,0,0,6.5,12Z\"/>\n",
              "  </svg>\n",
              "    </button>\n",
              "    <script>\n",
              "      (() => {\n",
              "      const buttonEl =\n",
              "        document.querySelector('#id_94ac3e31-c1af-433d-b97e-c3979f558d55 button.colab-df-generate');\n",
              "      buttonEl.style.display =\n",
              "        google.colab.kernel.accessAllowed ? 'block' : 'none';\n",
              "\n",
              "      buttonEl.onclick = () => {\n",
              "        google.colab.notebook.generateWithVariable('main_df_sampled');\n",
              "      }\n",
              "      })();\n",
              "    </script>\n",
              "  </div>\n",
              "\n",
              "    </div>\n",
              "  </div>\n"
            ],
            "application/vnd.google.colaboratory.intrinsic+json": {
              "type": "dataframe",
              "variable_name": "main_df_sampled"
            }
          },
          "metadata": {},
          "execution_count": 18
        }
      ],
      "source": [
        "main_df_sampled = pd.read_pickle('main_df_sampled.pickle')\n",
        "main_df_sampled"
      ]
    },
    {
      "cell_type": "code",
      "execution_count": 19,
      "id": "a8aefed0",
      "metadata": {
        "colab": {
          "base_uri": "https://localhost:8080/"
        },
        "id": "a8aefed0",
        "outputId": "1679c29a-b07f-466c-99ac-1abf3a3181b1"
      },
      "outputs": [
        {
          "output_type": "stream",
          "name": "stdout",
          "text": [
            "Number of genres: 39\n"
          ]
        }
      ],
      "source": [
        "genres = sorted(main_df_sampled['genre'].unique().tolist()) # this has to be sorted to match up with lstm model\n",
        "\n",
        "print('Number of genres:', len(genres))"
      ]
    },
    {
      "cell_type": "code",
      "execution_count": 20,
      "id": "267ffc26",
      "metadata": {
        "colab": {
          "base_uri": "https://localhost:8080/"
        },
        "id": "267ffc26",
        "outputId": "537616af-49ec-4ab7-db65-742322af6b12"
      },
      "outputs": [
        {
          "output_type": "stream",
          "name": "stdout",
          "text": [
            "DescribeResult(nobs=39, minmax=(3000, 3000), mean=3000.0, variance=0.0, skewness=nan, kurtosis=nan)\n",
            "                          0\n",
            "advice/question        3000\n",
            "animals                3000\n",
            "anime/manga            3000\n",
            "appearance             3000\n",
            "arts                   3000\n",
            "autos                  3000\n",
            "board_game             3000\n",
            "books                  3000\n",
            "card_game              3000\n",
            "company/website        3000\n",
            "crypto                 3000\n",
            "drugs                  3000\n",
            "education              3000\n",
            "electronics            3000\n",
            "finance/money          3000\n",
            "food/drink             3000\n",
            "geo                    3000\n",
            "hardware/tools         3000\n",
            "health                 3000\n",
            "hobby                  3000\n",
            "meta                   3000\n",
            "movies                 3000\n",
            "music                  3000\n",
            "other                  3000\n",
            "parenting              3000\n",
            "politics/viewpoint     3000\n",
            "profession             3000\n",
            "programming            3000\n",
            "religion/supernatural  3000\n",
            "rpg                    3000\n",
            "sex/relationships      3000\n",
            "social_group           3000\n",
            "software               3000\n",
            "sports                 3000\n",
            "stem                   3000\n",
            "travel                 3000\n",
            "tv_show                3000\n",
            "video_game             3000\n",
            "writing/stories        3000\n"
          ]
        },
        {
          "output_type": "stream",
          "name": "stderr",
          "text": [
            "<ipython-input-20-d6794b4f31c7>:9: RuntimeWarning: Precision loss occurred in moment calculation due to catastrophic cancellation. This occurs when the data are nearly identical. Results may be unreliable.\n",
            "  print(scipy.stats.describe(list(frequencies.values())))\n",
            "/usr/local/lib/python3.10/dist-packages/scipy/stats/_stats_py.py:1405: RuntimeWarning: Precision loss occurred in moment calculation due to catastrophic cancellation. This occurs when the data are nearly identical. Results may be unreliable.\n",
            "  sk = skew(a, axis, bias=bias)\n",
            "/usr/local/lib/python3.10/dist-packages/scipy/stats/_stats_py.py:1406: RuntimeWarning: Precision loss occurred in moment calculation due to catastrophic cancellation. This occurs when the data are nearly identical. Results may be unreliable.\n",
            "  kurt = kurtosis(a, axis, bias=bias)\n"
          ]
        }
      ],
      "source": [
        "# Get frequencies of each subreddit using efficient pandas filtering.\n",
        "frequencies = defaultdict(int)\n",
        "for genre in genres:\n",
        "    frequencies[genre] = len(main_df_sampled.loc[main_df_sampled['genre'] == genre])\n",
        "\n",
        "frequencies_df = pd.DataFrame([frequencies])\n",
        "frequencies_df = frequencies_df.T\n",
        "\n",
        "print(scipy.stats.describe(list(frequencies.values())))\n",
        "print(frequencies_df)"
      ]
    },
    {
      "cell_type": "code",
      "execution_count": 21,
      "id": "713db9ca",
      "metadata": {
        "colab": {
          "base_uri": "https://localhost:8080/"
        },
        "id": "713db9ca",
        "outputId": "d0d7f153-5269-4125-9cbc-7cc908b6ff2e"
      },
      "outputs": [
        {
          "output_type": "stream",
          "name": "stderr",
          "text": [
            "[nltk_data] Downloading package stopwords to /root/nltk_data...\n",
            "[nltk_data]   Package stopwords is already up-to-date!\n"
          ]
        }
      ],
      "source": [
        "import nltk\n",
        "nltk.download('stopwords')\n",
        "stop = set(stopwords.words('english'))"
      ]
    },
    {
      "cell_type": "code",
      "execution_count": 22,
      "id": "60adb3f6",
      "metadata": {
        "id": "60adb3f6"
      },
      "outputs": [],
      "source": [
        "from sklearn.feature_extraction.text import TfidfVectorizer\n",
        "from gensim.utils import simple_preprocess\n",
        "import numpy as np\n",
        "from sklearn import preprocessing\n",
        "from tqdm import tqdm\n",
        "\n",
        "vectorizer = TfidfVectorizer(stop_words='english')\n",
        "X_tfidf = vectorizer.fit_transform(main_df_sampled['title'] + \" \" + main_df_sampled['selftext'])"
      ]
    },
    {
      "cell_type": "code",
      "execution_count": 23,
      "id": "32a6a77e",
      "metadata": {
        "id": "32a6a77e",
        "outputId": "4e8e30a6-441f-485f-f985-0fdfb82f1464",
        "colab": {
          "base_uri": "https://localhost:8080/"
        }
      },
      "outputs": [
        {
          "output_type": "stream",
          "name": "stdout",
          "text": [
            "Genre Mapping:\n",
            "{'advice/question': 0, 'animals': 1, 'anime/manga': 2, 'appearance': 3, 'arts': 4, 'autos': 5, 'board_game': 6, 'books': 7, 'card_game': 8, 'company/website': 9, 'crypto': 10, 'drugs': 11, 'education': 12, 'electronics': 13, 'finance/money': 14, 'food/drink': 15, 'geo': 16, 'hardware/tools': 17, 'health': 18, 'hobby': 19, 'meta': 20, 'movies': 21, 'music': 22, 'other': 23, 'parenting': 24, 'politics/viewpoint': 25, 'profession': 26, 'programming': 27, 'religion/supernatural': 28, 'rpg': 29, 'sex/relationships': 30, 'social_group': 31, 'software': 32, 'sports': 33, 'stem': 34, 'travel': 35, 'tv_show': 36, 'video_game': 37, 'writing/stories': 38}\n"
          ]
        }
      ],
      "source": [
        "from sklearn.preprocessing import LabelEncoder\n",
        "\n",
        "y = main_df_sampled['genre'].copy()\n",
        "\n",
        "label_encoder = LabelEncoder()\n",
        "\n",
        "y = label_encoder.fit_transform(y)\n",
        "\n",
        "genre_mapping = dict(zip(label_encoder.classes_, label_encoder.transform(label_encoder.classes_)))\n",
        "print(\"Genre Mapping:\")\n",
        "print(genre_mapping)"
      ]
    },
    {
      "cell_type": "code",
      "execution_count": 24,
      "id": "93eddfe2",
      "metadata": {
        "id": "93eddfe2",
        "outputId": "0588c091-8275-404a-fd4f-90e37f738c49",
        "colab": {
          "base_uri": "https://localhost:8080/"
        }
      },
      "outputs": [
        {
          "output_type": "stream",
          "name": "stdout",
          "text": [
            "(93600, 169198) (23400, 169198) (93600,) (23400,)\n"
          ]
        }
      ],
      "source": [
        "X_tfidf_train, X_tfidf_test, y_tfidf_train, y_tfidf_test = train_test_split(X_tfidf, y, test_size=0.2, random_state=42)\n",
        "print(X_tfidf_train.shape, X_tfidf_test.shape, y_tfidf_train.shape, y_tfidf_test.shape)"
      ]
    },
    {
      "cell_type": "code",
      "execution_count": 25,
      "id": "454505f5",
      "metadata": {
        "id": "454505f5",
        "outputId": "41c6ff50-923b-489b-b496-ff7f8ef92ac9",
        "colab": {
          "base_uri": "https://localhost:8080/"
        }
      },
      "outputs": [
        {
          "output_type": "execute_result",
          "data": {
            "text/plain": [
              "array([11, 10, 24, ..., 11,  4, 11])"
            ]
          },
          "metadata": {},
          "execution_count": 25
        }
      ],
      "source": [
        "y_tfidf_train"
      ]
    },
    {
      "cell_type": "markdown",
      "id": "cabf3cdd",
      "metadata": {
        "id": "cabf3cdd"
      },
      "source": [
        "## Logistic Regression with TFIDF"
      ]
    },
    {
      "cell_type": "code",
      "execution_count": 28,
      "id": "15125506",
      "metadata": {
        "id": "15125506",
        "outputId": "fab1aba2-a320-439c-d79b-ecff7454815f",
        "colab": {
          "base_uri": "https://localhost:8080/",
          "height": 136
        }
      },
      "outputs": [
        {
          "metadata": {
            "tags": null
          },
          "name": "stdout",
          "output_type": "stream",
          "text": [
            "Fitting 5 folds for each of 9 candidates, totalling 45 fits\n"
          ]
        },
        {
          "output_type": "execute_result",
          "data": {
            "text/plain": [
              "GridSearchCV(cv=5,\n",
              "             estimator=Pipeline(steps=[('lr',\n",
              "                                        LogisticRegression(max_iter=500,\n",
              "                                                           random_state=42))]),\n",
              "             param_grid={'lr__C': [0.01, 0.1, 1],\n",
              "                         'lr__solver': ['lbfgs', 'sag', 'saga']},\n",
              "             verbose=1)"
            ],
            "text/html": [
              "<style>#sk-container-id-1 {color: black;background-color: white;}#sk-container-id-1 pre{padding: 0;}#sk-container-id-1 div.sk-toggleable {background-color: white;}#sk-container-id-1 label.sk-toggleable__label {cursor: pointer;display: block;width: 100%;margin-bottom: 0;padding: 0.3em;box-sizing: border-box;text-align: center;}#sk-container-id-1 label.sk-toggleable__label-arrow:before {content: \"▸\";float: left;margin-right: 0.25em;color: #696969;}#sk-container-id-1 label.sk-toggleable__label-arrow:hover:before {color: black;}#sk-container-id-1 div.sk-estimator:hover label.sk-toggleable__label-arrow:before {color: black;}#sk-container-id-1 div.sk-toggleable__content {max-height: 0;max-width: 0;overflow: hidden;text-align: left;background-color: #f0f8ff;}#sk-container-id-1 div.sk-toggleable__content pre {margin: 0.2em;color: black;border-radius: 0.25em;background-color: #f0f8ff;}#sk-container-id-1 input.sk-toggleable__control:checked~div.sk-toggleable__content {max-height: 200px;max-width: 100%;overflow: auto;}#sk-container-id-1 input.sk-toggleable__control:checked~label.sk-toggleable__label-arrow:before {content: \"▾\";}#sk-container-id-1 div.sk-estimator input.sk-toggleable__control:checked~label.sk-toggleable__label {background-color: #d4ebff;}#sk-container-id-1 div.sk-label input.sk-toggleable__control:checked~label.sk-toggleable__label {background-color: #d4ebff;}#sk-container-id-1 input.sk-hidden--visually {border: 0;clip: rect(1px 1px 1px 1px);clip: rect(1px, 1px, 1px, 1px);height: 1px;margin: -1px;overflow: hidden;padding: 0;position: absolute;width: 1px;}#sk-container-id-1 div.sk-estimator {font-family: monospace;background-color: #f0f8ff;border: 1px dotted black;border-radius: 0.25em;box-sizing: border-box;margin-bottom: 0.5em;}#sk-container-id-1 div.sk-estimator:hover {background-color: #d4ebff;}#sk-container-id-1 div.sk-parallel-item::after {content: \"\";width: 100%;border-bottom: 1px solid gray;flex-grow: 1;}#sk-container-id-1 div.sk-label:hover label.sk-toggleable__label {background-color: #d4ebff;}#sk-container-id-1 div.sk-serial::before {content: \"\";position: absolute;border-left: 1px solid gray;box-sizing: border-box;top: 0;bottom: 0;left: 50%;z-index: 0;}#sk-container-id-1 div.sk-serial {display: flex;flex-direction: column;align-items: center;background-color: white;padding-right: 0.2em;padding-left: 0.2em;position: relative;}#sk-container-id-1 div.sk-item {position: relative;z-index: 1;}#sk-container-id-1 div.sk-parallel {display: flex;align-items: stretch;justify-content: center;background-color: white;position: relative;}#sk-container-id-1 div.sk-item::before, #sk-container-id-1 div.sk-parallel-item::before {content: \"\";position: absolute;border-left: 1px solid gray;box-sizing: border-box;top: 0;bottom: 0;left: 50%;z-index: -1;}#sk-container-id-1 div.sk-parallel-item {display: flex;flex-direction: column;z-index: 1;position: relative;background-color: white;}#sk-container-id-1 div.sk-parallel-item:first-child::after {align-self: flex-end;width: 50%;}#sk-container-id-1 div.sk-parallel-item:last-child::after {align-self: flex-start;width: 50%;}#sk-container-id-1 div.sk-parallel-item:only-child::after {width: 0;}#sk-container-id-1 div.sk-dashed-wrapped {border: 1px dashed gray;margin: 0 0.4em 0.5em 0.4em;box-sizing: border-box;padding-bottom: 0.4em;background-color: white;}#sk-container-id-1 div.sk-label label {font-family: monospace;font-weight: bold;display: inline-block;line-height: 1.2em;}#sk-container-id-1 div.sk-label-container {text-align: center;}#sk-container-id-1 div.sk-container {/* jupyter's `normalize.less` sets `[hidden] { display: none; }` but bootstrap.min.css set `[hidden] { display: none !important; }` so we also need the `!important` here to be able to override the default hidden behavior on the sphinx rendered scikit-learn.org. See: https://github.com/scikit-learn/scikit-learn/issues/21755 */display: inline-block !important;position: relative;}#sk-container-id-1 div.sk-text-repr-fallback {display: none;}</style><div id=\"sk-container-id-1\" class=\"sk-top-container\"><div class=\"sk-text-repr-fallback\"><pre>GridSearchCV(cv=5,\n",
              "             estimator=Pipeline(steps=[(&#x27;lr&#x27;,\n",
              "                                        LogisticRegression(max_iter=500,\n",
              "                                                           random_state=42))]),\n",
              "             param_grid={&#x27;lr__C&#x27;: [0.01, 0.1, 1],\n",
              "                         &#x27;lr__solver&#x27;: [&#x27;lbfgs&#x27;, &#x27;sag&#x27;, &#x27;saga&#x27;]},\n",
              "             verbose=1)</pre><b>In a Jupyter environment, please rerun this cell to show the HTML representation or trust the notebook. <br />On GitHub, the HTML representation is unable to render, please try loading this page with nbviewer.org.</b></div><div class=\"sk-container\" hidden><div class=\"sk-item sk-dashed-wrapped\"><div class=\"sk-label-container\"><div class=\"sk-label sk-toggleable\"><input class=\"sk-toggleable__control sk-hidden--visually\" id=\"sk-estimator-id-1\" type=\"checkbox\" ><label for=\"sk-estimator-id-1\" class=\"sk-toggleable__label sk-toggleable__label-arrow\">GridSearchCV</label><div class=\"sk-toggleable__content\"><pre>GridSearchCV(cv=5,\n",
              "             estimator=Pipeline(steps=[(&#x27;lr&#x27;,\n",
              "                                        LogisticRegression(max_iter=500,\n",
              "                                                           random_state=42))]),\n",
              "             param_grid={&#x27;lr__C&#x27;: [0.01, 0.1, 1],\n",
              "                         &#x27;lr__solver&#x27;: [&#x27;lbfgs&#x27;, &#x27;sag&#x27;, &#x27;saga&#x27;]},\n",
              "             verbose=1)</pre></div></div></div><div class=\"sk-parallel\"><div class=\"sk-parallel-item\"><div class=\"sk-item\"><div class=\"sk-label-container\"><div class=\"sk-label sk-toggleable\"><input class=\"sk-toggleable__control sk-hidden--visually\" id=\"sk-estimator-id-2\" type=\"checkbox\" ><label for=\"sk-estimator-id-2\" class=\"sk-toggleable__label sk-toggleable__label-arrow\">estimator: Pipeline</label><div class=\"sk-toggleable__content\"><pre>Pipeline(steps=[(&#x27;lr&#x27;, LogisticRegression(max_iter=500, random_state=42))])</pre></div></div></div><div class=\"sk-serial\"><div class=\"sk-item\"><div class=\"sk-serial\"><div class=\"sk-item\"><div class=\"sk-estimator sk-toggleable\"><input class=\"sk-toggleable__control sk-hidden--visually\" id=\"sk-estimator-id-3\" type=\"checkbox\" ><label for=\"sk-estimator-id-3\" class=\"sk-toggleable__label sk-toggleable__label-arrow\">LogisticRegression</label><div class=\"sk-toggleable__content\"><pre>LogisticRegression(max_iter=500, random_state=42)</pre></div></div></div></div></div></div></div></div></div></div></div></div>"
            ]
          },
          "metadata": {},
          "execution_count": 28
        }
      ],
      "source": [
        "from sklearn.pipeline import Pipeline\n",
        "from sklearn.model_selection import GridSearchCV\n",
        "\n",
        "lr_tfidf = LogisticRegression(random_state=42, max_iter=500)\n",
        "\n",
        "param_grid = {\n",
        "    'lr__C': [0.01, 0.1, 1],\n",
        "    'lr__solver': ['lbfgs', 'sag', 'saga']\n",
        "}\n",
        "\n",
        "pipe_tfidf = Pipeline([\n",
        "    ('lr', lr_tfidf)\n",
        "])\n",
        "\n",
        "grid_tfidf = GridSearchCV(pipe_tfidf, param_grid, cv=5, verbose=1)\n",
        "grid_tfidf.fit(X_tfidf_train, y_tfidf_train)"
      ]
    },
    {
      "cell_type": "code",
      "execution_count": 29,
      "id": "6f848210",
      "metadata": {
        "id": "6f848210",
        "outputId": "bb9089ca-144e-4c70-e310-1a2b90590329",
        "colab": {
          "base_uri": "https://localhost:8080/"
        }
      },
      "outputs": [
        {
          "output_type": "stream",
          "name": "stdout",
          "text": [
            "[[0.00207224 0.00401325 0.00343693 ... 0.00283323 0.00438541 0.00182285]\n",
            " [0.00611865 0.0347089  0.00466466 ... 0.00459389 0.00612915 0.01037654]\n",
            " [0.01346605 0.01143129 0.00372849 ... 0.00349264 0.00725666 0.01100811]\n",
            " ...\n",
            " [0.02916982 0.02864312 0.0172894  ... 0.02399823 0.03120611 0.07791504]\n",
            " [0.04498722 0.04528478 0.04023442 ... 0.04866231 0.01852917 0.00982629]\n",
            " [0.0203906  0.00807064 0.01425314 ... 0.01245921 0.02793623 0.02647252]]\n",
            "[15 16 14 ... 24  4 11]\n"
          ]
        }
      ],
      "source": [
        "lr_tfidf_predicted = grid_tfidf.predict(X_tfidf_test)\n",
        "lr_tfidf_proba = grid_tfidf.predict_proba(X_tfidf_test)\n",
        "print(lr_tfidf_proba)\n",
        "print(lr_tfidf_predicted)"
      ]
    },
    {
      "cell_type": "code",
      "execution_count": 33,
      "id": "001257a1",
      "metadata": {
        "id": "001257a1"
      },
      "outputs": [],
      "source": [
        "def plot_confusion_matrix(y_true, y_pred, normalize=False, title=None):\n",
        "    data = confusion_matrix(y_true, y_pred)\n",
        "    if normalize:\n",
        "        data = data.astype('float') / data.sum(axis=1)[:, np.newaxis]\n",
        "    df_cm = pd.DataFrame(data, index=np.unique(y_true), columns=np.unique(y_true))\n",
        "    df_cm.index.name = 'Actual'\n",
        "    df_cm.columns.name = 'Predicted'\n",
        "    plt.figure(figsize=(10, 7))\n",
        "    if title:\n",
        "        plt.title(title)\n",
        "    else:\n",
        "        plt.title(\"Confusion Matrix\")\n",
        "    sn.set(font_scale=1.4)\n",
        "    sn.heatmap(df_cm, cmap='Reds')\n",
        "\n",
        "def output_metrics(y_true, y_pred, normalize_cm=False, title_cm=None):\n",
        "    \"\"\"Output metrics for a model:\n",
        "    - accuracy\n",
        "    - (normalized) confusion matrix\n",
        "    \"\"\"\n",
        "    report = classification_report(y_true, y_pred, output_dict=True)\n",
        "    macro_avg = report['macro avg']\n",
        "    weighted_avg = report['weighted avg']\n",
        "\n",
        "    print('Balanced Accuracy:', balanced_accuracy_score(y_true, y_pred))\n",
        "    print('Accuracy:', report['accuracy'])\n",
        "    print('\\t\\t precision\\t\\t recall\\t\\t\\t f1-score\\t\\t support')\n",
        "    print('Macro Avg: \\t {}\\t {}\\t {}\\t {}'.format(\n",
        "        macro_avg['precision'], macro_avg['recall'], macro_avg['f1-score'], macro_avg['support']))\n",
        "    print('Weighted Avg: \\t {}\\t {}\\t {}\\t {}'.format(\n",
        "        weighted_avg['precision'], weighted_avg['recall'], weighted_avg['f1-score'], weighted_avg['support']))\n",
        "    plot_confusion_matrix(y_true, y_pred, normalize=normalize_cm, title=title_cm)\n"
      ]
    },
    {
      "cell_type": "code",
      "execution_count": 36,
      "id": "63a0d67e",
      "metadata": {
        "id": "63a0d67e",
        "outputId": "a5680416-f6d7-495e-99de-db4f0413cf5f",
        "colab": {
          "base_uri": "https://localhost:8080/",
          "height": 753
        }
      },
      "outputs": [
        {
          "output_type": "stream",
          "name": "stdout",
          "text": [
            "Balanced Accuracy: 0.6889095481290491\n",
            "Accuracy: 0.6879059829059829\n",
            "\t\t precision\t\t recall\t\t\t f1-score\t\t support\n",
            "Macro Avg: \t 0.6888947472661295\t 0.6889095481290491\t 0.6875384220081421\t 23400\n",
            "Weighted Avg: \t 0.6886604619389824\t 0.6879059829059829\t 0.6869252243616304\t 23400\n"
          ]
        },
        {
          "output_type": "display_data",
          "data": {
            "text/plain": [
              "<Figure size 1000x700 with 2 Axes>"
            ],
            "image/png": "[encoded data removed]"
          },
          "metadata": {}
        }
      ],
      "source": [
        "output_metrics(y_tfidf_test, lr_tfidf_predicted, normalize_cm=True, title_cm='Logistic Regression (TF-IDF Vectors) Confusion Matrix')"
      ]
    },
    {
      "cell_type": "code",
      "source": [],
      "metadata": {
        "id": "OP6AdyS9Wk8I"
      },
      "id": "OP6AdyS9Wk8I",
      "execution_count": null,
      "outputs": []
    }
  ],
  "metadata": {
    "kernelspec": {
      "display_name": "Python 3 (ipykernel)",
      "language": "python",
      "name": "python3"
    },
    "language_info": {
      "codemirror_mode": {
        "name": "ipython",
        "version": 3
      },
      "file_extension": ".py",
      "mimetype": "text/x-python",
      "name": "python",
      "nbconvert_exporter": "python",
      "pygments_lexer": "ipython3",
      "version": "3.9.12"
    },
    "colab": {
      "provenance": []
    }
  },
  "nbformat": 4,
  "nbformat_minor": 5
}