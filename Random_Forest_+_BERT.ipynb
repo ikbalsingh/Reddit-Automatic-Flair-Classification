{
  "cells": [
    {
      "cell_type": "code",
      "execution_count": 1,
      "id": "b7a11391",
      "metadata": {
        "id": "b7a11391"
      },
      "outputs": [],
      "source": [
        "from collections import defaultdict, Counter\n",
        "from tqdm import tqdm_notebook as tqdm\n",
        "import numpy as np\n",
        "import pandas as pd\n",
        "import scipy.stats\n",
        "import seaborn as sn\n",
        "import nltk\n",
        "from nltk.corpus import stopwords\n",
        "from sklearn import preprocessing\n",
        "from sklearn.model_selection import train_test_split\n",
        "from sklearn.linear_model import LogisticRegression\n",
        "from sklearn.metrics import accuracy_score\n",
        "from sklearn.metrics import confusion_matrix\n",
        "from sklearn.metrics import classification_report\n",
        "from sklearn.metrics import balanced_accuracy_score\n",
        "\n",
        "import matplotlib.pyplot as plt\n",
        "%matplotlib inline"
      ]
    },
    {
      "cell_type": "code",
      "execution_count": 6,
      "id": "d1e6eaba",
      "metadata": {
        "colab": {
          "base_uri": "https://localhost:8080/",
          "height": 597
        },
        "id": "d1e6eaba",
        "outputId": "a5f9c469-d549-4842-8832-25dbd1c85985"
      },
      "outputs": [
        {
          "output_type": "execute_result",
          "data": {
            "text/plain": [
              "            id             subreddit  \\\n",
              "0       4ra2z6              Throwers   \n",
              "1       6dkhwl       weddingplanning   \n",
              "2       5jzfbj             redditdev   \n",
              "3       6680x8               csshelp   \n",
              "4       4tadox        StrangerThings   \n",
              "...        ...                   ...   \n",
              "116995  6cum56         LearnJapanese   \n",
              "116996  6dud8e            HotPeppers   \n",
              "116997  4nyacs            Warmachine   \n",
              "116998  66y8wp  TalesFromThePizzaGuy   \n",
              "116999  75nct0             pesmobile   \n",
              "\n",
              "                                                    title  \\\n",
              "0                                new to this (vibrations)   \n",
              "1         vendor and photographer issues and frustrations   \n",
              "2       [praw 360] test if comment is top level ?  or ...   \n",
              "3       in /r/modern_hp_theme (a test subreddit) how c...   \n",
              "4                  mr wheeler stole every scene he was in   \n",
              "...                                                   ...   \n",
              "116995  i'm having trouble reading the number 七十一万四千 w...   \n",
              "116996                       my reaper seeds won't sprout   \n",
              "116997                         what happened to skorne ?    \n",
              "116998  \"\"\"ma'am i know you're lying right now enjoy y...   \n",
              "116999                       new event superstar gameplay   \n",
              "\n",
              "                                                 selftext              genre  \n",
              "0       \"i recently got back into yoyos last time i ha...              hobby  \n",
              "1       \"your stories and advice are most certainly we...  sex/relationships  \n",
              "2       \"i mod a sub that is looking into adding a rul...               meta  \n",
              "3       \"/r/modern_hp_theme    space:nowrap;color:#666...        programming  \n",
              "4       \"\"\"what did i do ?  what did iiiiiiiii doooooo...            tv_show  \n",
              "...                                                   ...                ...  \n",
              "116995  what throws me off is the 七十一 at the beginning...          education  \n",
              "116996  i'm using the damp towel in plastic bag method...         food/drink  \n",
              "116997  \"so i have no idea what happened to other fact...         board_game  \n",
              "116998  \"last week we were stupid slow all day and thi...    writing/stories  \n",
              "116999  anyone feels that this difficulty is kinda eas...         video_game  \n",
              "\n",
              "[117000 rows x 5 columns]"
            ],
            "text/html": [
              "\n",
              "  <div id=\"df-294eb1e2-8888-4c9e-b808-cc34bf22f965\" class=\"colab-df-container\">\n",
              "    <div>\n",
              "<style scoped>\n",
              "    .dataframe tbody tr th:only-of-type {\n",
              "        vertical-align: middle;\n",
              "    }\n",
              "\n",
              "    .dataframe tbody tr th {\n",
              "        vertical-align: top;\n",
              "    }\n",
              "\n",
              "    .dataframe thead th {\n",
              "        text-align: right;\n",
              "    }\n",
              "</style>\n",
              "<table border=\"1\" class=\"dataframe\">\n",
              "  <thead>\n",
              "    <tr style=\"text-align: right;\">\n",
              "      <th></th>\n",
              "      <th>id</th>\n",
              "      <th>subreddit</th>\n",
              "      <th>title</th>\n",
              "      <th>selftext</th>\n",
              "      <th>genre</th>\n",
              "    </tr>\n",
              "  </thead>\n",
              "  <tbody>\n",
              "    <tr>\n",
              "      <th>0</th>\n",
              "      <td>4ra2z6</td>\n",
              "      <td>Throwers</td>\n",
              "      <td>new to this (vibrations)</td>\n",
              "      <td>\"i recently got back into yoyos last time i ha...</td>\n",
              "      <td>hobby</td>\n",
              "    </tr>\n",
              "    <tr>\n",
              "      <th>1</th>\n",
              "      <td>6dkhwl</td>\n",
              "      <td>weddingplanning</td>\n",
              "      <td>vendor and photographer issues and frustrations</td>\n",
              "      <td>\"your stories and advice are most certainly we...</td>\n",
              "      <td>sex/relationships</td>\n",
              "    </tr>\n",
              "    <tr>\n",
              "      <th>2</th>\n",
              "      <td>5jzfbj</td>\n",
              "      <td>redditdev</td>\n",
              "      <td>[praw 360] test if comment is top level ?  or ...</td>\n",
              "      <td>\"i mod a sub that is looking into adding a rul...</td>\n",
              "      <td>meta</td>\n",
              "    </tr>\n",
              "    <tr>\n",
              "      <th>3</th>\n",
              "      <td>6680x8</td>\n",
              "      <td>csshelp</td>\n",
              "      <td>in /r/modern_hp_theme (a test subreddit) how c...</td>\n",
              "      <td>\"/r/modern_hp_theme    space:nowrap;color:#666...</td>\n",
              "      <td>programming</td>\n",
              "    </tr>\n",
              "    <tr>\n",
              "      <th>4</th>\n",
              "      <td>4tadox</td>\n",
              "      <td>StrangerThings</td>\n",
              "      <td>mr wheeler stole every scene he was in</td>\n",
              "      <td>\"\"\"what did i do ?  what did iiiiiiiii doooooo...</td>\n",
              "      <td>tv_show</td>\n",
              "    </tr>\n",
              "    <tr>\n",
              "      <th>...</th>\n",
              "      <td>...</td>\n",
              "      <td>...</td>\n",
              "      <td>...</td>\n",
              "      <td>...</td>\n",
              "      <td>...</td>\n",
              "    </tr>\n",
              "    <tr>\n",
              "      <th>116995</th>\n",
              "      <td>6cum56</td>\n",
              "      <td>LearnJapanese</td>\n",
              "      <td>i'm having trouble reading the number 七十一万四千 w...</td>\n",
              "      <td>what throws me off is the 七十一 at the beginning...</td>\n",
              "      <td>education</td>\n",
              "    </tr>\n",
              "    <tr>\n",
              "      <th>116996</th>\n",
              "      <td>6dud8e</td>\n",
              "      <td>HotPeppers</td>\n",
              "      <td>my reaper seeds won't sprout</td>\n",
              "      <td>i'm using the damp towel in plastic bag method...</td>\n",
              "      <td>food/drink</td>\n",
              "    </tr>\n",
              "    <tr>\n",
              "      <th>116997</th>\n",
              "      <td>4nyacs</td>\n",
              "      <td>Warmachine</td>\n",
              "      <td>what happened to skorne ?</td>\n",
              "      <td>\"so i have no idea what happened to other fact...</td>\n",
              "      <td>board_game</td>\n",
              "    </tr>\n",
              "    <tr>\n",
              "      <th>116998</th>\n",
              "      <td>66y8wp</td>\n",
              "      <td>TalesFromThePizzaGuy</td>\n",
              "      <td>\"\"\"ma'am i know you're lying right now enjoy y...</td>\n",
              "      <td>\"last week we were stupid slow all day and thi...</td>\n",
              "      <td>writing/stories</td>\n",
              "    </tr>\n",
              "    <tr>\n",
              "      <th>116999</th>\n",
              "      <td>75nct0</td>\n",
              "      <td>pesmobile</td>\n",
              "      <td>new event superstar gameplay</td>\n",
              "      <td>anyone feels that this difficulty is kinda eas...</td>\n",
              "      <td>video_game</td>\n",
              "    </tr>\n",
              "  </tbody>\n",
              "</table>\n",
              "<p>117000 rows × 5 columns</p>\n",
              "</div>\n",
              "    <div class=\"colab-df-buttons\">\n",
              "\n",
              "  <div class=\"colab-df-container\">\n",
              "    <button class=\"colab-df-convert\" onclick=\"convertToInteractive('df-294eb1e2-8888-4c9e-b808-cc34bf22f965')\"\n",
              "            title=\"Convert this dataframe to an interactive table.\"\n",
              "            style=\"display:none;\">\n",
              "\n",
              "  <svg xmlns=\"http://www.w3.org/2000/svg\" height=\"24px\" viewBox=\"0 -960 960 960\">\n",
              "    <path d=\"M120-120v-720h720v720H120Zm60-500h600v-160H180v160Zm220 220h160v-160H400v160Zm0 220h160v-160H400v160ZM180-400h160v-160H180v160Zm440 0h160v-160H620v160ZM180-180h160v-160H180v160Zm440 0h160v-160H620v160Z\"/>\n",
              "  </svg>\n",
              "    </button>\n",
              "\n",
              "  <style>\n",
              "    .colab-df-container {\n",
              "      display:flex;\n",
              "      gap: 12px;\n",
              "    }\n",
              "\n",
              "    .colab-df-convert {\n",
              "      background-color: #E8F0FE;\n",
              "      border: none;\n",
              "      border-radius: 50%;\n",
              "      cursor: pointer;\n",
              "      display: none;\n",
              "      fill: #1967D2;\n",
              "      height: 32px;\n",
              "      padding: 0 0 0 0;\n",
              "      width: 32px;\n",
              "    }\n",
              "\n",
              "    .colab-df-convert:hover {\n",
              "      background-color: #E2EBFA;\n",
              "      box-shadow: 0px 1px 2px rgba(60, 64, 67, 0.3), 0px 1px 3px 1px rgba(60, 64, 67, 0.15);\n",
              "      fill: #174EA6;\n",
              "    }\n",
              "\n",
              "    .colab-df-buttons div {\n",
              "      margin-bottom: 4px;\n",
              "    }\n",
              "\n",
              "    [theme=dark] .colab-df-convert {\n",
              "      background-color: #3B4455;\n",
              "      fill: #D2E3FC;\n",
              "    }\n",
              "\n",
              "    [theme=dark] .colab-df-convert:hover {\n",
              "      background-color: #434B5C;\n",
              "      box-shadow: 0px 1px 3px 1px rgba(0, 0, 0, 0.15);\n",
              "      filter: drop-shadow(0px 1px 2px rgba(0, 0, 0, 0.3));\n",
              "      fill: #FFFFFF;\n",
              "    }\n",
              "  </style>\n",
              "\n",
              "    <script>\n",
              "      const buttonEl =\n",
              "        document.querySelector('#df-294eb1e2-8888-4c9e-b808-cc34bf22f965 button.colab-df-convert');\n",
              "      buttonEl.style.display =\n",
              "        google.colab.kernel.accessAllowed ? 'block' : 'none';\n",
              "\n",
              "      async function convertToInteractive(key) {\n",
              "        const element = document.querySelector('#df-294eb1e2-8888-4c9e-b808-cc34bf22f965');\n",
              "        const dataTable =\n",
              "          await google.colab.kernel.invokeFunction('convertToInteractive',\n",
              "                                                    [key], {});\n",
              "        if (!dataTable) return;\n",
              "\n",
              "        const docLinkHtml = 'Like what you see? Visit the ' +\n",
              "          '<a target=\"_blank\" href=https://colab.research.google.com/notebooks/data_table.ipynb>data table notebook</a>'\n",
              "          + ' to learn more about interactive tables.';\n",
              "        element.innerHTML = '';\n",
              "        dataTable['output_type'] = 'display_data';\n",
              "        await google.colab.output.renderOutput(dataTable, element);\n",
              "        const docLink = document.createElement('div');\n",
              "        docLink.innerHTML = docLinkHtml;\n",
              "        element.appendChild(docLink);\n",
              "      }\n",
              "    </script>\n",
              "  </div>\n",
              "\n",
              "\n",
              "<div id=\"df-7850f3e6-0762-4a0e-a65c-6d5dcb6427ba\">\n",
              "  <button class=\"colab-df-quickchart\" onclick=\"quickchart('df-7850f3e6-0762-4a0e-a65c-6d5dcb6427ba')\"\n",
              "            title=\"Suggest charts\"\n",
              "            style=\"display:none;\">\n",
              "\n",
              "<svg xmlns=\"http://www.w3.org/2000/svg\" height=\"24px\"viewBox=\"0 0 24 24\"\n",
              "     width=\"24px\">\n",
              "    <g>\n",
              "        <path d=\"M19 3H5c-1.1 0-2 .9-2 2v14c0 1.1.9 2 2 2h14c1.1 0 2-.9 2-2V5c0-1.1-.9-2-2-2zM9 17H7v-7h2v7zm4 0h-2V7h2v10zm4 0h-2v-4h2v4z\"/>\n",
              "    </g>\n",
              "</svg>\n",
              "  </button>\n",
              "\n",
              "<style>\n",
              "  .colab-df-quickchart {\n",
              "      --bg-color: #E8F0FE;\n",
              "      --fill-color: #1967D2;\n",
              "      --hover-bg-color: #E2EBFA;\n",
              "      --hover-fill-color: #174EA6;\n",
              "      --disabled-fill-color: #AAA;\n",
              "      --disabled-bg-color: #DDD;\n",
              "  }\n",
              "\n",
              "  [theme=dark] .colab-df-quickchart {\n",
              "      --bg-color: #3B4455;\n",
              "      --fill-color: #D2E3FC;\n",
              "      --hover-bg-color: #434B5C;\n",
              "      --hover-fill-color: #FFFFFF;\n",
              "      --disabled-bg-color: #3B4455;\n",
              "      --disabled-fill-color: #666;\n",
              "  }\n",
              "\n",
              "  .colab-df-quickchart {\n",
              "    background-color: var(--bg-color);\n",
              "    border: none;\n",
              "    border-radius: 50%;\n",
              "    cursor: pointer;\n",
              "    display: none;\n",
              "    fill: var(--fill-color);\n",
              "    height: 32px;\n",
              "    padding: 0;\n",
              "    width: 32px;\n",
              "  }\n",
              "\n",
              "  .colab-df-quickchart:hover {\n",
              "    background-color: var(--hover-bg-color);\n",
              "    box-shadow: 0 1px 2px rgba(60, 64, 67, 0.3), 0 1px 3px 1px rgba(60, 64, 67, 0.15);\n",
              "    fill: var(--button-hover-fill-color);\n",
              "  }\n",
              "\n",
              "  .colab-df-quickchart-complete:disabled,\n",
              "  .colab-df-quickchart-complete:disabled:hover {\n",
              "    background-color: var(--disabled-bg-color);\n",
              "    fill: var(--disabled-fill-color);\n",
              "    box-shadow: none;\n",
              "  }\n",
              "\n",
              "  .colab-df-spinner {\n",
              "    border: 2px solid var(--fill-color);\n",
              "    border-color: transparent;\n",
              "    border-bottom-color: var(--fill-color);\n",
              "    animation:\n",
              "      spin 1s steps(1) infinite;\n",
              "  }\n",
              "\n",
              "  @keyframes spin {\n",
              "    0% {\n",
              "      border-color: transparent;\n",
              "      border-bottom-color: var(--fill-color);\n",
              "      border-left-color: var(--fill-color);\n",
              "    }\n",
              "    20% {\n",
              "      border-color: transparent;\n",
              "      border-left-color: var(--fill-color);\n",
              "      border-top-color: var(--fill-color);\n",
              "    }\n",
              "    30% {\n",
              "      border-color: transparent;\n",
              "      border-left-color: var(--fill-color);\n",
              "      border-top-color: var(--fill-color);\n",
              "      border-right-color: var(--fill-color);\n",
              "    }\n",
              "    40% {\n",
              "      border-color: transparent;\n",
              "      border-right-color: var(--fill-color);\n",
              "      border-top-color: var(--fill-color);\n",
              "    }\n",
              "    60% {\n",
              "      border-color: transparent;\n",
              "      border-right-color: var(--fill-color);\n",
              "    }\n",
              "    80% {\n",
              "      border-color: transparent;\n",
              "      border-right-color: var(--fill-color);\n",
              "      border-bottom-color: var(--fill-color);\n",
              "    }\n",
              "    90% {\n",
              "      border-color: transparent;\n",
              "      border-bottom-color: var(--fill-color);\n",
              "    }\n",
              "  }\n",
              "</style>\n",
              "\n",
              "  <script>\n",
              "    async function quickchart(key) {\n",
              "      const quickchartButtonEl =\n",
              "        document.querySelector('#' + key + ' button');\n",
              "      quickchartButtonEl.disabled = true;  // To prevent multiple clicks.\n",
              "      quickchartButtonEl.classList.add('colab-df-spinner');\n",
              "      try {\n",
              "        const charts = await google.colab.kernel.invokeFunction(\n",
              "            'suggestCharts', [key], {});\n",
              "      } catch (error) {\n",
              "        console.error('Error during call to suggestCharts:', error);\n",
              "      }\n",
              "      quickchartButtonEl.classList.remove('colab-df-spinner');\n",
              "      quickchartButtonEl.classList.add('colab-df-quickchart-complete');\n",
              "    }\n",
              "    (() => {\n",
              "      let quickchartButtonEl =\n",
              "        document.querySelector('#df-7850f3e6-0762-4a0e-a65c-6d5dcb6427ba button');\n",
              "      quickchartButtonEl.style.display =\n",
              "        google.colab.kernel.accessAllowed ? 'block' : 'none';\n",
              "    })();\n",
              "  </script>\n",
              "</div>\n",
              "\n",
              "  <div id=\"id_471ab204-099a-41ed-844e-f7ffbc1ff1a8\">\n",
              "    <style>\n",
              "      .colab-df-generate {\n",
              "        background-color: #E8F0FE;\n",
              "        border: none;\n",
              "        border-radius: 50%;\n",
              "        cursor: pointer;\n",
              "        display: none;\n",
              "        fill: #1967D2;\n",
              "        height: 32px;\n",
              "        padding: 0 0 0 0;\n",
              "        width: 32px;\n",
              "      }\n",
              "\n",
              "      .colab-df-generate:hover {\n",
              "        background-color: #E2EBFA;\n",
              "        box-shadow: 0px 1px 2px rgba(60, 64, 67, 0.3), 0px 1px 3px 1px rgba(60, 64, 67, 0.15);\n",
              "        fill: #174EA6;\n",
              "      }\n",
              "\n",
              "      [theme=dark] .colab-df-generate {\n",
              "        background-color: #3B4455;\n",
              "        fill: #D2E3FC;\n",
              "      }\n",
              "\n",
              "      [theme=dark] .colab-df-generate:hover {\n",
              "        background-color: #434B5C;\n",
              "        box-shadow: 0px 1px 3px 1px rgba(0, 0, 0, 0.15);\n",
              "        filter: drop-shadow(0px 1px 2px rgba(0, 0, 0, 0.3));\n",
              "        fill: #FFFFFF;\n",
              "      }\n",
              "    </style>\n",
              "    <button class=\"colab-df-generate\" onclick=\"generateWithVariable('main_df_sampled')\"\n",
              "            title=\"Generate code using this dataframe.\"\n",
              "            style=\"display:none;\">\n",
              "\n",
              "  <svg xmlns=\"http://www.w3.org/2000/svg\" height=\"24px\"viewBox=\"0 0 24 24\"\n",
              "       width=\"24px\">\n",
              "    <path d=\"M7,19H8.4L18.45,9,17,7.55,7,17.6ZM5,21V16.75L18.45,3.32a2,2,0,0,1,2.83,0l1.4,1.43a1.91,1.91,0,0,1,.58,1.4,1.91,1.91,0,0,1-.58,1.4L9.25,21ZM18.45,9,17,7.55Zm-12,3A5.31,5.31,0,0,0,4.9,8.1,5.31,5.31,0,0,0,1,6.5,5.31,5.31,0,0,0,4.9,4.9,5.31,5.31,0,0,0,6.5,1,5.31,5.31,0,0,0,8.1,4.9,5.31,5.31,0,0,0,12,6.5,5.46,5.46,0,0,0,6.5,12Z\"/>\n",
              "  </svg>\n",
              "    </button>\n",
              "    <script>\n",
              "      (() => {\n",
              "      const buttonEl =\n",
              "        document.querySelector('#id_471ab204-099a-41ed-844e-f7ffbc1ff1a8 button.colab-df-generate');\n",
              "      buttonEl.style.display =\n",
              "        google.colab.kernel.accessAllowed ? 'block' : 'none';\n",
              "\n",
              "      buttonEl.onclick = () => {\n",
              "        google.colab.notebook.generateWithVariable('main_df_sampled');\n",
              "      }\n",
              "      })();\n",
              "    </script>\n",
              "  </div>\n",
              "\n",
              "    </div>\n",
              "  </div>\n"
            ],
            "application/vnd.google.colaboratory.intrinsic+json": {
              "type": "dataframe",
              "variable_name": "main_df_sampled"
            }
          },
          "metadata": {},
          "execution_count": 6
        }
      ],
      "source": [
        "main_df_sampled = pd.read_pickle('main_df_sampled.pickle')\n",
        "main_df_sampled"
      ]
    },
    {
      "cell_type": "code",
      "execution_count": 7,
      "id": "c6faacb4",
      "metadata": {
        "colab": {
          "base_uri": "https://localhost:8080/"
        },
        "id": "c6faacb4",
        "outputId": "0711308e-5f7a-4ddf-9825-e8bb43c3f343"
      },
      "outputs": [
        {
          "output_type": "stream",
          "name": "stdout",
          "text": [
            "Number of genres: 39\n"
          ]
        }
      ],
      "source": [
        "genres = sorted(main_df_sampled['genre'].unique().tolist()) # this has to be sorted to match up with lstm model\n",
        "\n",
        "print('Number of genres:', len(genres))"
      ]
    },
    {
      "cell_type": "code",
      "execution_count": 8,
      "id": "22c4135f",
      "metadata": {
        "colab": {
          "base_uri": "https://localhost:8080/"
        },
        "id": "22c4135f",
        "outputId": "a57f08bd-46ff-4a92-d94a-e49c31fd8979"
      },
      "outputs": [
        {
          "output_type": "stream",
          "name": "stdout",
          "text": [
            "DescribeResult(nobs=39, minmax=(3000, 3000), mean=3000.0, variance=0.0, skewness=nan, kurtosis=nan)\n",
            "                          0\n",
            "advice/question        3000\n",
            "animals                3000\n",
            "anime/manga            3000\n",
            "appearance             3000\n",
            "arts                   3000\n",
            "autos                  3000\n",
            "board_game             3000\n",
            "books                  3000\n",
            "card_game              3000\n",
            "company/website        3000\n",
            "crypto                 3000\n",
            "drugs                  3000\n",
            "education              3000\n",
            "electronics            3000\n",
            "finance/money          3000\n",
            "food/drink             3000\n",
            "geo                    3000\n",
            "hardware/tools         3000\n",
            "health                 3000\n",
            "hobby                  3000\n",
            "meta                   3000\n",
            "movies                 3000\n",
            "music                  3000\n",
            "other                  3000\n",
            "parenting              3000\n",
            "politics/viewpoint     3000\n",
            "profession             3000\n",
            "programming            3000\n",
            "religion/supernatural  3000\n",
            "rpg                    3000\n",
            "sex/relationships      3000\n",
            "social_group           3000\n",
            "software               3000\n",
            "sports                 3000\n",
            "stem                   3000\n",
            "travel                 3000\n",
            "tv_show                3000\n",
            "video_game             3000\n",
            "writing/stories        3000\n"
          ]
        },
        {
          "output_type": "stream",
          "name": "stderr",
          "text": [
            "<ipython-input-8-d6794b4f31c7>:9: RuntimeWarning: Precision loss occurred in moment calculation due to catastrophic cancellation. This occurs when the data are nearly identical. Results may be unreliable.\n",
            "  print(scipy.stats.describe(list(frequencies.values())))\n",
            "/usr/local/lib/python3.10/dist-packages/scipy/stats/_stats_py.py:1405: RuntimeWarning: Precision loss occurred in moment calculation due to catastrophic cancellation. This occurs when the data are nearly identical. Results may be unreliable.\n",
            "  sk = skew(a, axis, bias=bias)\n",
            "/usr/local/lib/python3.10/dist-packages/scipy/stats/_stats_py.py:1406: RuntimeWarning: Precision loss occurred in moment calculation due to catastrophic cancellation. This occurs when the data are nearly identical. Results may be unreliable.\n",
            "  kurt = kurtosis(a, axis, bias=bias)\n"
          ]
        }
      ],
      "source": [
        "# Get frequencies of each subreddit using efficient pandas filtering.\n",
        "frequencies = defaultdict(int)\n",
        "for genre in genres:\n",
        "    frequencies[genre] = len(main_df_sampled.loc[main_df_sampled['genre'] == genre])\n",
        "\n",
        "frequencies_df = pd.DataFrame([frequencies])\n",
        "frequencies_df = frequencies_df.T\n",
        "\n",
        "print(scipy.stats.describe(list(frequencies.values())))\n",
        "print(frequencies_df)"
      ]
    },
    {
      "cell_type": "code",
      "execution_count": 9,
      "id": "29e31474",
      "metadata": {
        "colab": {
          "base_uri": "https://localhost:8080/"
        },
        "id": "29e31474",
        "outputId": "55ace904-fe93-4bea-f058-2990f3d457f6"
      },
      "outputs": [
        {
          "output_type": "stream",
          "name": "stderr",
          "text": [
            "[nltk_data] Downloading package stopwords to /root/nltk_data...\n",
            "[nltk_data]   Package stopwords is already up-to-date!\n"
          ]
        }
      ],
      "source": [
        "import nltk\n",
        "nltk.download('stopwords')\n",
        "stop = set(stopwords.words('english'))"
      ]
    },
    {
      "cell_type": "code",
      "source": [],
      "metadata": {
        "colab": {
          "base_uri": "https://localhost:8080/"
        },
        "id": "8MFVmdlVTvWj",
        "outputId": "1520a280-93be-4321-b6ea-e8b4edd6d5d7"
      },
      "id": "8MFVmdlVTvWj",
      "execution_count": 11,
      "outputs": [
        {
          "output_type": "stream",
          "name": "stdout",
          "text": [
            "True\n"
          ]
        }
      ]
    },
    {
      "cell_type": "code",
      "execution_count": 16,
      "id": "952db922",
      "metadata": {
        "colab": {
          "base_uri": "https://localhost:8080/"
        },
        "id": "952db922",
        "outputId": "7e89bfba-acba-4493-9e2b-3658c6a20d5f"
      },
      "outputs": [
        {
          "output_type": "stream",
          "name": "stderr",
          "text": [
            "100%|██████████| 117000/117000 [24:31<00:00, 79.53it/s]\n",
            "/usr/local/lib/python3.10/dist-packages/sklearn/preprocessing/_data.py:240: UserWarning: Numerical issues were encountered when centering the data and might not be solved. Dataset may contain too large values. You may need to prescale your features.\n",
            "  warnings.warn(\n",
            "/usr/local/lib/python3.10/dist-packages/sklearn/preprocessing/_data.py:259: UserWarning: Numerical issues were encountered when scaling the data and might not be solved. The standard deviation of the data is probably very close to 0. \n",
            "  warnings.warn(\n"
          ]
        }
      ],
      "source": [
        "import torch\n",
        "from transformers import BertTokenizer, BertModel\n",
        "from tqdm import tqdm\n",
        "\n",
        "device = torch.device(\"cuda\" if torch.cuda.is_available() else \"cpu\")\n",
        "\n",
        "# Load pre-trained model tokenizer\n",
        "tokenizer = BertTokenizer.from_pretrained('bert-base-uncased')\n",
        "\n",
        "# Load pre-trained model (weights)\n",
        "model = BertModel.from_pretrained('bert-base-uncased')\n",
        "model = model.to(device)  # Move model to GPU if available\n",
        "model.eval()\n",
        "\n",
        "def get_bert_embeddings(text):\n",
        "    marked_text = \"[CLS] \" + text + \" [SEP]\"\n",
        "    tokenized_text = tokenizer.tokenize(marked_text)\n",
        "    segment_length = 512  # Maximum segment length\n",
        "    tokenized_segments = [tokenized_text[i:i+segment_length] for i in range(0, len(tokenized_text), segment_length)]\n",
        "\n",
        "    segment_embeddings = []\n",
        "    for segment in tokenized_segments:\n",
        "        indexed_tokens = tokenizer.convert_tokens_to_ids(segment)\n",
        "        segments_ids = [1] * len(segment)\n",
        "\n",
        "        tokens_tensor = torch.tensor([indexed_tokens])\n",
        "        segments_tensors = torch.tensor([segments_ids])\n",
        "        tokens_tensor = tokens_tensor.to(device)\n",
        "        segments_tensors = segments_tensors.to(device)\n",
        "        with torch.no_grad():\n",
        "            outputs = model(tokens_tensor, segments_tensors)\n",
        "            encoded_layers = outputs[0]\n",
        "\n",
        "        token_embeddings = torch.squeeze(encoded_layers, dim=0)\n",
        "        segment_embedding = torch.mean(token_embeddings, dim=0)\n",
        "        segment_embeddings.append(segment_embedding)\n",
        "\n",
        "    # Combine segment embeddings\n",
        "    combined_embedding = torch.mean(torch.stack(segment_embeddings), dim=0)\n",
        "    return combined_embedding.cpu().numpy()  # Move back to CPU\n",
        "\n",
        "X_bert = []\n",
        "\n",
        "for i in tqdm(range(len(main_df_sampled))):\n",
        "    title = main_df_sampled['title'][i]\n",
        "    selftext = main_df_sampled['selftext'][i]\n",
        "    text = title + \" \" + selftext\n",
        "    X_bert.append(get_bert_embeddings(text))\n",
        "\n",
        "X_bert = np.array(X_bert)\n",
        "X_bert_scaled = preprocessing.scale(X_bert)"
      ]
    },
    {
      "cell_type": "code",
      "execution_count": 17,
      "id": "95c2e1dc",
      "metadata": {
        "id": "95c2e1dc"
      },
      "outputs": [],
      "source": [
        "bert_embeddings = dict()\n",
        "\n",
        "for i in range(len(main_df_sampled)):\n",
        "    title = main_df_sampled['title'][i]\n",
        "    selftext = main_df_sampled['selftext'][i]\n",
        "    text = title + \" \" + selftext\n",
        "    bert_embeddings[text] = X_bert_scaled[i]"
      ]
    },
    {
      "cell_type": "code",
      "execution_count": 18,
      "id": "bb1e179f",
      "metadata": {
        "id": "bb1e179f"
      },
      "outputs": [],
      "source": [
        "import pickle\n",
        "with open(\"bert_embeddings.pickle\", 'wb') as f:\n",
        "    pickle.dump(bert_embeddings, f)"
      ]
    },
    {
      "cell_type": "code",
      "execution_count": 19,
      "id": "ab6dadc0",
      "metadata": {
        "id": "ab6dadc0"
      },
      "outputs": [],
      "source": [
        "#Loading the data\n",
        "import pickle\n",
        "\n",
        "X_bert_scaled = []\n",
        "\n",
        "with open('bert_embeddings.pickle', 'rb') as f:\n",
        "  embed = pickle.load(f)\n",
        "\n",
        "for i in range(len(main_df_sampled)):\n",
        "    title = main_df_sampled['title'][i]\n",
        "    selftext = main_df_sampled['selftext'][i]\n",
        "    text = title + \" \" + selftext\n",
        "    X_bert_scaled.append(embed[text])"
      ]
    },
    {
      "cell_type": "code",
      "execution_count": 20,
      "id": "3fb9ca1d",
      "metadata": {
        "colab": {
          "base_uri": "https://localhost:8080/"
        },
        "id": "3fb9ca1d",
        "outputId": "941c9258-50cf-43e0-cbb4-2e8b876e55e3"
      },
      "outputs": [
        {
          "output_type": "execute_result",
          "data": {
            "text/plain": [
              "(117000, 768)"
            ]
          },
          "metadata": {},
          "execution_count": 20
        }
      ],
      "source": [
        "X_bert_scaled = np.array(X_bert_scaled)\n",
        "X_bert_scaled.shape"
      ]
    },
    {
      "cell_type": "code",
      "execution_count": 21,
      "id": "8b136bc9",
      "metadata": {
        "colab": {
          "base_uri": "https://localhost:8080/"
        },
        "id": "8b136bc9",
        "outputId": "56f7fbfc-7ec8-4029-c523-52aa5b283235"
      },
      "outputs": [
        {
          "output_type": "stream",
          "name": "stdout",
          "text": [
            "Genre Mapping:\n",
            "{'advice/question': 0, 'animals': 1, 'anime/manga': 2, 'appearance': 3, 'arts': 4, 'autos': 5, 'board_game': 6, 'books': 7, 'card_game': 8, 'company/website': 9, 'crypto': 10, 'drugs': 11, 'education': 12, 'electronics': 13, 'finance/money': 14, 'food/drink': 15, 'geo': 16, 'hardware/tools': 17, 'health': 18, 'hobby': 19, 'meta': 20, 'movies': 21, 'music': 22, 'other': 23, 'parenting': 24, 'politics/viewpoint': 25, 'profession': 26, 'programming': 27, 'religion/supernatural': 28, 'rpg': 29, 'sex/relationships': 30, 'social_group': 31, 'software': 32, 'sports': 33, 'stem': 34, 'travel': 35, 'tv_show': 36, 'video_game': 37, 'writing/stories': 38}\n"
          ]
        }
      ],
      "source": [
        "from sklearn.preprocessing import LabelEncoder\n",
        "\n",
        "y = main_df_sampled['genre'].copy()\n",
        "\n",
        "label_encoder = LabelEncoder()\n",
        "\n",
        "y = label_encoder.fit_transform(y)\n",
        "\n",
        "genre_mapping = dict(zip(label_encoder.classes_, label_encoder.transform(label_encoder.classes_)))\n",
        "print(\"Genre Mapping:\")\n",
        "print(genre_mapping)"
      ]
    },
    {
      "cell_type": "code",
      "execution_count": 22,
      "id": "c4328d96",
      "metadata": {
        "colab": {
          "base_uri": "https://localhost:8080/"
        },
        "id": "c4328d96",
        "outputId": "299eee60-94cb-4591-e719-2abb8055e398"
      },
      "outputs": [
        {
          "output_type": "stream",
          "name": "stdout",
          "text": [
            "(93600, 768) (23400, 768) (93600,) (23400,)\n"
          ]
        }
      ],
      "source": [
        "X_bert_train, X_bert_test, y_bert_train, y_bert_test = train_test_split(X_bert_scaled, y, test_size=0.2, random_state=42)\n",
        "print(X_bert_train.shape, X_bert_test.shape, y_bert_train.shape, y_bert_test.shape)"
      ]
    },
    {
      "cell_type": "markdown",
      "id": "a2c6f3e8",
      "metadata": {
        "id": "a2c6f3e8"
      },
      "source": [
        "## Random Forest with BERT"
      ]
    },
    {
      "cell_type": "code",
      "execution_count": 23,
      "id": "ea088e51",
      "metadata": {
        "colab": {
          "base_uri": "https://localhost:8080/",
          "height": 75
        },
        "id": "ea088e51",
        "outputId": "fef3d7ba-7fd0-46ab-b15b-ce9810d2038f"
      },
      "outputs": [
        {
          "output_type": "execute_result",
          "data": {
            "text/plain": [
              "RandomForestClassifier(max_depth=10, n_estimators=400, random_state=0)"
            ],
            "text/html": [
              "<style>#sk-container-id-1 {color: black;background-color: white;}#sk-container-id-1 pre{padding: 0;}#sk-container-id-1 div.sk-toggleable {background-color: white;}#sk-container-id-1 label.sk-toggleable__label {cursor: pointer;display: block;width: 100%;margin-bottom: 0;padding: 0.3em;box-sizing: border-box;text-align: center;}#sk-container-id-1 label.sk-toggleable__label-arrow:before {content: \"▸\";float: left;margin-right: 0.25em;color: #696969;}#sk-container-id-1 label.sk-toggleable__label-arrow:hover:before {color: black;}#sk-container-id-1 div.sk-estimator:hover label.sk-toggleable__label-arrow:before {color: black;}#sk-container-id-1 div.sk-toggleable__content {max-height: 0;max-width: 0;overflow: hidden;text-align: left;background-color: #f0f8ff;}#sk-container-id-1 div.sk-toggleable__content pre {margin: 0.2em;color: black;border-radius: 0.25em;background-color: #f0f8ff;}#sk-container-id-1 input.sk-toggleable__control:checked~div.sk-toggleable__content {max-height: 200px;max-width: 100%;overflow: auto;}#sk-container-id-1 input.sk-toggleable__control:checked~label.sk-toggleable__label-arrow:before {content: \"▾\";}#sk-container-id-1 div.sk-estimator input.sk-toggleable__control:checked~label.sk-toggleable__label {background-color: #d4ebff;}#sk-container-id-1 div.sk-label input.sk-toggleable__control:checked~label.sk-toggleable__label {background-color: #d4ebff;}#sk-container-id-1 input.sk-hidden--visually {border: 0;clip: rect(1px 1px 1px 1px);clip: rect(1px, 1px, 1px, 1px);height: 1px;margin: -1px;overflow: hidden;padding: 0;position: absolute;width: 1px;}#sk-container-id-1 div.sk-estimator {font-family: monospace;background-color: #f0f8ff;border: 1px dotted black;border-radius: 0.25em;box-sizing: border-box;margin-bottom: 0.5em;}#sk-container-id-1 div.sk-estimator:hover {background-color: #d4ebff;}#sk-container-id-1 div.sk-parallel-item::after {content: \"\";width: 100%;border-bottom: 1px solid gray;flex-grow: 1;}#sk-container-id-1 div.sk-label:hover label.sk-toggleable__label {background-color: #d4ebff;}#sk-container-id-1 div.sk-serial::before {content: \"\";position: absolute;border-left: 1px solid gray;box-sizing: border-box;top: 0;bottom: 0;left: 50%;z-index: 0;}#sk-container-id-1 div.sk-serial {display: flex;flex-direction: column;align-items: center;background-color: white;padding-right: 0.2em;padding-left: 0.2em;position: relative;}#sk-container-id-1 div.sk-item {position: relative;z-index: 1;}#sk-container-id-1 div.sk-parallel {display: flex;align-items: stretch;justify-content: center;background-color: white;position: relative;}#sk-container-id-1 div.sk-item::before, #sk-container-id-1 div.sk-parallel-item::before {content: \"\";position: absolute;border-left: 1px solid gray;box-sizing: border-box;top: 0;bottom: 0;left: 50%;z-index: -1;}#sk-container-id-1 div.sk-parallel-item {display: flex;flex-direction: column;z-index: 1;position: relative;background-color: white;}#sk-container-id-1 div.sk-parallel-item:first-child::after {align-self: flex-end;width: 50%;}#sk-container-id-1 div.sk-parallel-item:last-child::after {align-self: flex-start;width: 50%;}#sk-container-id-1 div.sk-parallel-item:only-child::after {width: 0;}#sk-container-id-1 div.sk-dashed-wrapped {border: 1px dashed gray;margin: 0 0.4em 0.5em 0.4em;box-sizing: border-box;padding-bottom: 0.4em;background-color: white;}#sk-container-id-1 div.sk-label label {font-family: monospace;font-weight: bold;display: inline-block;line-height: 1.2em;}#sk-container-id-1 div.sk-label-container {text-align: center;}#sk-container-id-1 div.sk-container {/* jupyter's `normalize.less` sets `[hidden] { display: none; }` but bootstrap.min.css set `[hidden] { display: none !important; }` so we also need the `!important` here to be able to override the default hidden behavior on the sphinx rendered scikit-learn.org. See: https://github.com/scikit-learn/scikit-learn/issues/21755 */display: inline-block !important;position: relative;}#sk-container-id-1 div.sk-text-repr-fallback {display: none;}</style><div id=\"sk-container-id-1\" class=\"sk-top-container\"><div class=\"sk-text-repr-fallback\"><pre>RandomForestClassifier(max_depth=10, n_estimators=400, random_state=0)</pre><b>In a Jupyter environment, please rerun this cell to show the HTML representation or trust the notebook. <br />On GitHub, the HTML representation is unable to render, please try loading this page with nbviewer.org.</b></div><div class=\"sk-container\" hidden><div class=\"sk-item\"><div class=\"sk-estimator sk-toggleable\"><input class=\"sk-toggleable__control sk-hidden--visually\" id=\"sk-estimator-id-1\" type=\"checkbox\" checked><label for=\"sk-estimator-id-1\" class=\"sk-toggleable__label sk-toggleable__label-arrow\">RandomForestClassifier</label><div class=\"sk-toggleable__content\"><pre>RandomForestClassifier(max_depth=10, n_estimators=400, random_state=0)</pre></div></div></div></div></div>"
            ]
          },
          "metadata": {},
          "execution_count": 23
        }
      ],
      "source": [
        "from sklearn.ensemble import RandomForestClassifier\n",
        "\n",
        "clf = RandomForestClassifier(max_depth=10, random_state=0, n_estimators=400)\n",
        "clf.fit(X_bert_train, y_bert_train)"
      ]
    },
    {
      "cell_type": "code",
      "execution_count": 24,
      "id": "81c29872",
      "metadata": {
        "colab": {
          "base_uri": "https://localhost:8080/"
        },
        "id": "81c29872",
        "outputId": "6a6440ff-893d-4f24-d521-2fc2661be540"
      },
      "outputs": [
        {
          "output_type": "stream",
          "name": "stdout",
          "text": [
            "[[0.02338919 0.02837341 0.01462811 ... 0.01613196 0.01521983 0.01880893]\n",
            " [0.02827523 0.01923983 0.01632339 ... 0.01519432 0.01980689 0.01989917]\n",
            " [0.02776952 0.03007649 0.01189056 ... 0.0124812  0.01756695 0.02023485]\n",
            " ...\n",
            " [0.02233448 0.04730197 0.01557756 ... 0.01893457 0.01430953 0.03129002]\n",
            " [0.02653506 0.02312726 0.02215875 ... 0.01688332 0.02934496 0.02076049]\n",
            " [0.02296378 0.01826214 0.01523347 ... 0.01299123 0.02253064 0.01588976]]\n",
            "[15 12 26 ... 11  4 10]\n"
          ]
        }
      ],
      "source": [
        "rf_bert_predicted = clf.predict(X_bert_test)\n",
        "rf_bert_proba = clf.predict_proba(X_bert_test)\n",
        "print(rf_bert_proba)\n",
        "print(rf_bert_predicted)"
      ]
    },
    {
      "cell_type": "code",
      "execution_count": 25,
      "id": "0ea9b084",
      "metadata": {
        "id": "0ea9b084"
      },
      "outputs": [],
      "source": [
        "def plot_confusion_matrix(y_true, y_pred, normalize=False, title=None):\n",
        "    data = confusion_matrix(y_true, y_pred)\n",
        "    if normalize:\n",
        "        data = data.astype('float') / data.sum(axis=1)[:, np.newaxis]\n",
        "    df_cm = pd.DataFrame(data, index=np.unique(y_true), columns=np.unique(y_true))\n",
        "    df_cm.index.name = 'Actual'\n",
        "    df_cm.columns.name = 'Predicted'\n",
        "    plt.figure(figsize=(10, 7))\n",
        "    if title:\n",
        "        plt.title(title)\n",
        "    else:\n",
        "        plt.title(\"Confusion Matrix\")\n",
        "    sn.set(font_scale=1.4)\n",
        "    sn.heatmap(df_cm, cmap='Reds')\n",
        "\n",
        "def output_metrics(y_true, y_pred, normalize_cm=False, title_cm=None):\n",
        "    \"\"\"Output metrics for a model:\n",
        "    - accuracy\n",
        "    - (normalized) confusion matrix\n",
        "    \"\"\"\n",
        "    report = classification_report(y_true, y_pred, output_dict=True)\n",
        "    macro_avg = report['macro avg']\n",
        "    weighted_avg = report['weighted avg']\n",
        "\n",
        "    print('Balanced Accuracy:', balanced_accuracy_score(y_true, y_pred))\n",
        "    print('Accuracy:', report['accuracy'])\n",
        "    print('\\t\\t precision\\t\\t recall\\t\\t\\t f1-score\\t\\t support')\n",
        "    print('Macro Avg: \\t {}\\t {}\\t {}\\t {}'.format(\n",
        "        macro_avg['precision'], macro_avg['recall'], macro_avg['f1-score'], macro_avg['support']))\n",
        "    print('Weighted Avg: \\t {}\\t {}\\t {}\\t {}'.format(\n",
        "        weighted_avg['precision'], weighted_avg['recall'], weighted_avg['f1-score'], weighted_avg['support']))\n",
        "    plot_confusion_matrix(y_true, y_pred, normalize=normalize_cm, title=title_cm)\n"
      ]
    },
    {
      "cell_type": "code",
      "execution_count": 26,
      "id": "cbec8b6d",
      "metadata": {
        "colab": {
          "base_uri": "https://localhost:8080/",
          "height": 732
        },
        "id": "cbec8b6d",
        "outputId": "001a1949-1a95-403e-ffe0-3395a43ef728"
      },
      "outputs": [
        {
          "output_type": "stream",
          "name": "stdout",
          "text": [
            "Balanced Accuracy: 0.4249574165676276\n",
            "Accuracy: 0.42367521367521366\n",
            "\t\t precision\t\t recall\t\t\t f1-score\t\t support\n",
            "Macro Avg: \t 0.4136489625173208\t 0.4249574165676276\t 0.3876268316928075\t 23400\n",
            "Weighted Avg: \t 0.41418515268290296\t 0.42367521367521366\t 0.3869668020870052\t 23400\n"
          ]
        },
        {
          "output_type": "display_data",
          "data": {
            "text/plain": [
              "<Figure size 1000x700 with 2 Axes>"
            ],
            "image/png": "[encoded data removed]"
          },
          "metadata": {}
        }
      ],
      "source": [
        "output_metrics(y_bert_test, rf_bert_predicted, normalize_cm=True, title_cm='Random Forest (BERT Embeddings) Confusion Matrix')"
      ]
    },
    {
      "cell_type": "code",
      "execution_count": null,
      "id": "98203216",
      "metadata": {
        "id": "98203216"
      },
      "outputs": [],
      "source": []
    }
  ],
  "metadata": {
    "kernelspec": {
      "display_name": "Python 3",
      "name": "python3"
    },
    "language_info": {
      "codemirror_mode": {
        "name": "ipython",
        "version": 3
      },
      "file_extension": ".py",
      "mimetype": "text/x-python",
      "name": "python",
      "nbconvert_exporter": "python",
      "pygments_lexer": "ipython3",
      "version": "3.9.13"
    },
    "colab": {
      "provenance": [],
      "gpuType": "T4"
    },
    "accelerator": "GPU"
  },
  "nbformat": 4,
  "nbformat_minor": 5
}