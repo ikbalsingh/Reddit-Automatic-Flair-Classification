{
  "cells": [
    {
      "cell_type": "code",
      "execution_count": 1,
      "id": "d8de779f",
      "metadata": {
        "id": "d8de779f"
      },
      "outputs": [],
      "source": [
        "from collections import defaultdict, Counter\n",
        "from tqdm import tqdm_notebook as tqdm\n",
        "import numpy as np\n",
        "import pandas as pd\n",
        "import scipy.stats\n",
        "import seaborn as sn\n",
        "import nltk\n",
        "from nltk.corpus import stopwords\n",
        "from sklearn import preprocessing\n",
        "from sklearn.model_selection import train_test_split\n",
        "from sklearn.metrics import accuracy_score\n",
        "from sklearn.metrics import confusion_matrix\n",
        "from sklearn.metrics import classification_report\n",
        "from sklearn.metrics import balanced_accuracy_score\n",
        "\n",
        "import matplotlib.pyplot as plt\n",
        "%matplotlib inline"
      ]
    },
    {
      "cell_type": "code",
      "source": [
        "from google.colab import drive\n",
        "drive.mount('/content/drive')"
      ],
      "metadata": {
        "colab": {
          "base_uri": "https://localhost:8080/"
        },
        "id": "C2vQYpJnZORb",
        "outputId": "4047a13a-8bca-4c3e-a1b4-a8ddc390b859"
      },
      "id": "C2vQYpJnZORb",
      "execution_count": 2,
      "outputs": [
        {
          "output_type": "stream",
          "name": "stdout",
          "text": [
            "Mounted at /content/drive\n"
          ]
        }
      ]
    },
    {
      "cell_type": "code",
      "execution_count": 3,
      "id": "21da4e1b",
      "metadata": {
        "colab": {
          "base_uri": "https://localhost:8080/",
          "height": 424
        },
        "id": "21da4e1b",
        "outputId": "eba48df1-2cd0-432d-9fe5-e3ea55792a33"
      },
      "outputs": [
        {
          "output_type": "execute_result",
          "data": {
            "text/plain": [
              "             id             subreddit  \\\n",
              "0        6d8knd  talesfromtechsupport   \n",
              "1        58mbft               teenmom   \n",
              "2        8f73s7                Harley   \n",
              "3        6ti6re          ringdoorbell   \n",
              "4        77sxto                 intel   \n",
              "...         ...                   ...   \n",
              "1012995  5r9k4h               MSLGame   \n",
              "1012996  6529fp         CrohnsDisease   \n",
              "1012997  7tiyzx              HongKong   \n",
              "1012998  664ha3                 yorku   \n",
              "1012999  6ump0y                  wine   \n",
              "\n",
              "                                                     title  \\\n",
              "0                      remember your command line switches   \n",
              "1                    \"so what was matt \"\"addicted\"\" to ? \"   \n",
              "2                                           no club colors   \n",
              "3                not door bell but floodlight mount height   \n",
              "4        worried about my 8700k small fft/data stress r...   \n",
              "...                                                    ...   \n",
              "1012995  is this months rebirth and dungeon astro's wor...   \n",
              "1012996      i might need a medical leave from grad school   \n",
              "1012997    police harassing ethnic minorities in hong kong   \n",
              "1012998           su eecs 2030 and eecs 2021 - need advice   \n",
              "1012999             what is the worse wine you ever had ?    \n",
              "\n",
              "                                                  selftext            genre  \n",
              "0                                             \"hi there  \"  writing/stories  \n",
              "1        did he ever say what his addiction was or is h...          tv_show  \n",
              "2        funny story i went to college in las vegas thi...            autos  \n",
              "3        i know this is a sub for the 'ring doorbell' b...   hardware/tools  \n",
              "4        \"prime95 (regardless of version) and occt both...      electronics  \n",
              "...                                                    ...              ...  \n",
              "1012995  i looking on what to evo3 farm next and was ex...       video_game  \n",
              "1012996  has anyone here ever needed a medical leave fr...           health  \n",
              "1012997  i thought i'd make this post so that more peop...              geo  \n",
              "1012998  hi i just finished 1st year eecs courses and h...        education  \n",
              "1012999  my worst wine was at a dinner party my friend ...       food/drink  \n",
              "\n",
              "[1013000 rows x 5 columns]"
            ],
            "text/html": [
              "\n",
              "  <div id=\"df-7fea1a3b-baed-48a9-a55a-ff905e650b34\" class=\"colab-df-container\">\n",
              "    <div>\n",
              "<style scoped>\n",
              "    .dataframe tbody tr th:only-of-type {\n",
              "        vertical-align: middle;\n",
              "    }\n",
              "\n",
              "    .dataframe tbody tr th {\n",
              "        vertical-align: top;\n",
              "    }\n",
              "\n",
              "    .dataframe thead th {\n",
              "        text-align: right;\n",
              "    }\n",
              "</style>\n",
              "<table border=\"1\" class=\"dataframe\">\n",
              "  <thead>\n",
              "    <tr style=\"text-align: right;\">\n",
              "      <th></th>\n",
              "      <th>id</th>\n",
              "      <th>subreddit</th>\n",
              "      <th>title</th>\n",
              "      <th>selftext</th>\n",
              "      <th>genre</th>\n",
              "    </tr>\n",
              "  </thead>\n",
              "  <tbody>\n",
              "    <tr>\n",
              "      <th>0</th>\n",
              "      <td>6d8knd</td>\n",
              "      <td>talesfromtechsupport</td>\n",
              "      <td>remember your command line switches</td>\n",
              "      <td>\"hi there  \"</td>\n",
              "      <td>writing/stories</td>\n",
              "    </tr>\n",
              "    <tr>\n",
              "      <th>1</th>\n",
              "      <td>58mbft</td>\n",
              "      <td>teenmom</td>\n",
              "      <td>\"so what was matt \"\"addicted\"\" to ? \"</td>\n",
              "      <td>did he ever say what his addiction was or is h...</td>\n",
              "      <td>tv_show</td>\n",
              "    </tr>\n",
              "    <tr>\n",
              "      <th>2</th>\n",
              "      <td>8f73s7</td>\n",
              "      <td>Harley</td>\n",
              "      <td>no club colors</td>\n",
              "      <td>funny story i went to college in las vegas thi...</td>\n",
              "      <td>autos</td>\n",
              "    </tr>\n",
              "    <tr>\n",
              "      <th>3</th>\n",
              "      <td>6ti6re</td>\n",
              "      <td>ringdoorbell</td>\n",
              "      <td>not door bell but floodlight mount height</td>\n",
              "      <td>i know this is a sub for the 'ring doorbell' b...</td>\n",
              "      <td>hardware/tools</td>\n",
              "    </tr>\n",
              "    <tr>\n",
              "      <th>4</th>\n",
              "      <td>77sxto</td>\n",
              "      <td>intel</td>\n",
              "      <td>worried about my 8700k small fft/data stress r...</td>\n",
              "      <td>\"prime95 (regardless of version) and occt both...</td>\n",
              "      <td>electronics</td>\n",
              "    </tr>\n",
              "    <tr>\n",
              "      <th>...</th>\n",
              "      <td>...</td>\n",
              "      <td>...</td>\n",
              "      <td>...</td>\n",
              "      <td>...</td>\n",
              "      <td>...</td>\n",
              "    </tr>\n",
              "    <tr>\n",
              "      <th>1012995</th>\n",
              "      <td>5r9k4h</td>\n",
              "      <td>MSLGame</td>\n",
              "      <td>is this months rebirth and dungeon astro's wor...</td>\n",
              "      <td>i looking on what to evo3 farm next and was ex...</td>\n",
              "      <td>video_game</td>\n",
              "    </tr>\n",
              "    <tr>\n",
              "      <th>1012996</th>\n",
              "      <td>6529fp</td>\n",
              "      <td>CrohnsDisease</td>\n",
              "      <td>i might need a medical leave from grad school</td>\n",
              "      <td>has anyone here ever needed a medical leave fr...</td>\n",
              "      <td>health</td>\n",
              "    </tr>\n",
              "    <tr>\n",
              "      <th>1012997</th>\n",
              "      <td>7tiyzx</td>\n",
              "      <td>HongKong</td>\n",
              "      <td>police harassing ethnic minorities in hong kong</td>\n",
              "      <td>i thought i'd make this post so that more peop...</td>\n",
              "      <td>geo</td>\n",
              "    </tr>\n",
              "    <tr>\n",
              "      <th>1012998</th>\n",
              "      <td>664ha3</td>\n",
              "      <td>yorku</td>\n",
              "      <td>su eecs 2030 and eecs 2021 - need advice</td>\n",
              "      <td>hi i just finished 1st year eecs courses and h...</td>\n",
              "      <td>education</td>\n",
              "    </tr>\n",
              "    <tr>\n",
              "      <th>1012999</th>\n",
              "      <td>6ump0y</td>\n",
              "      <td>wine</td>\n",
              "      <td>what is the worse wine you ever had ?</td>\n",
              "      <td>my worst wine was at a dinner party my friend ...</td>\n",
              "      <td>food/drink</td>\n",
              "    </tr>\n",
              "  </tbody>\n",
              "</table>\n",
              "<p>1013000 rows × 5 columns</p>\n",
              "</div>\n",
              "    <div class=\"colab-df-buttons\">\n",
              "\n",
              "  <div class=\"colab-df-container\">\n",
              "    <button class=\"colab-df-convert\" onclick=\"convertToInteractive('df-7fea1a3b-baed-48a9-a55a-ff905e650b34')\"\n",
              "            title=\"Convert this dataframe to an interactive table.\"\n",
              "            style=\"display:none;\">\n",
              "\n",
              "  <svg xmlns=\"http://www.w3.org/2000/svg\" height=\"24px\" viewBox=\"0 -960 960 960\">\n",
              "    <path d=\"M120-120v-720h720v720H120Zm60-500h600v-160H180v160Zm220 220h160v-160H400v160Zm0 220h160v-160H400v160ZM180-400h160v-160H180v160Zm440 0h160v-160H620v160ZM180-180h160v-160H180v160Zm440 0h160v-160H620v160Z\"/>\n",
              "  </svg>\n",
              "    </button>\n",
              "\n",
              "  <style>\n",
              "    .colab-df-container {\n",
              "      display:flex;\n",
              "      gap: 12px;\n",
              "    }\n",
              "\n",
              "    .colab-df-convert {\n",
              "      background-color: #E8F0FE;\n",
              "      border: none;\n",
              "      border-radius: 50%;\n",
              "      cursor: pointer;\n",
              "      display: none;\n",
              "      fill: #1967D2;\n",
              "      height: 32px;\n",
              "      padding: 0 0 0 0;\n",
              "      width: 32px;\n",
              "    }\n",
              "\n",
              "    .colab-df-convert:hover {\n",
              "      background-color: #E2EBFA;\n",
              "      box-shadow: 0px 1px 2px rgba(60, 64, 67, 0.3), 0px 1px 3px 1px rgba(60, 64, 67, 0.15);\n",
              "      fill: #174EA6;\n",
              "    }\n",
              "\n",
              "    .colab-df-buttons div {\n",
              "      margin-bottom: 4px;\n",
              "    }\n",
              "\n",
              "    [theme=dark] .colab-df-convert {\n",
              "      background-color: #3B4455;\n",
              "      fill: #D2E3FC;\n",
              "    }\n",
              "\n",
              "    [theme=dark] .colab-df-convert:hover {\n",
              "      background-color: #434B5C;\n",
              "      box-shadow: 0px 1px 3px 1px rgba(0, 0, 0, 0.15);\n",
              "      filter: drop-shadow(0px 1px 2px rgba(0, 0, 0, 0.3));\n",
              "      fill: #FFFFFF;\n",
              "    }\n",
              "  </style>\n",
              "\n",
              "    <script>\n",
              "      const buttonEl =\n",
              "        document.querySelector('#df-7fea1a3b-baed-48a9-a55a-ff905e650b34 button.colab-df-convert');\n",
              "      buttonEl.style.display =\n",
              "        google.colab.kernel.accessAllowed ? 'block' : 'none';\n",
              "\n",
              "      async function convertToInteractive(key) {\n",
              "        const element = document.querySelector('#df-7fea1a3b-baed-48a9-a55a-ff905e650b34');\n",
              "        const dataTable =\n",
              "          await google.colab.kernel.invokeFunction('convertToInteractive',\n",
              "                                                    [key], {});\n",
              "        if (!dataTable) return;\n",
              "\n",
              "        const docLinkHtml = 'Like what you see? Visit the ' +\n",
              "          '<a target=\"_blank\" href=https://colab.research.google.com/notebooks/data_table.ipynb>data table notebook</a>'\n",
              "          + ' to learn more about interactive tables.';\n",
              "        element.innerHTML = '';\n",
              "        dataTable['output_type'] = 'display_data';\n",
              "        await google.colab.output.renderOutput(dataTable, element);\n",
              "        const docLink = document.createElement('div');\n",
              "        docLink.innerHTML = docLinkHtml;\n",
              "        element.appendChild(docLink);\n",
              "      }\n",
              "    </script>\n",
              "  </div>\n",
              "\n",
              "\n",
              "<div id=\"df-a24e3ec7-0933-4777-98f6-efca2beac640\">\n",
              "  <button class=\"colab-df-quickchart\" onclick=\"quickchart('df-a24e3ec7-0933-4777-98f6-efca2beac640')\"\n",
              "            title=\"Suggest charts\"\n",
              "            style=\"display:none;\">\n",
              "\n",
              "<svg xmlns=\"http://www.w3.org/2000/svg\" height=\"24px\"viewBox=\"0 0 24 24\"\n",
              "     width=\"24px\">\n",
              "    <g>\n",
              "        <path d=\"M19 3H5c-1.1 0-2 .9-2 2v14c0 1.1.9 2 2 2h14c1.1 0 2-.9 2-2V5c0-1.1-.9-2-2-2zM9 17H7v-7h2v7zm4 0h-2V7h2v10zm4 0h-2v-4h2v4z\"/>\n",
              "    </g>\n",
              "</svg>\n",
              "  </button>\n",
              "\n",
              "<style>\n",
              "  .colab-df-quickchart {\n",
              "      --bg-color: #E8F0FE;\n",
              "      --fill-color: #1967D2;\n",
              "      --hover-bg-color: #E2EBFA;\n",
              "      --hover-fill-color: #174EA6;\n",
              "      --disabled-fill-color: #AAA;\n",
              "      --disabled-bg-color: #DDD;\n",
              "  }\n",
              "\n",
              "  [theme=dark] .colab-df-quickchart {\n",
              "      --bg-color: #3B4455;\n",
              "      --fill-color: #D2E3FC;\n",
              "      --hover-bg-color: #434B5C;\n",
              "      --hover-fill-color: #FFFFFF;\n",
              "      --disabled-bg-color: #3B4455;\n",
              "      --disabled-fill-color: #666;\n",
              "  }\n",
              "\n",
              "  .colab-df-quickchart {\n",
              "    background-color: var(--bg-color);\n",
              "    border: none;\n",
              "    border-radius: 50%;\n",
              "    cursor: pointer;\n",
              "    display: none;\n",
              "    fill: var(--fill-color);\n",
              "    height: 32px;\n",
              "    padding: 0;\n",
              "    width: 32px;\n",
              "  }\n",
              "\n",
              "  .colab-df-quickchart:hover {\n",
              "    background-color: var(--hover-bg-color);\n",
              "    box-shadow: 0 1px 2px rgba(60, 64, 67, 0.3), 0 1px 3px 1px rgba(60, 64, 67, 0.15);\n",
              "    fill: var(--button-hover-fill-color);\n",
              "  }\n",
              "\n",
              "  .colab-df-quickchart-complete:disabled,\n",
              "  .colab-df-quickchart-complete:disabled:hover {\n",
              "    background-color: var(--disabled-bg-color);\n",
              "    fill: var(--disabled-fill-color);\n",
              "    box-shadow: none;\n",
              "  }\n",
              "\n",
              "  .colab-df-spinner {\n",
              "    border: 2px solid var(--fill-color);\n",
              "    border-color: transparent;\n",
              "    border-bottom-color: var(--fill-color);\n",
              "    animation:\n",
              "      spin 1s steps(1) infinite;\n",
              "  }\n",
              "\n",
              "  @keyframes spin {\n",
              "    0% {\n",
              "      border-color: transparent;\n",
              "      border-bottom-color: var(--fill-color);\n",
              "      border-left-color: var(--fill-color);\n",
              "    }\n",
              "    20% {\n",
              "      border-color: transparent;\n",
              "      border-left-color: var(--fill-color);\n",
              "      border-top-color: var(--fill-color);\n",
              "    }\n",
              "    30% {\n",
              "      border-color: transparent;\n",
              "      border-left-color: var(--fill-color);\n",
              "      border-top-color: var(--fill-color);\n",
              "      border-right-color: var(--fill-color);\n",
              "    }\n",
              "    40% {\n",
              "      border-color: transparent;\n",
              "      border-right-color: var(--fill-color);\n",
              "      border-top-color: var(--fill-color);\n",
              "    }\n",
              "    60% {\n",
              "      border-color: transparent;\n",
              "      border-right-color: var(--fill-color);\n",
              "    }\n",
              "    80% {\n",
              "      border-color: transparent;\n",
              "      border-right-color: var(--fill-color);\n",
              "      border-bottom-color: var(--fill-color);\n",
              "    }\n",
              "    90% {\n",
              "      border-color: transparent;\n",
              "      border-bottom-color: var(--fill-color);\n",
              "    }\n",
              "  }\n",
              "</style>\n",
              "\n",
              "  <script>\n",
              "    async function quickchart(key) {\n",
              "      const quickchartButtonEl =\n",
              "        document.querySelector('#' + key + ' button');\n",
              "      quickchartButtonEl.disabled = true;  // To prevent multiple clicks.\n",
              "      quickchartButtonEl.classList.add('colab-df-spinner');\n",
              "      try {\n",
              "        const charts = await google.colab.kernel.invokeFunction(\n",
              "            'suggestCharts', [key], {});\n",
              "      } catch (error) {\n",
              "        console.error('Error during call to suggestCharts:', error);\n",
              "      }\n",
              "      quickchartButtonEl.classList.remove('colab-df-spinner');\n",
              "      quickchartButtonEl.classList.add('colab-df-quickchart-complete');\n",
              "    }\n",
              "    (() => {\n",
              "      let quickchartButtonEl =\n",
              "        document.querySelector('#df-a24e3ec7-0933-4777-98f6-efca2beac640 button');\n",
              "      quickchartButtonEl.style.display =\n",
              "        google.colab.kernel.accessAllowed ? 'block' : 'none';\n",
              "    })();\n",
              "  </script>\n",
              "</div>\n",
              "\n",
              "  <div id=\"id_475d828c-ef63-4e15-83d6-2cdbf04e3a23\">\n",
              "    <style>\n",
              "      .colab-df-generate {\n",
              "        background-color: #E8F0FE;\n",
              "        border: none;\n",
              "        border-radius: 50%;\n",
              "        cursor: pointer;\n",
              "        display: none;\n",
              "        fill: #1967D2;\n",
              "        height: 32px;\n",
              "        padding: 0 0 0 0;\n",
              "        width: 32px;\n",
              "      }\n",
              "\n",
              "      .colab-df-generate:hover {\n",
              "        background-color: #E2EBFA;\n",
              "        box-shadow: 0px 1px 2px rgba(60, 64, 67, 0.3), 0px 1px 3px 1px rgba(60, 64, 67, 0.15);\n",
              "        fill: #174EA6;\n",
              "      }\n",
              "\n",
              "      [theme=dark] .colab-df-generate {\n",
              "        background-color: #3B4455;\n",
              "        fill: #D2E3FC;\n",
              "      }\n",
              "\n",
              "      [theme=dark] .colab-df-generate:hover {\n",
              "        background-color: #434B5C;\n",
              "        box-shadow: 0px 1px 3px 1px rgba(0, 0, 0, 0.15);\n",
              "        filter: drop-shadow(0px 1px 2px rgba(0, 0, 0, 0.3));\n",
              "        fill: #FFFFFF;\n",
              "      }\n",
              "    </style>\n",
              "    <button class=\"colab-df-generate\" onclick=\"generateWithVariable('main_df')\"\n",
              "            title=\"Generate code using this dataframe.\"\n",
              "            style=\"display:none;\">\n",
              "\n",
              "  <svg xmlns=\"http://www.w3.org/2000/svg\" height=\"24px\"viewBox=\"0 0 24 24\"\n",
              "       width=\"24px\">\n",
              "    <path d=\"M7,19H8.4L18.45,9,17,7.55,7,17.6ZM5,21V16.75L18.45,3.32a2,2,0,0,1,2.83,0l1.4,1.43a1.91,1.91,0,0,1,.58,1.4,1.91,1.91,0,0,1-.58,1.4L9.25,21ZM18.45,9,17,7.55Zm-12,3A5.31,5.31,0,0,0,4.9,8.1,5.31,5.31,0,0,0,1,6.5,5.31,5.31,0,0,0,4.9,4.9,5.31,5.31,0,0,0,6.5,1,5.31,5.31,0,0,0,8.1,4.9,5.31,5.31,0,0,0,12,6.5,5.46,5.46,0,0,0,6.5,12Z\"/>\n",
              "  </svg>\n",
              "    </button>\n",
              "    <script>\n",
              "      (() => {\n",
              "      const buttonEl =\n",
              "        document.querySelector('#id_475d828c-ef63-4e15-83d6-2cdbf04e3a23 button.colab-df-generate');\n",
              "      buttonEl.style.display =\n",
              "        google.colab.kernel.accessAllowed ? 'block' : 'none';\n",
              "\n",
              "      buttonEl.onclick = () => {\n",
              "        google.colab.notebook.generateWithVariable('main_df');\n",
              "      }\n",
              "      })();\n",
              "    </script>\n",
              "  </div>\n",
              "\n",
              "    </div>\n",
              "  </div>\n"
            ],
            "application/vnd.google.colaboratory.intrinsic+json": {
              "type": "dataframe",
              "variable_name": "main_df"
            }
          },
          "metadata": {},
          "execution_count": 3
        }
      ],
      "source": [
        "main_df = pd.read_pickle('/content/drive/MyDrive/cs256/cs256_subreddit.pickle')\n",
        "main_df"
      ]
    },
    {
      "cell_type": "code",
      "execution_count": 4,
      "id": "7d5b3e2a",
      "metadata": {
        "id": "7d5b3e2a"
      },
      "outputs": [],
      "source": [
        "sampled_data = []\n",
        "for genre in main_df['genre'].unique():\n",
        "    genre_data = main_df[main_df['genre'] == genre].sample(n=3000, random_state=42)\n",
        "    sampled_data.append(genre_data)\n",
        "\n",
        "main_df_sampled = pd.concat(sampled_data)\n",
        "\n",
        "# Shuffle the sampled data\n",
        "main_df_sampled = main_df_sampled.sample(frac=1, random_state=42).reset_index(drop=True)"
      ]
    },
    {
      "cell_type": "code",
      "execution_count": 5,
      "id": "13911511",
      "metadata": {
        "id": "13911511"
      },
      "outputs": [],
      "source": [
        "main_df_sampled.to_pickle('main_df_sampled.pickle')"
      ]
    },
    {
      "cell_type": "code",
      "execution_count": 6,
      "id": "a8aefed0",
      "metadata": {
        "colab": {
          "base_uri": "https://localhost:8080/"
        },
        "id": "a8aefed0",
        "outputId": "8eddbeda-9b0e-452d-d7f3-983ff7723646"
      },
      "outputs": [
        {
          "output_type": "stream",
          "name": "stdout",
          "text": [
            "Number of genres: 39\n"
          ]
        }
      ],
      "source": [
        "genres = sorted(main_df_sampled['genre'].unique().tolist()) # this has to be sorted to match up with lstm model\n",
        "\n",
        "print('Number of genres:', len(genres))"
      ]
    },
    {
      "cell_type": "code",
      "execution_count": 7,
      "id": "267ffc26",
      "metadata": {
        "colab": {
          "base_uri": "https://localhost:8080/"
        },
        "id": "267ffc26",
        "outputId": "9e71e426-4faa-4a52-f0c2-4d57e5c38fb1"
      },
      "outputs": [
        {
          "output_type": "stream",
          "name": "stdout",
          "text": [
            "DescribeResult(nobs=39, minmax=(3000, 3000), mean=3000.0, variance=0.0, skewness=nan, kurtosis=nan)\n",
            "                          0\n",
            "advice/question        3000\n",
            "animals                3000\n",
            "anime/manga            3000\n",
            "appearance             3000\n",
            "arts                   3000\n",
            "autos                  3000\n",
            "board_game             3000\n",
            "books                  3000\n",
            "card_game              3000\n",
            "company/website        3000\n",
            "crypto                 3000\n",
            "drugs                  3000\n",
            "education              3000\n",
            "electronics            3000\n",
            "finance/money          3000\n",
            "food/drink             3000\n",
            "geo                    3000\n",
            "hardware/tools         3000\n",
            "health                 3000\n",
            "hobby                  3000\n",
            "meta                   3000\n",
            "movies                 3000\n",
            "music                  3000\n",
            "other                  3000\n",
            "parenting              3000\n",
            "politics/viewpoint     3000\n",
            "profession             3000\n",
            "programming            3000\n",
            "religion/supernatural  3000\n",
            "rpg                    3000\n",
            "sex/relationships      3000\n",
            "social_group           3000\n",
            "software               3000\n",
            "sports                 3000\n",
            "stem                   3000\n",
            "travel                 3000\n",
            "tv_show                3000\n",
            "video_game             3000\n",
            "writing/stories        3000\n"
          ]
        },
        {
          "output_type": "stream",
          "name": "stderr",
          "text": [
            "<ipython-input-7-d6794b4f31c7>:9: RuntimeWarning: Precision loss occurred in moment calculation due to catastrophic cancellation. This occurs when the data are nearly identical. Results may be unreliable.\n",
            "  print(scipy.stats.describe(list(frequencies.values())))\n",
            "/usr/local/lib/python3.10/dist-packages/scipy/stats/_stats_py.py:1405: RuntimeWarning: Precision loss occurred in moment calculation due to catastrophic cancellation. This occurs when the data are nearly identical. Results may be unreliable.\n",
            "  sk = skew(a, axis, bias=bias)\n",
            "/usr/local/lib/python3.10/dist-packages/scipy/stats/_stats_py.py:1406: RuntimeWarning: Precision loss occurred in moment calculation due to catastrophic cancellation. This occurs when the data are nearly identical. Results may be unreliable.\n",
            "  kurt = kurtosis(a, axis, bias=bias)\n"
          ]
        }
      ],
      "source": [
        "# Get frequencies of each subreddit using efficient pandas filtering.\n",
        "frequencies = defaultdict(int)\n",
        "for genre in genres:\n",
        "    frequencies[genre] = len(main_df_sampled.loc[main_df_sampled['genre'] == genre])\n",
        "\n",
        "frequencies_df = pd.DataFrame([frequencies])\n",
        "frequencies_df = frequencies_df.T\n",
        "\n",
        "print(scipy.stats.describe(list(frequencies.values())))\n",
        "print(frequencies_df)"
      ]
    },
    {
      "cell_type": "code",
      "execution_count": 9,
      "id": "60adb3f6",
      "metadata": {
        "colab": {
          "base_uri": "https://localhost:8080/"
        },
        "id": "60adb3f6",
        "outputId": "bf5a72ca-cd0f-4b78-e4e2-3115afb78e9d"
      },
      "outputs": [
        {
          "output_type": "stream",
          "name": "stderr",
          "text": [
            "100%|██████████| 117000/117000 [00:19<00:00, 6043.46it/s]\n"
          ]
        }
      ],
      "source": [
        "from gensim.models import Word2Vec\n",
        "from gensim.utils import simple_preprocess\n",
        "import numpy as np\n",
        "from sklearn import preprocessing\n",
        "from tqdm import tqdm\n",
        "\n",
        "# Tokenize text using simple_preprocess\n",
        "preprocessed = [simple_preprocess(x) for x in tqdm(main_df_sampled['title'] + \" \" + main_df_sampled['selftext'])]\n",
        "\n",
        "# Train Word2Vec model\n",
        "word2vec_model = Word2Vec(sentences=preprocessed, vector_size=300, window=5, min_count=1, workers=4)\n",
        "\n",
        "def word_to_vec(word):\n",
        "    if word not in word2vec_model.wv:\n",
        "        return None\n",
        "    return word2vec_model.wv[word]\n",
        "\n",
        "def get_word2vec_embeddings(text):\n",
        "    embeddings = [word_to_vec(word) for word in text if word in word2vec_model.wv]\n",
        "    if len(embeddings) == 0:\n",
        "        return None\n",
        "    return np.mean(embeddings, axis=0)"
      ]
    },
    {
      "cell_type": "code",
      "execution_count": 10,
      "id": "67f5d2c1",
      "metadata": {
        "colab": {
          "base_uri": "https://localhost:8080/"
        },
        "id": "67f5d2c1",
        "outputId": "011a84cf-b3e1-4f75-c17e-6d8526003d31"
      },
      "outputs": [
        {
          "output_type": "stream",
          "name": "stderr",
          "text": [
            "117000it [00:32, 3615.71it/s]\n"
          ]
        }
      ],
      "source": [
        "y = main_df_sampled['genre'].copy()\n",
        "\n",
        "X_word2vec = []\n",
        "\n",
        "for i, text in tqdm(enumerate(preprocessed)):\n",
        "    embeddings = get_word2vec_embeddings(text)\n",
        "    if embeddings is not None:\n",
        "        X_word2vec.append(embeddings)\n",
        "    else:\n",
        "        del y[i]"
      ]
    },
    {
      "cell_type": "code",
      "execution_count": 11,
      "id": "ef60c75a",
      "metadata": {
        "colab": {
          "base_uri": "https://localhost:8080/"
        },
        "id": "ef60c75a",
        "outputId": "5611be48-0795-43f9-bd33-8c5a3a43af67"
      },
      "outputs": [
        {
          "output_type": "stream",
          "name": "stdout",
          "text": [
            "Genre Mapping:\n",
            "{'advice/question': 0, 'animals': 1, 'anime/manga': 2, 'appearance': 3, 'arts': 4, 'autos': 5, 'board_game': 6, 'books': 7, 'card_game': 8, 'company/website': 9, 'crypto': 10, 'drugs': 11, 'education': 12, 'electronics': 13, 'finance/money': 14, 'food/drink': 15, 'geo': 16, 'hardware/tools': 17, 'health': 18, 'hobby': 19, 'meta': 20, 'movies': 21, 'music': 22, 'other': 23, 'parenting': 24, 'politics/viewpoint': 25, 'profession': 26, 'programming': 27, 'religion/supernatural': 28, 'rpg': 29, 'sex/relationships': 30, 'social_group': 31, 'software': 32, 'sports': 33, 'stem': 34, 'travel': 35, 'tv_show': 36, 'video_game': 37, 'writing/stories': 38}\n"
          ]
        }
      ],
      "source": [
        "from sklearn.preprocessing import LabelEncoder\n",
        "\n",
        "label_encoder = LabelEncoder()\n",
        "\n",
        "y = label_encoder.fit_transform(y)\n",
        "\n",
        "genre_mapping = dict(zip(label_encoder.classes_, label_encoder.transform(label_encoder.classes_)))\n",
        "print(\"Genre Mapping:\")\n",
        "print(genre_mapping)"
      ]
    },
    {
      "cell_type": "code",
      "execution_count": 12,
      "id": "ffd80738",
      "metadata": {
        "id": "ffd80738"
      },
      "outputs": [],
      "source": [
        "X_word2vec_scaled = preprocessing.scale(X_word2vec)"
      ]
    },
    {
      "cell_type": "code",
      "execution_count": 13,
      "id": "93eddfe2",
      "metadata": {
        "colab": {
          "base_uri": "https://localhost:8080/"
        },
        "id": "93eddfe2",
        "outputId": "3ef9b498-333b-4d3a-ec20-fc7d64471341"
      },
      "outputs": [
        {
          "output_type": "stream",
          "name": "stdout",
          "text": [
            "(93598, 300) (23400, 300) (93598,) (23400,)\n"
          ]
        }
      ],
      "source": [
        "X_word2vec_train, X_word2vec_test, y_word2vec_train, y_word2vec_test = train_test_split(X_word2vec_scaled, y, test_size=0.2, random_state=42)\n",
        "print(X_word2vec_train.shape, X_word2vec_test.shape, y_word2vec_train.shape, y_word2vec_test.shape)"
      ]
    },
    {
      "cell_type": "code",
      "execution_count": 14,
      "id": "454505f5",
      "metadata": {
        "colab": {
          "base_uri": "https://localhost:8080/"
        },
        "id": "454505f5",
        "outputId": "365a733c-3db7-45be-a49c-8c897939e51d"
      },
      "outputs": [
        {
          "output_type": "execute_result",
          "data": {
            "text/plain": [
              "array([21,  9,  6, ..., 10,  4, 17])"
            ]
          },
          "metadata": {},
          "execution_count": 14
        }
      ],
      "source": [
        "y_word2vec_train"
      ]
    },
    {
      "cell_type": "markdown",
      "id": "cabf3cdd",
      "metadata": {
        "id": "cabf3cdd"
      },
      "source": [
        "## Random Forest Classifier with Word2Vec"
      ]
    },
    {
      "cell_type": "code",
      "source": [
        "from sklearn.ensemble import RandomForestClassifier\n",
        "\n",
        "clf = RandomForestClassifier(max_depth=10, random_state=0, n_estimators=400)\n",
        "clf.fit(X_word2vec_train, y_word2vec_train)"
      ],
      "metadata": {
        "colab": {
          "base_uri": "https://localhost:8080/",
          "height": 75
        },
        "id": "JqVp_Ekc6oKM",
        "outputId": "a7ef80ab-c02e-4385-a177-a48e3cecb388"
      },
      "id": "JqVp_Ekc6oKM",
      "execution_count": 29,
      "outputs": [
        {
          "output_type": "execute_result",
          "data": {
            "text/plain": [
              "RandomForestClassifier(max_depth=10, n_estimators=400, random_state=0)"
            ],
            "text/html": [
              "<style>#sk-container-id-3 {color: black;background-color: white;}#sk-container-id-3 pre{padding: 0;}#sk-container-id-3 div.sk-toggleable {background-color: white;}#sk-container-id-3 label.sk-toggleable__label {cursor: pointer;display: block;width: 100%;margin-bottom: 0;padding: 0.3em;box-sizing: border-box;text-align: center;}#sk-container-id-3 label.sk-toggleable__label-arrow:before {content: \"▸\";float: left;margin-right: 0.25em;color: #696969;}#sk-container-id-3 label.sk-toggleable__label-arrow:hover:before {color: black;}#sk-container-id-3 div.sk-estimator:hover label.sk-toggleable__label-arrow:before {color: black;}#sk-container-id-3 div.sk-toggleable__content {max-height: 0;max-width: 0;overflow: hidden;text-align: left;background-color: #f0f8ff;}#sk-container-id-3 div.sk-toggleable__content pre {margin: 0.2em;color: black;border-radius: 0.25em;background-color: #f0f8ff;}#sk-container-id-3 input.sk-toggleable__control:checked~div.sk-toggleable__content {max-height: 200px;max-width: 100%;overflow: auto;}#sk-container-id-3 input.sk-toggleable__control:checked~label.sk-toggleable__label-arrow:before {content: \"▾\";}#sk-container-id-3 div.sk-estimator input.sk-toggleable__control:checked~label.sk-toggleable__label {background-color: #d4ebff;}#sk-container-id-3 div.sk-label input.sk-toggleable__control:checked~label.sk-toggleable__label {background-color: #d4ebff;}#sk-container-id-3 input.sk-hidden--visually {border: 0;clip: rect(1px 1px 1px 1px);clip: rect(1px, 1px, 1px, 1px);height: 1px;margin: -1px;overflow: hidden;padding: 0;position: absolute;width: 1px;}#sk-container-id-3 div.sk-estimator {font-family: monospace;background-color: #f0f8ff;border: 1px dotted black;border-radius: 0.25em;box-sizing: border-box;margin-bottom: 0.5em;}#sk-container-id-3 div.sk-estimator:hover {background-color: #d4ebff;}#sk-container-id-3 div.sk-parallel-item::after {content: \"\";width: 100%;border-bottom: 1px solid gray;flex-grow: 1;}#sk-container-id-3 div.sk-label:hover label.sk-toggleable__label {background-color: #d4ebff;}#sk-container-id-3 div.sk-serial::before {content: \"\";position: absolute;border-left: 1px solid gray;box-sizing: border-box;top: 0;bottom: 0;left: 50%;z-index: 0;}#sk-container-id-3 div.sk-serial {display: flex;flex-direction: column;align-items: center;background-color: white;padding-right: 0.2em;padding-left: 0.2em;position: relative;}#sk-container-id-3 div.sk-item {position: relative;z-index: 1;}#sk-container-id-3 div.sk-parallel {display: flex;align-items: stretch;justify-content: center;background-color: white;position: relative;}#sk-container-id-3 div.sk-item::before, #sk-container-id-3 div.sk-parallel-item::before {content: \"\";position: absolute;border-left: 1px solid gray;box-sizing: border-box;top: 0;bottom: 0;left: 50%;z-index: -1;}#sk-container-id-3 div.sk-parallel-item {display: flex;flex-direction: column;z-index: 1;position: relative;background-color: white;}#sk-container-id-3 div.sk-parallel-item:first-child::after {align-self: flex-end;width: 50%;}#sk-container-id-3 div.sk-parallel-item:last-child::after {align-self: flex-start;width: 50%;}#sk-container-id-3 div.sk-parallel-item:only-child::after {width: 0;}#sk-container-id-3 div.sk-dashed-wrapped {border: 1px dashed gray;margin: 0 0.4em 0.5em 0.4em;box-sizing: border-box;padding-bottom: 0.4em;background-color: white;}#sk-container-id-3 div.sk-label label {font-family: monospace;font-weight: bold;display: inline-block;line-height: 1.2em;}#sk-container-id-3 div.sk-label-container {text-align: center;}#sk-container-id-3 div.sk-container {/* jupyter's `normalize.less` sets `[hidden] { display: none; }` but bootstrap.min.css set `[hidden] { display: none !important; }` so we also need the `!important` here to be able to override the default hidden behavior on the sphinx rendered scikit-learn.org. See: https://github.com/scikit-learn/scikit-learn/issues/21755 */display: inline-block !important;position: relative;}#sk-container-id-3 div.sk-text-repr-fallback {display: none;}</style><div id=\"sk-container-id-3\" class=\"sk-top-container\"><div class=\"sk-text-repr-fallback\"><pre>RandomForestClassifier(max_depth=10, n_estimators=400, random_state=0)</pre><b>In a Jupyter environment, please rerun this cell to show the HTML representation or trust the notebook. <br />On GitHub, the HTML representation is unable to render, please try loading this page with nbviewer.org.</b></div><div class=\"sk-container\" hidden><div class=\"sk-item\"><div class=\"sk-estimator sk-toggleable\"><input class=\"sk-toggleable__control sk-hidden--visually\" id=\"sk-estimator-id-3\" type=\"checkbox\" checked><label for=\"sk-estimator-id-3\" class=\"sk-toggleable__label sk-toggleable__label-arrow\">RandomForestClassifier</label><div class=\"sk-toggleable__content\"><pre>RandomForestClassifier(max_depth=10, n_estimators=400, random_state=0)</pre></div></div></div></div></div>"
            ]
          },
          "metadata": {},
          "execution_count": 29
        }
      ]
    },
    {
      "cell_type": "code",
      "execution_count": 33,
      "id": "27d96117",
      "metadata": {
        "colab": {
          "base_uri": "https://localhost:8080/"
        },
        "id": "27d96117",
        "outputId": "388cfb56-9da2-4ab5-ae82-8ab2bbaad4e8"
      },
      "outputs": [
        {
          "output_type": "stream",
          "name": "stdout",
          "text": [
            "[[0.02401883 0.02935261 0.0146704  ... 0.01163825 0.02389155 0.01486476]\n",
            " [0.02025797 0.01238588 0.0116699  ... 0.00951195 0.02153862 0.01133226]\n",
            " [0.0324232  0.01949024 0.03244023 ... 0.03901993 0.02461012 0.02990118]\n",
            " ...\n",
            " [0.01911914 0.00313859 0.00583734 ... 0.00214818 0.01180843 0.00686139]\n",
            " [0.02737623 0.0189446  0.01469554 ... 0.0132699  0.02407613 0.02117463]\n",
            " [0.03035842 0.00542939 0.02260695 ... 0.01094273 0.04241572 0.01412897]]\n",
            "[15 35  3 ... 27 34 27]\n"
          ]
        }
      ],
      "source": [
        "rf_word2vec_predicted = clf.predict(X_word2vec_test)\n",
        "rf_word2vec_proba = clf.predict_proba(X_word2vec_test)\n",
        "print(rf_word2vec_proba)\n",
        "print(rf_word2vec_predicted)"
      ]
    },
    {
      "cell_type": "code",
      "execution_count": 34,
      "id": "619cfaa6",
      "metadata": {
        "id": "619cfaa6"
      },
      "outputs": [],
      "source": [
        "# Plot confusion matrix\n",
        "def plot_confusion_matrix(y_true, y_pred, normalize=False, title=None):\n",
        "    data = confusion_matrix(y_true, y_pred)\n",
        "    df_cm = pd.DataFrame(data)\n",
        "    if normalize:\n",
        "        df_cm = df_cm.astype('float') / df_cm.sum(axis=1).values[:, np.newaxis]  # Convert DataFrame to numpy array here\n",
        "    df_cm.index.name = 'Actual'\n",
        "    df_cm.columns.name = 'Predicted'\n",
        "    plt.figure(figsize=(10, 7))\n",
        "    if title:\n",
        "        plt.title(title)\n",
        "    else:\n",
        "        plt.title(\"Confusion Matrix\")\n",
        "    sn.set(font_scale=1.4)\n",
        "    sn.heatmap(df_cm, cmap='Reds')\n",
        "\n",
        "\n",
        "def output_metrics(y_true, y_pred, normalize_cm=False, title_cm=None):\n",
        "  \"\"\"Output metrics for a model:\n",
        "    - accuracy\n",
        "    - (normalized) confusion matrix\n",
        "  \"\"\"\n",
        "  report = classification_report(y_true, y_pred, output_dict=True)\n",
        "  macro_avg = report['macro avg']\n",
        "  weighted_avg = report['weighted avg']\n",
        "\n",
        "  print('Balanced Accuracy:', balanced_accuracy_score(y_true, y_pred))\n",
        "  print('Accuracy:', report['accuracy'])\n",
        "  print('\\t\\t precision\\t\\t recall\\t\\t\\t f1-score\\t\\t support')\n",
        "  print('Macro Avg: \\t {}\\t {}\\t {}\\t {}'.format(\n",
        "      macro_avg['precision'], macro_avg['recall'], macro_avg['f1-score'], macro_avg['support']))\n",
        "  print('Weighted Avg: \\t {}\\t {}\\t {}\\t {}'.format(\n",
        "      weighted_avg['precision'], weighted_avg['recall'], weighted_avg['f1-score'], weighted_avg['support']))\n",
        "  plot_confusion_matrix(y_true, y_pred, normalize=normalize_cm, title=title_cm)"
      ]
    },
    {
      "cell_type": "code",
      "execution_count": 35,
      "id": "13793380",
      "metadata": {
        "colab": {
          "base_uri": "https://localhost:8080/",
          "height": 751
        },
        "id": "13793380",
        "outputId": "f46e7224-67d7-4d20-ea7e-e204458e208b"
      },
      "outputs": [
        {
          "output_type": "stream",
          "name": "stdout",
          "text": [
            "Balanced Accuracy: 0.2723269383753183\n",
            "Accuracy: 0.27145299145299145\n",
            "\t\t precision\t\t recall\t\t\t f1-score\t\t support\n",
            "Macro Avg: \t 0.25600020266964024\t 0.2723269383753183\t 0.22984056735210215\t 23400\n",
            "Weighted Avg: \t 0.25623381652050803\t 0.27145299145299145\t 0.22929481567828572\t 23400\n"
          ]
        },
        {
          "output_type": "display_data",
          "data": {
            "text/plain": [
              "<Figure size 1000x700 with 2 Axes>"
            ],
            "image/png": "[encoded data removed]"
          },
          "metadata": {}
        }
      ],
      "source": [
        "output_metrics(y_word2vec_test, rf_word2vec_predicted, normalize_cm=True, title_cm='Random Forest Classifier (Scaled Word2Vec) Confusion Matrix')"
      ]
    },
    {
      "cell_type": "code",
      "source": [],
      "metadata": {
        "id": "tAOEFE557uXB"
      },
      "id": "tAOEFE557uXB",
      "execution_count": null,
      "outputs": []
    }
  ],
  "metadata": {
    "kernelspec": {
      "display_name": "Python 3 (ipykernel)",
      "language": "python",
      "name": "python3"
    },
    "language_info": {
      "codemirror_mode": {
        "name": "ipython",
        "version": 3
      },
      "file_extension": ".py",
      "mimetype": "text/x-python",
      "name": "python",
      "nbconvert_exporter": "python",
      "pygments_lexer": "ipython3",
      "version": "3.9.12"
    },
    "colab": {
      "provenance": []
    }
  },
  "nbformat": 4,
  "nbformat_minor": 5
}