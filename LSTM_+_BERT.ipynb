{
  "nbformat": 4,
  "nbformat_minor": 0,
  "metadata": {
    "colab": {
      "provenance": []
    },
    "kernelspec": {
      "name": "python3",
      "display_name": "Python 3"
    },
    "language_info": {
      "name": "python"
    }
  },
  "cells": [
    {
      "cell_type": "code",
      "execution_count": 10,
      "metadata": {
        "id": "wevqN91vmN-z"
      },
      "outputs": [],
      "source": [
        "from collections import defaultdict, Counter\n",
        "from tqdm import tqdm_notebook as tqdm\n",
        "import numpy as np\n",
        "import pandas as pd\n",
        "import scipy.stats\n",
        "import seaborn as sn\n",
        "import nltk\n",
        "from nltk.corpus import stopwords\n",
        "from sklearn import preprocessing\n",
        "from sklearn.model_selection import train_test_split\n",
        "from sklearn.linear_model import LogisticRegression\n",
        "from sklearn.metrics import accuracy_score\n",
        "from sklearn.metrics import confusion_matrix\n",
        "from sklearn.metrics import classification_report\n",
        "from sklearn.metrics import balanced_accuracy_score\n",
        "\n",
        "import matplotlib.pyplot as plt\n",
        "%matplotlib inline"
      ]
    },
    {
      "cell_type": "code",
      "source": [
        "main_df_sampled = pd.read_pickle('main_df_sampled.pickle')\n",
        "main_df_sampled"
      ],
      "metadata": {
        "colab": {
          "base_uri": "https://localhost:8080/",
          "height": 597
        },
        "id": "S1b7hazinLI-",
        "outputId": "427cc472-26da-47bc-a116-b745dd3ea153"
      },
      "execution_count": 11,
      "outputs": [
        {
          "output_type": "execute_result",
          "data": {
            "text/plain": [
              "            id             subreddit  \\\n",
              "0       4ra2z6              Throwers   \n",
              "1       6dkhwl       weddingplanning   \n",
              "2       5jzfbj             redditdev   \n",
              "3       6680x8               csshelp   \n",
              "4       4tadox        StrangerThings   \n",
              "...        ...                   ...   \n",
              "116995  6cum56         LearnJapanese   \n",
              "116996  6dud8e            HotPeppers   \n",
              "116997  4nyacs            Warmachine   \n",
              "116998  66y8wp  TalesFromThePizzaGuy   \n",
              "116999  75nct0             pesmobile   \n",
              "\n",
              "                                                    title  \\\n",
              "0                                new to this (vibrations)   \n",
              "1         vendor and photographer issues and frustrations   \n",
              "2       [praw 360] test if comment is top level ?  or ...   \n",
              "3       in /r/modern_hp_theme (a test subreddit) how c...   \n",
              "4                  mr wheeler stole every scene he was in   \n",
              "...                                                   ...   \n",
              "116995  i'm having trouble reading the number 七十一万四千 w...   \n",
              "116996                       my reaper seeds won't sprout   \n",
              "116997                         what happened to skorne ?    \n",
              "116998  \"\"\"ma'am i know you're lying right now enjoy y...   \n",
              "116999                       new event superstar gameplay   \n",
              "\n",
              "                                                 selftext              genre  \n",
              "0       \"i recently got back into yoyos last time i ha...              hobby  \n",
              "1       \"your stories and advice are most certainly we...  sex/relationships  \n",
              "2       \"i mod a sub that is looking into adding a rul...               meta  \n",
              "3       \"/r/modern_hp_theme    space:nowrap;color:#666...        programming  \n",
              "4       \"\"\"what did i do ?  what did iiiiiiiii doooooo...            tv_show  \n",
              "...                                                   ...                ...  \n",
              "116995  what throws me off is the 七十一 at the beginning...          education  \n",
              "116996  i'm using the damp towel in plastic bag method...         food/drink  \n",
              "116997  \"so i have no idea what happened to other fact...         board_game  \n",
              "116998  \"last week we were stupid slow all day and thi...    writing/stories  \n",
              "116999  anyone feels that this difficulty is kinda eas...         video_game  \n",
              "\n",
              "[117000 rows x 5 columns]"
            ],
            "text/html": [
              "\n",
              "  <div id=\"df-315e46a8-2be7-4e1d-aa3f-74a01a229a31\" class=\"colab-df-container\">\n",
              "    <div>\n",
              "<style scoped>\n",
              "    .dataframe tbody tr th:only-of-type {\n",
              "        vertical-align: middle;\n",
              "    }\n",
              "\n",
              "    .dataframe tbody tr th {\n",
              "        vertical-align: top;\n",
              "    }\n",
              "\n",
              "    .dataframe thead th {\n",
              "        text-align: right;\n",
              "    }\n",
              "</style>\n",
              "<table border=\"1\" class=\"dataframe\">\n",
              "  <thead>\n",
              "    <tr style=\"text-align: right;\">\n",
              "      <th></th>\n",
              "      <th>id</th>\n",
              "      <th>subreddit</th>\n",
              "      <th>title</th>\n",
              "      <th>selftext</th>\n",
              "      <th>genre</th>\n",
              "    </tr>\n",
              "  </thead>\n",
              "  <tbody>\n",
              "    <tr>\n",
              "      <th>0</th>\n",
              "      <td>4ra2z6</td>\n",
              "      <td>Throwers</td>\n",
              "      <td>new to this (vibrations)</td>\n",
              "      <td>\"i recently got back into yoyos last time i ha...</td>\n",
              "      <td>hobby</td>\n",
              "    </tr>\n",
              "    <tr>\n",
              "      <th>1</th>\n",
              "      <td>6dkhwl</td>\n",
              "      <td>weddingplanning</td>\n",
              "      <td>vendor and photographer issues and frustrations</td>\n",
              "      <td>\"your stories and advice are most certainly we...</td>\n",
              "      <td>sex/relationships</td>\n",
              "    </tr>\n",
              "    <tr>\n",
              "      <th>2</th>\n",
              "      <td>5jzfbj</td>\n",
              "      <td>redditdev</td>\n",
              "      <td>[praw 360] test if comment is top level ?  or ...</td>\n",
              "      <td>\"i mod a sub that is looking into adding a rul...</td>\n",
              "      <td>meta</td>\n",
              "    </tr>\n",
              "    <tr>\n",
              "      <th>3</th>\n",
              "      <td>6680x8</td>\n",
              "      <td>csshelp</td>\n",
              "      <td>in /r/modern_hp_theme (a test subreddit) how c...</td>\n",
              "      <td>\"/r/modern_hp_theme    space:nowrap;color:#666...</td>\n",
              "      <td>programming</td>\n",
              "    </tr>\n",
              "    <tr>\n",
              "      <th>4</th>\n",
              "      <td>4tadox</td>\n",
              "      <td>StrangerThings</td>\n",
              "      <td>mr wheeler stole every scene he was in</td>\n",
              "      <td>\"\"\"what did i do ?  what did iiiiiiiii doooooo...</td>\n",
              "      <td>tv_show</td>\n",
              "    </tr>\n",
              "    <tr>\n",
              "      <th>...</th>\n",
              "      <td>...</td>\n",
              "      <td>...</td>\n",
              "      <td>...</td>\n",
              "      <td>...</td>\n",
              "      <td>...</td>\n",
              "    </tr>\n",
              "    <tr>\n",
              "      <th>116995</th>\n",
              "      <td>6cum56</td>\n",
              "      <td>LearnJapanese</td>\n",
              "      <td>i'm having trouble reading the number 七十一万四千 w...</td>\n",
              "      <td>what throws me off is the 七十一 at the beginning...</td>\n",
              "      <td>education</td>\n",
              "    </tr>\n",
              "    <tr>\n",
              "      <th>116996</th>\n",
              "      <td>6dud8e</td>\n",
              "      <td>HotPeppers</td>\n",
              "      <td>my reaper seeds won't sprout</td>\n",
              "      <td>i'm using the damp towel in plastic bag method...</td>\n",
              "      <td>food/drink</td>\n",
              "    </tr>\n",
              "    <tr>\n",
              "      <th>116997</th>\n",
              "      <td>4nyacs</td>\n",
              "      <td>Warmachine</td>\n",
              "      <td>what happened to skorne ?</td>\n",
              "      <td>\"so i have no idea what happened to other fact...</td>\n",
              "      <td>board_game</td>\n",
              "    </tr>\n",
              "    <tr>\n",
              "      <th>116998</th>\n",
              "      <td>66y8wp</td>\n",
              "      <td>TalesFromThePizzaGuy</td>\n",
              "      <td>\"\"\"ma'am i know you're lying right now enjoy y...</td>\n",
              "      <td>\"last week we were stupid slow all day and thi...</td>\n",
              "      <td>writing/stories</td>\n",
              "    </tr>\n",
              "    <tr>\n",
              "      <th>116999</th>\n",
              "      <td>75nct0</td>\n",
              "      <td>pesmobile</td>\n",
              "      <td>new event superstar gameplay</td>\n",
              "      <td>anyone feels that this difficulty is kinda eas...</td>\n",
              "      <td>video_game</td>\n",
              "    </tr>\n",
              "  </tbody>\n",
              "</table>\n",
              "<p>117000 rows × 5 columns</p>\n",
              "</div>\n",
              "    <div class=\"colab-df-buttons\">\n",
              "\n",
              "  <div class=\"colab-df-container\">\n",
              "    <button class=\"colab-df-convert\" onclick=\"convertToInteractive('df-315e46a8-2be7-4e1d-aa3f-74a01a229a31')\"\n",
              "            title=\"Convert this dataframe to an interactive table.\"\n",
              "            style=\"display:none;\">\n",
              "\n",
              "  <svg xmlns=\"http://www.w3.org/2000/svg\" height=\"24px\" viewBox=\"0 -960 960 960\">\n",
              "    <path d=\"M120-120v-720h720v720H120Zm60-500h600v-160H180v160Zm220 220h160v-160H400v160Zm0 220h160v-160H400v160ZM180-400h160v-160H180v160Zm440 0h160v-160H620v160ZM180-180h160v-160H180v160Zm440 0h160v-160H620v160Z\"/>\n",
              "  </svg>\n",
              "    </button>\n",
              "\n",
              "  <style>\n",
              "    .colab-df-container {\n",
              "      display:flex;\n",
              "      gap: 12px;\n",
              "    }\n",
              "\n",
              "    .colab-df-convert {\n",
              "      background-color: #E8F0FE;\n",
              "      border: none;\n",
              "      border-radius: 50%;\n",
              "      cursor: pointer;\n",
              "      display: none;\n",
              "      fill: #1967D2;\n",
              "      height: 32px;\n",
              "      padding: 0 0 0 0;\n",
              "      width: 32px;\n",
              "    }\n",
              "\n",
              "    .colab-df-convert:hover {\n",
              "      background-color: #E2EBFA;\n",
              "      box-shadow: 0px 1px 2px rgba(60, 64, 67, 0.3), 0px 1px 3px 1px rgba(60, 64, 67, 0.15);\n",
              "      fill: #174EA6;\n",
              "    }\n",
              "\n",
              "    .colab-df-buttons div {\n",
              "      margin-bottom: 4px;\n",
              "    }\n",
              "\n",
              "    [theme=dark] .colab-df-convert {\n",
              "      background-color: #3B4455;\n",
              "      fill: #D2E3FC;\n",
              "    }\n",
              "\n",
              "    [theme=dark] .colab-df-convert:hover {\n",
              "      background-color: #434B5C;\n",
              "      box-shadow: 0px 1px 3px 1px rgba(0, 0, 0, 0.15);\n",
              "      filter: drop-shadow(0px 1px 2px rgba(0, 0, 0, 0.3));\n",
              "      fill: #FFFFFF;\n",
              "    }\n",
              "  </style>\n",
              "\n",
              "    <script>\n",
              "      const buttonEl =\n",
              "        document.querySelector('#df-315e46a8-2be7-4e1d-aa3f-74a01a229a31 button.colab-df-convert');\n",
              "      buttonEl.style.display =\n",
              "        google.colab.kernel.accessAllowed ? 'block' : 'none';\n",
              "\n",
              "      async function convertToInteractive(key) {\n",
              "        const element = document.querySelector('#df-315e46a8-2be7-4e1d-aa3f-74a01a229a31');\n",
              "        const dataTable =\n",
              "          await google.colab.kernel.invokeFunction('convertToInteractive',\n",
              "                                                    [key], {});\n",
              "        if (!dataTable) return;\n",
              "\n",
              "        const docLinkHtml = 'Like what you see? Visit the ' +\n",
              "          '<a target=\"_blank\" href=https://colab.research.google.com/notebooks/data_table.ipynb>data table notebook</a>'\n",
              "          + ' to learn more about interactive tables.';\n",
              "        element.innerHTML = '';\n",
              "        dataTable['output_type'] = 'display_data';\n",
              "        await google.colab.output.renderOutput(dataTable, element);\n",
              "        const docLink = document.createElement('div');\n",
              "        docLink.innerHTML = docLinkHtml;\n",
              "        element.appendChild(docLink);\n",
              "      }\n",
              "    </script>\n",
              "  </div>\n",
              "\n",
              "\n",
              "<div id=\"df-8bfa6da3-4e59-441b-85fa-9e9aff2ba06c\">\n",
              "  <button class=\"colab-df-quickchart\" onclick=\"quickchart('df-8bfa6da3-4e59-441b-85fa-9e9aff2ba06c')\"\n",
              "            title=\"Suggest charts\"\n",
              "            style=\"display:none;\">\n",
              "\n",
              "<svg xmlns=\"http://www.w3.org/2000/svg\" height=\"24px\"viewBox=\"0 0 24 24\"\n",
              "     width=\"24px\">\n",
              "    <g>\n",
              "        <path d=\"M19 3H5c-1.1 0-2 .9-2 2v14c0 1.1.9 2 2 2h14c1.1 0 2-.9 2-2V5c0-1.1-.9-2-2-2zM9 17H7v-7h2v7zm4 0h-2V7h2v10zm4 0h-2v-4h2v4z\"/>\n",
              "    </g>\n",
              "</svg>\n",
              "  </button>\n",
              "\n",
              "<style>\n",
              "  .colab-df-quickchart {\n",
              "      --bg-color: #E8F0FE;\n",
              "      --fill-color: #1967D2;\n",
              "      --hover-bg-color: #E2EBFA;\n",
              "      --hover-fill-color: #174EA6;\n",
              "      --disabled-fill-color: #AAA;\n",
              "      --disabled-bg-color: #DDD;\n",
              "  }\n",
              "\n",
              "  [theme=dark] .colab-df-quickchart {\n",
              "      --bg-color: #3B4455;\n",
              "      --fill-color: #D2E3FC;\n",
              "      --hover-bg-color: #434B5C;\n",
              "      --hover-fill-color: #FFFFFF;\n",
              "      --disabled-bg-color: #3B4455;\n",
              "      --disabled-fill-color: #666;\n",
              "  }\n",
              "\n",
              "  .colab-df-quickchart {\n",
              "    background-color: var(--bg-color);\n",
              "    border: none;\n",
              "    border-radius: 50%;\n",
              "    cursor: pointer;\n",
              "    display: none;\n",
              "    fill: var(--fill-color);\n",
              "    height: 32px;\n",
              "    padding: 0;\n",
              "    width: 32px;\n",
              "  }\n",
              "\n",
              "  .colab-df-quickchart:hover {\n",
              "    background-color: var(--hover-bg-color);\n",
              "    box-shadow: 0 1px 2px rgba(60, 64, 67, 0.3), 0 1px 3px 1px rgba(60, 64, 67, 0.15);\n",
              "    fill: var(--button-hover-fill-color);\n",
              "  }\n",
              "\n",
              "  .colab-df-quickchart-complete:disabled,\n",
              "  .colab-df-quickchart-complete:disabled:hover {\n",
              "    background-color: var(--disabled-bg-color);\n",
              "    fill: var(--disabled-fill-color);\n",
              "    box-shadow: none;\n",
              "  }\n",
              "\n",
              "  .colab-df-spinner {\n",
              "    border: 2px solid var(--fill-color);\n",
              "    border-color: transparent;\n",
              "    border-bottom-color: var(--fill-color);\n",
              "    animation:\n",
              "      spin 1s steps(1) infinite;\n",
              "  }\n",
              "\n",
              "  @keyframes spin {\n",
              "    0% {\n",
              "      border-color: transparent;\n",
              "      border-bottom-color: var(--fill-color);\n",
              "      border-left-color: var(--fill-color);\n",
              "    }\n",
              "    20% {\n",
              "      border-color: transparent;\n",
              "      border-left-color: var(--fill-color);\n",
              "      border-top-color: var(--fill-color);\n",
              "    }\n",
              "    30% {\n",
              "      border-color: transparent;\n",
              "      border-left-color: var(--fill-color);\n",
              "      border-top-color: var(--fill-color);\n",
              "      border-right-color: var(--fill-color);\n",
              "    }\n",
              "    40% {\n",
              "      border-color: transparent;\n",
              "      border-right-color: var(--fill-color);\n",
              "      border-top-color: var(--fill-color);\n",
              "    }\n",
              "    60% {\n",
              "      border-color: transparent;\n",
              "      border-right-color: var(--fill-color);\n",
              "    }\n",
              "    80% {\n",
              "      border-color: transparent;\n",
              "      border-right-color: var(--fill-color);\n",
              "      border-bottom-color: var(--fill-color);\n",
              "    }\n",
              "    90% {\n",
              "      border-color: transparent;\n",
              "      border-bottom-color: var(--fill-color);\n",
              "    }\n",
              "  }\n",
              "</style>\n",
              "\n",
              "  <script>\n",
              "    async function quickchart(key) {\n",
              "      const quickchartButtonEl =\n",
              "        document.querySelector('#' + key + ' button');\n",
              "      quickchartButtonEl.disabled = true;  // To prevent multiple clicks.\n",
              "      quickchartButtonEl.classList.add('colab-df-spinner');\n",
              "      try {\n",
              "        const charts = await google.colab.kernel.invokeFunction(\n",
              "            'suggestCharts', [key], {});\n",
              "      } catch (error) {\n",
              "        console.error('Error during call to suggestCharts:', error);\n",
              "      }\n",
              "      quickchartButtonEl.classList.remove('colab-df-spinner');\n",
              "      quickchartButtonEl.classList.add('colab-df-quickchart-complete');\n",
              "    }\n",
              "    (() => {\n",
              "      let quickchartButtonEl =\n",
              "        document.querySelector('#df-8bfa6da3-4e59-441b-85fa-9e9aff2ba06c button');\n",
              "      quickchartButtonEl.style.display =\n",
              "        google.colab.kernel.accessAllowed ? 'block' : 'none';\n",
              "    })();\n",
              "  </script>\n",
              "</div>\n",
              "    </div>\n",
              "  </div>\n"
            ],
            "application/vnd.google.colaboratory.intrinsic+json": {
              "type": "dataframe",
              "variable_name": "main_df_sampled"
            }
          },
          "metadata": {},
          "execution_count": 11
        }
      ]
    },
    {
      "cell_type": "code",
      "source": [
        "genres = sorted(main_df_sampled['genre'].unique().tolist()) # this has to be sorted to match up with lstm model\n",
        "\n",
        "print('Number of genres:', len(genres))"
      ],
      "metadata": {
        "colab": {
          "base_uri": "https://localhost:8080/"
        },
        "id": "M75XxB7wnbC5",
        "outputId": "5adca40f-9888-46f9-a769-3042110d52e9"
      },
      "execution_count": 12,
      "outputs": [
        {
          "output_type": "stream",
          "name": "stdout",
          "text": [
            "Number of genres: 39\n"
          ]
        }
      ]
    },
    {
      "cell_type": "code",
      "source": [
        "# Get frequencies of each subreddit using efficient pandas filtering.\n",
        "frequencies = defaultdict(int)\n",
        "for genre in genres:\n",
        "    frequencies[genre] = len(main_df_sampled.loc[main_df_sampled['genre'] == genre])\n",
        "\n",
        "frequencies_df = pd.DataFrame([frequencies])\n",
        "frequencies_df = frequencies_df.T\n",
        "\n",
        "print(scipy.stats.describe(list(frequencies.values())))\n",
        "print(frequencies_df)"
      ],
      "metadata": {
        "colab": {
          "base_uri": "https://localhost:8080/"
        },
        "id": "fHPaO1LVu2JJ",
        "outputId": "620e482d-1860-44b3-a29e-15d098c02d1c"
      },
      "execution_count": 13,
      "outputs": [
        {
          "output_type": "stream",
          "name": "stdout",
          "text": [
            "DescribeResult(nobs=39, minmax=(3000, 3000), mean=3000.0, variance=0.0, skewness=nan, kurtosis=nan)\n",
            "                          0\n",
            "advice/question        3000\n",
            "animals                3000\n",
            "anime/manga            3000\n",
            "appearance             3000\n",
            "arts                   3000\n",
            "autos                  3000\n",
            "board_game             3000\n",
            "books                  3000\n",
            "card_game              3000\n",
            "company/website        3000\n",
            "crypto                 3000\n",
            "drugs                  3000\n",
            "education              3000\n",
            "electronics            3000\n",
            "finance/money          3000\n",
            "food/drink             3000\n",
            "geo                    3000\n",
            "hardware/tools         3000\n",
            "health                 3000\n",
            "hobby                  3000\n",
            "meta                   3000\n",
            "movies                 3000\n",
            "music                  3000\n",
            "other                  3000\n",
            "parenting              3000\n",
            "politics/viewpoint     3000\n",
            "profession             3000\n",
            "programming            3000\n",
            "religion/supernatural  3000\n",
            "rpg                    3000\n",
            "sex/relationships      3000\n",
            "social_group           3000\n",
            "software               3000\n",
            "sports                 3000\n",
            "stem                   3000\n",
            "travel                 3000\n",
            "tv_show                3000\n",
            "video_game             3000\n",
            "writing/stories        3000\n"
          ]
        },
        {
          "output_type": "stream",
          "name": "stderr",
          "text": [
            "<ipython-input-13-d6794b4f31c7>:9: RuntimeWarning: Precision loss occurred in moment calculation due to catastrophic cancellation. This occurs when the data are nearly identical. Results may be unreliable.\n",
            "  print(scipy.stats.describe(list(frequencies.values())))\n",
            "/usr/local/lib/python3.10/dist-packages/scipy/stats/_stats_py.py:1405: RuntimeWarning: Precision loss occurred in moment calculation due to catastrophic cancellation. This occurs when the data are nearly identical. Results may be unreliable.\n",
            "  sk = skew(a, axis, bias=bias)\n",
            "/usr/local/lib/python3.10/dist-packages/scipy/stats/_stats_py.py:1406: RuntimeWarning: Precision loss occurred in moment calculation due to catastrophic cancellation. This occurs when the data are nearly identical. Results may be unreliable.\n",
            "  kurt = kurtosis(a, axis, bias=bias)\n"
          ]
        }
      ]
    },
    {
      "cell_type": "code",
      "source": [
        "import nltk\n",
        "nltk.download('stopwords')\n",
        "stop = set(stopwords.words('english'))"
      ],
      "metadata": {
        "colab": {
          "base_uri": "https://localhost:8080/"
        },
        "id": "VQnJLEHEu2L6",
        "outputId": "1eaaad75-bc06-470a-9c77-a5f65edcb10c"
      },
      "execution_count": 14,
      "outputs": [
        {
          "output_type": "stream",
          "name": "stderr",
          "text": [
            "[nltk_data] Downloading package stopwords to /root/nltk_data...\n",
            "[nltk_data]   Unzipping corpora/stopwords.zip.\n"
          ]
        }
      ]
    },
    {
      "cell_type": "code",
      "source": [
        "#Loading the data\n",
        "import pickle\n",
        "\n",
        "X_bert_scaled = []\n",
        "\n",
        "with open('bert_embeddings.pickle', 'rb') as f:\n",
        "  embed = pickle.load(f)\n",
        "\n",
        "for i in range(len(main_df_sampled)):\n",
        "    title = main_df_sampled['title'][i]\n",
        "    selftext = main_df_sampled['selftext'][i]\n",
        "    text = title + \" \" + selftext\n",
        "    X_bert_scaled.append(embed[text])"
      ],
      "metadata": {
        "id": "fJoeFWpZu5kJ"
      },
      "execution_count": 15,
      "outputs": []
    },
    {
      "cell_type": "code",
      "source": [
        "X_bert_scaled = np.array(X_bert_scaled)\n",
        "X_bert_scaled.shape"
      ],
      "metadata": {
        "colab": {
          "base_uri": "https://localhost:8080/"
        },
        "id": "RcxfW1dNu2Oc",
        "outputId": "1dbf657f-cd49-43e6-96a3-c84eb29611c8"
      },
      "execution_count": 16,
      "outputs": [
        {
          "output_type": "execute_result",
          "data": {
            "text/plain": [
              "(117000, 768)"
            ]
          },
          "metadata": {},
          "execution_count": 16
        }
      ]
    },
    {
      "cell_type": "code",
      "source": [
        "from sklearn.preprocessing import LabelEncoder\n",
        "\n",
        "y = main_df_sampled['genre'].copy()\n",
        "\n",
        "label_encoder = LabelEncoder()\n",
        "\n",
        "y = label_encoder.fit_transform(y)\n",
        "\n",
        "genre_mapping = dict(zip(label_encoder.classes_, label_encoder.transform(label_encoder.classes_)))\n",
        "print(\"Genre Mapping:\")\n",
        "print(genre_mapping)"
      ],
      "metadata": {
        "colab": {
          "base_uri": "https://localhost:8080/"
        },
        "id": "NU4swq2gu2Q1",
        "outputId": "0eda09e4-e9bc-4411-bd3f-2aa137f0e296"
      },
      "execution_count": 17,
      "outputs": [
        {
          "output_type": "stream",
          "name": "stdout",
          "text": [
            "Genre Mapping:\n",
            "{'advice/question': 0, 'animals': 1, 'anime/manga': 2, 'appearance': 3, 'arts': 4, 'autos': 5, 'board_game': 6, 'books': 7, 'card_game': 8, 'company/website': 9, 'crypto': 10, 'drugs': 11, 'education': 12, 'electronics': 13, 'finance/money': 14, 'food/drink': 15, 'geo': 16, 'hardware/tools': 17, 'health': 18, 'hobby': 19, 'meta': 20, 'movies': 21, 'music': 22, 'other': 23, 'parenting': 24, 'politics/viewpoint': 25, 'profession': 26, 'programming': 27, 'religion/supernatural': 28, 'rpg': 29, 'sex/relationships': 30, 'social_group': 31, 'software': 32, 'sports': 33, 'stem': 34, 'travel': 35, 'tv_show': 36, 'video_game': 37, 'writing/stories': 38}\n"
          ]
        }
      ]
    },
    {
      "cell_type": "code",
      "source": [
        "X_bert_train, X_bert_test, y_bert_train, y_bert_test = train_test_split(X_bert_scaled, y, test_size=0.2, random_state=42)\n",
        "print(X_bert_train.shape, X_bert_test.shape, y_bert_train.shape, y_bert_test.shape)\n"
      ],
      "metadata": {
        "colab": {
          "base_uri": "https://localhost:8080/"
        },
        "id": "ppv8g6ECu2Tw",
        "outputId": "68095add-c221-4afe-f67f-85afc25c8208"
      },
      "execution_count": 18,
      "outputs": [
        {
          "output_type": "stream",
          "name": "stdout",
          "text": [
            "(93600, 768) (23400, 768) (93600,) (23400,)\n"
          ]
        }
      ]
    },
    {
      "cell_type": "code",
      "source": [],
      "metadata": {
        "id": "DA-mq6kRvGCP"
      },
      "execution_count": null,
      "outputs": []
    },
    {
      "cell_type": "code",
      "source": [],
      "metadata": {
        "id": "CeBOmotfu2XG"
      },
      "execution_count": null,
      "outputs": []
    },
    {
      "cell_type": "code",
      "source": [],
      "metadata": {
        "id": "9ZeBfTiDnbfb"
      },
      "execution_count": 5,
      "outputs": []
    },
    {
      "cell_type": "code",
      "source": [
        "label_encoder = LabelEncoder()\n",
        "y_encoded = label_encoder.fit_transform(y)"
      ],
      "metadata": {
        "id": "JpF4yhkynfNQ"
      },
      "execution_count": 19,
      "outputs": []
    },
    {
      "cell_type": "code",
      "source": [
        "# Reshape data for LSTM input\n",
        "X_bert_train = X_bert_train.reshape((X_bert_train.shape[0], 1, X_bert_train.shape[1]))\n",
        "X_bert_test = X_bert_test.reshape((X_bert_test.shape[0], 1, X_bert_test.shape[1]))"
      ],
      "metadata": {
        "id": "LfuQfzhrniqN"
      },
      "execution_count": 20,
      "outputs": []
    },
    {
      "cell_type": "code",
      "source": [
        "from keras.models import Sequential\n",
        "from keras.layers import LSTM, Dense, Dropout\n",
        "from keras.optimizers import Adam"
      ],
      "metadata": {
        "id": "uSuU18n2vYFy"
      },
      "execution_count": 21,
      "outputs": []
    },
    {
      "cell_type": "code",
      "source": [
        "# Build the LSTM model\n",
        "model = Sequential()\n",
        "model.add(LSTM(64, input_shape=(1, X_bert_train.shape[2]), return_sequences=False))\n",
        "model.add(Dropout(0.1))\n",
        "model.add(Dense(len(np.unique(y_encoded)), activation='softmax'))\n",
        "model.compile(optimizer=Adam(), loss='sparse_categorical_crossentropy', metrics=['accuracy'])"
      ],
      "metadata": {
        "id": "no3kQ3DYnlcP"
      },
      "execution_count": 22,
      "outputs": []
    },
    {
      "cell_type": "code",
      "source": [
        "history = model.fit(X_bert_train, y_bert_train, epochs=10, batch_size=32, validation_split=0.2)\n"
      ],
      "metadata": {
        "colab": {
          "base_uri": "https://localhost:8080/"
        },
        "id": "0KNGjqvinm3a",
        "outputId": "8ddc0587-9027-43ad-e752-55b1f5402a32"
      },
      "execution_count": 23,
      "outputs": [
        {
          "output_type": "stream",
          "name": "stdout",
          "text": [
            "Epoch 1/10\n",
            "2340/2340 [==============================] - 24s 9ms/step - loss: 2.0887 - accuracy: 0.4445 - val_loss: 1.7949 - val_accuracy: 0.5007\n",
            "Epoch 2/10\n",
            "2340/2340 [==============================] - 18s 8ms/step - loss: 1.7090 - accuracy: 0.5194 - val_loss: 1.7223 - val_accuracy: 0.5171\n",
            "Epoch 3/10\n",
            "2340/2340 [==============================] - 20s 8ms/step - loss: 1.5903 - accuracy: 0.5467 - val_loss: 1.6782 - val_accuracy: 0.5310\n",
            "Epoch 4/10\n",
            "2340/2340 [==============================] - 18s 8ms/step - loss: 1.5088 - accuracy: 0.5688 - val_loss: 1.6637 - val_accuracy: 0.5337\n",
            "Epoch 5/10\n",
            "2340/2340 [==============================] - 18s 8ms/step - loss: 1.4381 - accuracy: 0.5848 - val_loss: 1.6591 - val_accuracy: 0.5365\n",
            "Epoch 6/10\n",
            "2340/2340 [==============================] - 16s 7ms/step - loss: 1.3812 - accuracy: 0.6012 - val_loss: 1.6634 - val_accuracy: 0.5373\n",
            "Epoch 7/10\n",
            "2340/2340 [==============================] - 18s 8ms/step - loss: 1.3296 - accuracy: 0.6121 - val_loss: 1.6644 - val_accuracy: 0.5390\n",
            "Epoch 8/10\n",
            "2340/2340 [==============================] - 19s 8ms/step - loss: 1.2797 - accuracy: 0.6252 - val_loss: 1.6763 - val_accuracy: 0.5419\n",
            "Epoch 9/10\n",
            "2340/2340 [==============================] - 19s 8ms/step - loss: 1.2368 - accuracy: 0.6360 - val_loss: 1.6849 - val_accuracy: 0.5421\n",
            "Epoch 10/10\n",
            "2340/2340 [==============================] - 19s 8ms/step - loss: 1.1984 - accuracy: 0.6446 - val_loss: 1.6997 - val_accuracy: 0.5366\n"
          ]
        }
      ]
    },
    {
      "cell_type": "code",
      "source": [
        "# Evaluate the model\n",
        "results = model.evaluate(X_bert_test, y_bert_test)\n",
        "print(f\"Test Loss: {results[0]}, Test Accuracy: {results[1]}\")"
      ],
      "metadata": {
        "colab": {
          "base_uri": "https://localhost:8080/"
        },
        "id": "xqzbnCMdnot6",
        "outputId": "83425db6-b040-418a-dfcb-e98aa2d82221"
      },
      "execution_count": 24,
      "outputs": [
        {
          "output_type": "stream",
          "name": "stdout",
          "text": [
            "732/732 [==============================] - 3s 3ms/step - loss: 1.7174 - accuracy: 0.5351\n",
            "Test Loss: 1.7173856496810913, Test Accuracy: 0.5350854992866516\n"
          ]
        }
      ]
    },
    {
      "cell_type": "code",
      "source": [
        "\n",
        "# Predict and generate metrics\n",
        "y_pred = model.predict(X_bert_test)\n",
        "y_pred = np.argmax(y_pred, axis=1)"
      ],
      "metadata": {
        "colab": {
          "base_uri": "https://localhost:8080/"
        },
        "id": "tOXlGDdznqbj",
        "outputId": "0c180d36-3441-4597-a344-547f39f23511"
      },
      "execution_count": 25,
      "outputs": [
        {
          "output_type": "stream",
          "name": "stdout",
          "text": [
            "732/732 [==============================] - 3s 3ms/step\n"
          ]
        }
      ]
    },
    {
      "cell_type": "code",
      "source": [
        "def plot_confusion_matrix(y_true, y_pred, normalize=False, title='Confusion Matrix'):\n",
        "    cm = confusion_matrix(y_true, y_pred)\n",
        "    if normalize:\n",
        "        cm = cm.astype('float') / cm.sum(axis=1)[:, np.newaxis]\n",
        "    df_cm = pd.DataFrame(cm, index=np.unique(y_true), columns=np.unique(y_true))\n",
        "    plt.figure(figsize=(10, 7))\n",
        "    sn.heatmap(df_cm, cmap='Reds')\n",
        "    plt.title(title)\n",
        "    plt.ylabel('Actual')\n",
        "    plt.xlabel('Predicted')\n",
        "    plt.show()"
      ],
      "metadata": {
        "id": "JtNlzijFnskg"
      },
      "execution_count": 34,
      "outputs": []
    },
    {
      "cell_type": "code",
      "source": [
        "plot_confusion_matrix(y_bert_test, y_pred, normalize=True, title = \"Confusion Matrix: LSTM + BERT\")"
      ],
      "metadata": {
        "colab": {
          "base_uri": "https://localhost:8080/",
          "height": 645
        },
        "id": "6gnJ6JQTnuhf",
        "outputId": "713e3508-6783-4768-b7c9-35340b8cd577"
      },
      "execution_count": 35,
      "outputs": [
        {
          "output_type": "display_data",
          "data": {
            "text/plain": [
              "<Figure size 1000x700 with 2 Axes>"
            ],
            "image/png": "[encoded data removed]"
          },
          "metadata": {}
        }
      ]
    },
    {
      "cell_type": "code",
      "source": [
        "print(classification_report(y_bert_test, y_pred))\n"
      ],
      "metadata": {
        "colab": {
          "base_uri": "https://localhost:8080/"
        },
        "id": "W64kDsjGnwY4",
        "outputId": "854613a5-1c1c-4128-ba9e-072e33b2c50f"
      },
      "execution_count": 36,
      "outputs": [
        {
          "output_type": "stream",
          "name": "stdout",
          "text": [
            "              precision    recall  f1-score   support\n",
            "\n",
            "           0       0.41      0.35      0.38       620\n",
            "           1       0.80      0.79      0.79       604\n",
            "           2       0.55      0.54      0.55       621\n",
            "           3       0.61      0.68      0.64       598\n",
            "           4       0.47      0.46      0.47       584\n",
            "           5       0.71      0.74      0.73       607\n",
            "           6       0.45      0.50      0.47       575\n",
            "           7       0.53      0.59      0.56       589\n",
            "           8       0.61      0.57      0.59       612\n",
            "           9       0.37      0.29      0.32       605\n",
            "          10       0.60      0.67      0.63       608\n",
            "          11       0.55      0.59      0.57       545\n",
            "          12       0.64      0.66      0.65       609\n",
            "          13       0.37      0.46      0.41       591\n",
            "          14       0.58      0.61      0.59       579\n",
            "          15       0.72      0.79      0.76       641\n",
            "          16       0.55      0.57      0.56       628\n",
            "          17       0.45      0.47      0.46       559\n",
            "          18       0.51      0.47      0.49       639\n",
            "          19       0.31      0.25      0.28       611\n",
            "          20       0.50      0.56      0.52       567\n",
            "          21       0.60      0.58      0.59       625\n",
            "          22       0.67      0.69      0.68       582\n",
            "          23       0.37      0.29      0.33       630\n",
            "          24       0.64      0.67      0.66       573\n",
            "          25       0.52      0.48      0.50       592\n",
            "          26       0.30      0.26      0.28       605\n",
            "          27       0.53      0.69      0.60       566\n",
            "          28       0.59      0.58      0.58       614\n",
            "          29       0.56      0.50      0.53       588\n",
            "          30       0.41      0.43      0.42       603\n",
            "          31       0.38      0.37      0.38       585\n",
            "          32       0.39      0.29      0.33       616\n",
            "          33       0.61      0.58      0.59       611\n",
            "          34       0.58      0.54      0.56       636\n",
            "          35       0.74      0.78      0.76       595\n",
            "          36       0.65      0.63      0.64       583\n",
            "          37       0.41      0.40      0.41       606\n",
            "          38       0.45      0.53      0.49       598\n",
            "\n",
            "    accuracy                           0.54     23400\n",
            "   macro avg       0.53      0.54      0.53     23400\n",
            "weighted avg       0.53      0.54      0.53     23400\n",
            "\n"
          ]
        }
      ]
    },
    {
      "cell_type": "code",
      "source": [],
      "metadata": {
        "id": "vPrRt_-7xYwH"
      },
      "execution_count": null,
      "outputs": []
    }
  ]
}