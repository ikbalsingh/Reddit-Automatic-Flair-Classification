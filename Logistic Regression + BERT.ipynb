{
 "cells": [
  {
   "cell_type": "code",
   "execution_count": 1,
   "id": "b7a11391",
   "metadata": {},
   "outputs": [],
   "source": [
    "from collections import defaultdict, Counter\n",
    "from tqdm import tqdm_notebook as tqdm\n",
    "import numpy as np\n",
    "import pandas as pd\n",
    "import scipy.stats\n",
    "import seaborn as sn\n",
    "import nltk\n",
    "from nltk.corpus import stopwords\n",
    "from sklearn import preprocessing\n",
    "from sklearn.model_selection import train_test_split\n",
    "from sklearn.linear_model import LogisticRegression\n",
    "from sklearn.metrics import accuracy_score\n",
    "from sklearn.metrics import confusion_matrix\n",
    "from sklearn.metrics import classification_report\n",
    "from sklearn.metrics import balanced_accuracy_score\n",
    "\n",
    "import matplotlib.pyplot as plt\n",
    "%matplotlib inline"
   ]
  },
  {
   "cell_type": "code",
   "execution_count": 2,
   "id": "d1e6eaba",
   "metadata": {},
   "outputs": [
    {
     "data": {
      "text/html": [
       "<div>\n",
       "<style scoped>\n",
       "    .dataframe tbody tr th:only-of-type {\n",
       "        vertical-align: middle;\n",
       "    }\n",
       "\n",
       "    .dataframe tbody tr th {\n",
       "        vertical-align: top;\n",
       "    }\n",
       "\n",
       "    .dataframe thead th {\n",
       "        text-align: right;\n",
       "    }\n",
       "</style>\n",
       "<table border=\"1\" class=\"dataframe\">\n",
       "  <thead>\n",
       "    <tr style=\"text-align: right;\">\n",
       "      <th></th>\n",
       "      <th>id</th>\n",
       "      <th>subreddit</th>\n",
       "      <th>title</th>\n",
       "      <th>selftext</th>\n",
       "      <th>genre</th>\n",
       "    </tr>\n",
       "  </thead>\n",
       "  <tbody>\n",
       "    <tr>\n",
       "      <th>0</th>\n",
       "      <td>4ra2z6</td>\n",
       "      <td>Throwers</td>\n",
       "      <td>new to this (vibrations)</td>\n",
       "      <td>\"i recently got back into yoyos last time i ha...</td>\n",
       "      <td>hobby</td>\n",
       "    </tr>\n",
       "    <tr>\n",
       "      <th>1</th>\n",
       "      <td>6dkhwl</td>\n",
       "      <td>weddingplanning</td>\n",
       "      <td>vendor and photographer issues and frustrations</td>\n",
       "      <td>\"your stories and advice are most certainly we...</td>\n",
       "      <td>sex/relationships</td>\n",
       "    </tr>\n",
       "    <tr>\n",
       "      <th>2</th>\n",
       "      <td>5jzfbj</td>\n",
       "      <td>redditdev</td>\n",
       "      <td>[praw 360] test if comment is top level ?  or ...</td>\n",
       "      <td>\"i mod a sub that is looking into adding a rul...</td>\n",
       "      <td>meta</td>\n",
       "    </tr>\n",
       "    <tr>\n",
       "      <th>3</th>\n",
       "      <td>6680x8</td>\n",
       "      <td>csshelp</td>\n",
       "      <td>in /r/modern_hp_theme (a test subreddit) how c...</td>\n",
       "      <td>\"/r/modern_hp_theme    space:nowrap;color:#666...</td>\n",
       "      <td>programming</td>\n",
       "    </tr>\n",
       "    <tr>\n",
       "      <th>4</th>\n",
       "      <td>4tadox</td>\n",
       "      <td>StrangerThings</td>\n",
       "      <td>mr wheeler stole every scene he was in</td>\n",
       "      <td>\"\"\"what did i do ?  what did iiiiiiiii doooooo...</td>\n",
       "      <td>tv_show</td>\n",
       "    </tr>\n",
       "    <tr>\n",
       "      <th>...</th>\n",
       "      <td>...</td>\n",
       "      <td>...</td>\n",
       "      <td>...</td>\n",
       "      <td>...</td>\n",
       "      <td>...</td>\n",
       "    </tr>\n",
       "    <tr>\n",
       "      <th>116995</th>\n",
       "      <td>6cum56</td>\n",
       "      <td>LearnJapanese</td>\n",
       "      <td>i'm having trouble reading the number 七十一万四千 w...</td>\n",
       "      <td>what throws me off is the 七十一 at the beginning...</td>\n",
       "      <td>education</td>\n",
       "    </tr>\n",
       "    <tr>\n",
       "      <th>116996</th>\n",
       "      <td>6dud8e</td>\n",
       "      <td>HotPeppers</td>\n",
       "      <td>my reaper seeds won't sprout</td>\n",
       "      <td>i'm using the damp towel in plastic bag method...</td>\n",
       "      <td>food/drink</td>\n",
       "    </tr>\n",
       "    <tr>\n",
       "      <th>116997</th>\n",
       "      <td>4nyacs</td>\n",
       "      <td>Warmachine</td>\n",
       "      <td>what happened to skorne ?</td>\n",
       "      <td>\"so i have no idea what happened to other fact...</td>\n",
       "      <td>board_game</td>\n",
       "    </tr>\n",
       "    <tr>\n",
       "      <th>116998</th>\n",
       "      <td>66y8wp</td>\n",
       "      <td>TalesFromThePizzaGuy</td>\n",
       "      <td>\"\"\"ma'am i know you're lying right now enjoy y...</td>\n",
       "      <td>\"last week we were stupid slow all day and thi...</td>\n",
       "      <td>writing/stories</td>\n",
       "    </tr>\n",
       "    <tr>\n",
       "      <th>116999</th>\n",
       "      <td>75nct0</td>\n",
       "      <td>pesmobile</td>\n",
       "      <td>new event superstar gameplay</td>\n",
       "      <td>anyone feels that this difficulty is kinda eas...</td>\n",
       "      <td>video_game</td>\n",
       "    </tr>\n",
       "  </tbody>\n",
       "</table>\n",
       "<p>117000 rows × 5 columns</p>\n",
       "</div>"
      ],
      "text/plain": [
       "            id             subreddit  \\\n",
       "0       4ra2z6              Throwers   \n",
       "1       6dkhwl       weddingplanning   \n",
       "2       5jzfbj             redditdev   \n",
       "3       6680x8               csshelp   \n",
       "4       4tadox        StrangerThings   \n",
       "...        ...                   ...   \n",
       "116995  6cum56         LearnJapanese   \n",
       "116996  6dud8e            HotPeppers   \n",
       "116997  4nyacs            Warmachine   \n",
       "116998  66y8wp  TalesFromThePizzaGuy   \n",
       "116999  75nct0             pesmobile   \n",
       "\n",
       "                                                    title  \\\n",
       "0                                new to this (vibrations)   \n",
       "1         vendor and photographer issues and frustrations   \n",
       "2       [praw 360] test if comment is top level ?  or ...   \n",
       "3       in /r/modern_hp_theme (a test subreddit) how c...   \n",
       "4                  mr wheeler stole every scene he was in   \n",
       "...                                                   ...   \n",
       "116995  i'm having trouble reading the number 七十一万四千 w...   \n",
       "116996                       my reaper seeds won't sprout   \n",
       "116997                         what happened to skorne ?    \n",
       "116998  \"\"\"ma'am i know you're lying right now enjoy y...   \n",
       "116999                       new event superstar gameplay   \n",
       "\n",
       "                                                 selftext              genre  \n",
       "0       \"i recently got back into yoyos last time i ha...              hobby  \n",
       "1       \"your stories and advice are most certainly we...  sex/relationships  \n",
       "2       \"i mod a sub that is looking into adding a rul...               meta  \n",
       "3       \"/r/modern_hp_theme    space:nowrap;color:#666...        programming  \n",
       "4       \"\"\"what did i do ?  what did iiiiiiiii doooooo...            tv_show  \n",
       "...                                                   ...                ...  \n",
       "116995  what throws me off is the 七十一 at the beginning...          education  \n",
       "116996  i'm using the damp towel in plastic bag method...         food/drink  \n",
       "116997  \"so i have no idea what happened to other fact...         board_game  \n",
       "116998  \"last week we were stupid slow all day and thi...    writing/stories  \n",
       "116999  anyone feels that this difficulty is kinda eas...         video_game  \n",
       "\n",
       "[117000 rows x 5 columns]"
      ]
     },
     "execution_count": 2,
     "metadata": {},
     "output_type": "execute_result"
    }
   ],
   "source": [
    "main_df_sampled = pd.read_pickle('main_df_sampled.pickle')\n",
    "main_df_sampled"
   ]
  },
  {
   "cell_type": "code",
   "execution_count": 3,
   "id": "c6faacb4",
   "metadata": {},
   "outputs": [
    {
     "name": "stdout",
     "output_type": "stream",
     "text": [
      "Number of genres: 39\n"
     ]
    }
   ],
   "source": [
    "genres = sorted(main_df_sampled['genre'].unique().tolist()) # this has to be sorted to match up with lstm model\n",
    "\n",
    "print('Number of genres:', len(genres))"
   ]
  },
  {
   "cell_type": "code",
   "execution_count": 4,
   "id": "22c4135f",
   "metadata": {},
   "outputs": [
    {
     "name": "stdout",
     "output_type": "stream",
     "text": [
      "DescribeResult(nobs=39, minmax=(3000, 3000), mean=3000.0, variance=0.0, skewness=nan, kurtosis=nan)\n",
      "                          0\n",
      "advice/question        3000\n",
      "animals                3000\n",
      "anime/manga            3000\n",
      "appearance             3000\n",
      "arts                   3000\n",
      "autos                  3000\n",
      "board_game             3000\n",
      "books                  3000\n",
      "card_game              3000\n",
      "company/website        3000\n",
      "crypto                 3000\n",
      "drugs                  3000\n",
      "education              3000\n",
      "electronics            3000\n",
      "finance/money          3000\n",
      "food/drink             3000\n",
      "geo                    3000\n",
      "hardware/tools         3000\n",
      "health                 3000\n",
      "hobby                  3000\n",
      "meta                   3000\n",
      "movies                 3000\n",
      "music                  3000\n",
      "other                  3000\n",
      "parenting              3000\n",
      "politics/viewpoint     3000\n",
      "profession             3000\n",
      "programming            3000\n",
      "religion/supernatural  3000\n",
      "rpg                    3000\n",
      "sex/relationships      3000\n",
      "social_group           3000\n",
      "software               3000\n",
      "sports                 3000\n",
      "stem                   3000\n",
      "travel                 3000\n",
      "tv_show                3000\n",
      "video_game             3000\n",
      "writing/stories        3000\n"
     ]
    },
    {
     "name": "stderr",
     "output_type": "stream",
     "text": [
      "/var/folders/43/55xrz6yn351c1v3zrty2c19m0000gn/T/ipykernel_76210/991558748.py:9: RuntimeWarning: Precision loss occurred in moment calculation due to catastrophic cancellation. This occurs when the data are nearly identical. Results may be unreliable.\n",
      "  print(scipy.stats.describe(list(frequencies.values())))\n",
      "/opt/anaconda3/envs/torch/lib/python3.9/site-packages/scipy/stats/_stats_py.py:1522: RuntimeWarning: Precision loss occurred in moment calculation due to catastrophic cancellation. This occurs when the data are nearly identical. Results may be unreliable.\n",
      "  sk = skew(a, axis, bias=bias)\n",
      "/opt/anaconda3/envs/torch/lib/python3.9/site-packages/scipy/stats/_stats_py.py:1523: RuntimeWarning: Precision loss occurred in moment calculation due to catastrophic cancellation. This occurs when the data are nearly identical. Results may be unreliable.\n",
      "  kurt = kurtosis(a, axis, bias=bias)\n"
     ]
    }
   ],
   "source": [
    "# Get frequencies of each subreddit using efficient pandas filtering.\n",
    "frequencies = defaultdict(int)\n",
    "for genre in genres:\n",
    "    frequencies[genre] = len(main_df_sampled.loc[main_df_sampled['genre'] == genre])\n",
    "\n",
    "frequencies_df = pd.DataFrame([frequencies])\n",
    "frequencies_df = frequencies_df.T\n",
    "\n",
    "print(scipy.stats.describe(list(frequencies.values())))\n",
    "print(frequencies_df)"
   ]
  },
  {
   "cell_type": "code",
   "execution_count": 5,
   "id": "29e31474",
   "metadata": {},
   "outputs": [
    {
     "name": "stderr",
     "output_type": "stream",
     "text": [
      "[nltk_data] Downloading package stopwords to\n",
      "[nltk_data]     /Users/rmritik/nltk_data...\n",
      "[nltk_data]   Package stopwords is already up-to-date!\n"
     ]
    }
   ],
   "source": [
    "import nltk\n",
    "nltk.download('stopwords')\n",
    "stop = set(stopwords.words('english'))"
   ]
  },
  {
   "cell_type": "code",
   "execution_count": null,
   "id": "952db922",
   "metadata": {},
   "outputs": [],
   "source": [
    "import torch\n",
    "from transformers import BertTokenizer, BertModel\n",
    "from tqdm import tqdm\n",
    "\n",
    "# Load pre-trained model tokenizer\n",
    "tokenizer = BertTokenizer.from_pretrained('bert-base-uncased')\n",
    "\n",
    "# Load pre-trained model (weights)\n",
    "model = BertModel.from_pretrained('bert-base-uncased')\n",
    "model.eval()\n",
    "\n",
    "def get_bert_embeddings(text):\n",
    "    marked_text = \"[CLS] \" + text + \" [SEP]\"\n",
    "    tokenized_text = tokenizer.tokenize(marked_text)\n",
    "    segment_length = 512  # Maximum segment length\n",
    "    tokenized_segments = [tokenized_text[i:i+segment_length] for i in range(0, len(tokenized_text), segment_length)]\n",
    "\n",
    "    segment_embeddings = []\n",
    "    for segment in tokenized_segments:\n",
    "        indexed_tokens = tokenizer.convert_tokens_to_ids(segment)\n",
    "        segments_ids = [1] * len(segment)\n",
    "\n",
    "        tokens_tensor = torch.tensor([indexed_tokens])\n",
    "        segments_tensors = torch.tensor([segments_ids])\n",
    "\n",
    "        with torch.no_grad():\n",
    "            outputs = model(tokens_tensor, segments_tensors)\n",
    "            encoded_layers = outputs[0]\n",
    "\n",
    "        token_embeddings = torch.squeeze(encoded_layers, dim=0)\n",
    "        segment_embedding = torch.mean(token_embeddings, dim=0)\n",
    "        segment_embeddings.append(segment_embedding)\n",
    "\n",
    "    # Combine segment embeddings\n",
    "    combined_embedding = torch.mean(torch.stack(segment_embeddings), dim=0)\n",
    "    return combined_embedding.numpy()\n",
    "\n",
    "X_bert = []\n",
    "\n",
    "for i in tqdm(range(len(main_df_sampled))):\n",
    "    title = main_df_sampled['title'][i]\n",
    "    selftext = main_df_sampled['selftext'][i]\n",
    "    text = title + \" \" + selftext\n",
    "    X_bert.append(get_bert_embeddings(text))\n",
    "\n",
    "X_bert = np.array(X_bert)\n",
    "X_bert_scaled = preprocessing.scale(X_bert)"
   ]
  },
  {
   "cell_type": "code",
   "execution_count": null,
   "id": "95c2e1dc",
   "metadata": {},
   "outputs": [],
   "source": [
    "bert_embeddings = dict()\n",
    "\n",
    "for i in range(len(main_df_sampled)):\n",
    "    title = main_df_sampled['title'][i]\n",
    "    selftext = main_df_sampled['selftext'][i]\n",
    "    text = title + \" \" + selftext\n",
    "    bert_embeddings[text] = X_bert_scaled[i]"
   ]
  },
  {
   "cell_type": "code",
   "execution_count": null,
   "id": "bb1e179f",
   "metadata": {},
   "outputs": [],
   "source": [
    "import pickle\n",
    "with open(\"bert_embeddings.pickle\", 'wb') as f:\n",
    "    pickle.dump(bert_embeddings, f)"
   ]
  },
  {
   "cell_type": "code",
   "execution_count": 6,
   "id": "ab6dadc0",
   "metadata": {},
   "outputs": [],
   "source": [
    "#Loading the data\n",
    "import pickle\n",
    "\n",
    "X_bert_scaled = []\n",
    "\n",
    "with open('bert_embeddings.pickle', 'rb') as f:\n",
    "  embed = pickle.load(f)\n",
    "\n",
    "for i in range(len(main_df_sampled)):\n",
    "    title = main_df_sampled['title'][i]\n",
    "    selftext = main_df_sampled['selftext'][i]\n",
    "    text = title + \" \" + selftext\n",
    "    X_bert_scaled.append(embed[text])"
   ]
  },
  {
   "cell_type": "code",
   "execution_count": 7,
   "id": "3fb9ca1d",
   "metadata": {},
   "outputs": [
    {
     "data": {
      "text/plain": [
       "(117000, 768)"
      ]
     },
     "execution_count": 7,
     "metadata": {},
     "output_type": "execute_result"
    }
   ],
   "source": [
    "X_bert_scaled = np.array(X_bert_scaled)\n",
    "X_bert_scaled.shape"
   ]
  },
  {
   "cell_type": "code",
   "execution_count": 8,
   "id": "8b136bc9",
   "metadata": {},
   "outputs": [
    {
     "name": "stdout",
     "output_type": "stream",
     "text": [
      "Genre Mapping:\n",
      "{'advice/question': 0, 'animals': 1, 'anime/manga': 2, 'appearance': 3, 'arts': 4, 'autos': 5, 'board_game': 6, 'books': 7, 'card_game': 8, 'company/website': 9, 'crypto': 10, 'drugs': 11, 'education': 12, 'electronics': 13, 'finance/money': 14, 'food/drink': 15, 'geo': 16, 'hardware/tools': 17, 'health': 18, 'hobby': 19, 'meta': 20, 'movies': 21, 'music': 22, 'other': 23, 'parenting': 24, 'politics/viewpoint': 25, 'profession': 26, 'programming': 27, 'religion/supernatural': 28, 'rpg': 29, 'sex/relationships': 30, 'social_group': 31, 'software': 32, 'sports': 33, 'stem': 34, 'travel': 35, 'tv_show': 36, 'video_game': 37, 'writing/stories': 38}\n"
     ]
    }
   ],
   "source": [
    "from sklearn.preprocessing import LabelEncoder\n",
    "\n",
    "y = main_df_sampled['genre'].copy()\n",
    "\n",
    "label_encoder = LabelEncoder()\n",
    "\n",
    "y = label_encoder.fit_transform(y)\n",
    "\n",
    "genre_mapping = dict(zip(label_encoder.classes_, label_encoder.transform(label_encoder.classes_)))\n",
    "print(\"Genre Mapping:\")\n",
    "print(genre_mapping)"
   ]
  },
  {
   "cell_type": "code",
   "execution_count": 9,
   "id": "c4328d96",
   "metadata": {},
   "outputs": [
    {
     "name": "stdout",
     "output_type": "stream",
     "text": [
      "(93600, 768) (23400, 768) (93600,) (23400,)\n"
     ]
    }
   ],
   "source": [
    "X_bert_train, X_bert_test, y_bert_train, y_bert_test = train_test_split(X_bert_scaled, y, test_size=0.2, random_state=42)\n",
    "print(X_bert_train.shape, X_bert_test.shape, y_bert_train.shape, y_bert_test.shape)"
   ]
  },
  {
   "cell_type": "markdown",
   "id": "a2c6f3e8",
   "metadata": {},
   "source": [
    "## Logistic Regression with BERT"
   ]
  },
  {
   "cell_type": "code",
   "execution_count": 11,
   "id": "ea088e51",
   "metadata": {},
   "outputs": [
    {
     "name": "stdout",
     "output_type": "stream",
     "text": [
      "Fitting 5 folds for each of 9 candidates, totalling 45 fits\n"
     ]
    },
    {
     "name": "stderr",
     "output_type": "stream",
     "text": [
      "/opt/anaconda3/envs/torch/lib/python3.9/site-packages/sklearn/linear_model/_sag.py:350: ConvergenceWarning: The max_iter was reached which means the coef_ did not converge\n",
      "  warnings.warn(\n",
      "/opt/anaconda3/envs/torch/lib/python3.9/site-packages/sklearn/linear_model/_sag.py:350: ConvergenceWarning: The max_iter was reached which means the coef_ did not converge\n",
      "  warnings.warn(\n",
      "/opt/anaconda3/envs/torch/lib/python3.9/site-packages/sklearn/linear_model/_sag.py:350: ConvergenceWarning: The max_iter was reached which means the coef_ did not converge\n",
      "  warnings.warn(\n",
      "/opt/anaconda3/envs/torch/lib/python3.9/site-packages/sklearn/linear_model/_sag.py:350: ConvergenceWarning: The max_iter was reached which means the coef_ did not converge\n",
      "  warnings.warn(\n",
      "/opt/anaconda3/envs/torch/lib/python3.9/site-packages/sklearn/linear_model/_sag.py:350: ConvergenceWarning: The max_iter was reached which means the coef_ did not converge\n",
      "  warnings.warn(\n",
      "/opt/anaconda3/envs/torch/lib/python3.9/site-packages/sklearn/linear_model/_sag.py:350: ConvergenceWarning: The max_iter was reached which means the coef_ did not converge\n",
      "  warnings.warn(\n",
      "/opt/anaconda3/envs/torch/lib/python3.9/site-packages/sklearn/linear_model/_sag.py:350: ConvergenceWarning: The max_iter was reached which means the coef_ did not converge\n",
      "  warnings.warn(\n",
      "/opt/anaconda3/envs/torch/lib/python3.9/site-packages/sklearn/linear_model/_sag.py:350: ConvergenceWarning: The max_iter was reached which means the coef_ did not converge\n",
      "  warnings.warn(\n",
      "/opt/anaconda3/envs/torch/lib/python3.9/site-packages/sklearn/linear_model/_sag.py:350: ConvergenceWarning: The max_iter was reached which means the coef_ did not converge\n",
      "  warnings.warn(\n",
      "/opt/anaconda3/envs/torch/lib/python3.9/site-packages/sklearn/linear_model/_sag.py:350: ConvergenceWarning: The max_iter was reached which means the coef_ did not converge\n",
      "  warnings.warn(\n",
      "/opt/anaconda3/envs/torch/lib/python3.9/site-packages/sklearn/linear_model/_sag.py:350: ConvergenceWarning: The max_iter was reached which means the coef_ did not converge\n",
      "  warnings.warn(\n",
      "/opt/anaconda3/envs/torch/lib/python3.9/site-packages/sklearn/linear_model/_sag.py:350: ConvergenceWarning: The max_iter was reached which means the coef_ did not converge\n",
      "  warnings.warn(\n",
      "/opt/anaconda3/envs/torch/lib/python3.9/site-packages/sklearn/linear_model/_sag.py:350: ConvergenceWarning: The max_iter was reached which means the coef_ did not converge\n",
      "  warnings.warn(\n",
      "/opt/anaconda3/envs/torch/lib/python3.9/site-packages/sklearn/linear_model/_sag.py:350: ConvergenceWarning: The max_iter was reached which means the coef_ did not converge\n",
      "  warnings.warn(\n",
      "/opt/anaconda3/envs/torch/lib/python3.9/site-packages/sklearn/linear_model/_sag.py:350: ConvergenceWarning: The max_iter was reached which means the coef_ did not converge\n",
      "  warnings.warn(\n",
      "/opt/anaconda3/envs/torch/lib/python3.9/site-packages/sklearn/linear_model/_sag.py:350: ConvergenceWarning: The max_iter was reached which means the coef_ did not converge\n",
      "  warnings.warn(\n",
      "/opt/anaconda3/envs/torch/lib/python3.9/site-packages/sklearn/linear_model/_sag.py:350: ConvergenceWarning: The max_iter was reached which means the coef_ did not converge\n",
      "  warnings.warn(\n",
      "/opt/anaconda3/envs/torch/lib/python3.9/site-packages/sklearn/linear_model/_logistic.py:458: ConvergenceWarning: lbfgs failed to converge (status=1):\n",
      "STOP: TOTAL NO. of ITERATIONS REACHED LIMIT.\n",
      "\n",
      "Increase the number of iterations (max_iter) or scale the data as shown in:\n",
      "    https://scikit-learn.org/stable/modules/preprocessing.html\n",
      "Please also refer to the documentation for alternative solver options:\n",
      "    https://scikit-learn.org/stable/modules/linear_model.html#logistic-regression\n",
      "  n_iter_i = _check_optimize_result(\n",
      "/opt/anaconda3/envs/torch/lib/python3.9/site-packages/sklearn/linear_model/_logistic.py:458: ConvergenceWarning: lbfgs failed to converge (status=1):\n",
      "STOP: TOTAL NO. of ITERATIONS REACHED LIMIT.\n",
      "\n",
      "Increase the number of iterations (max_iter) or scale the data as shown in:\n",
      "    https://scikit-learn.org/stable/modules/preprocessing.html\n",
      "Please also refer to the documentation for alternative solver options:\n",
      "    https://scikit-learn.org/stable/modules/linear_model.html#logistic-regression\n",
      "  n_iter_i = _check_optimize_result(\n",
      "/opt/anaconda3/envs/torch/lib/python3.9/site-packages/sklearn/linear_model/_sag.py:350: ConvergenceWarning: The max_iter was reached which means the coef_ did not converge\n",
      "  warnings.warn(\n",
      "/opt/anaconda3/envs/torch/lib/python3.9/site-packages/sklearn/linear_model/_sag.py:350: ConvergenceWarning: The max_iter was reached which means the coef_ did not converge\n",
      "  warnings.warn(\n",
      "/opt/anaconda3/envs/torch/lib/python3.9/site-packages/sklearn/linear_model/_logistic.py:458: ConvergenceWarning: lbfgs failed to converge (status=1):\n",
      "STOP: TOTAL NO. of ITERATIONS REACHED LIMIT.\n",
      "\n",
      "Increase the number of iterations (max_iter) or scale the data as shown in:\n",
      "    https://scikit-learn.org/stable/modules/preprocessing.html\n",
      "Please also refer to the documentation for alternative solver options:\n",
      "    https://scikit-learn.org/stable/modules/linear_model.html#logistic-regression\n",
      "  n_iter_i = _check_optimize_result(\n",
      "/opt/anaconda3/envs/torch/lib/python3.9/site-packages/sklearn/linear_model/_logistic.py:458: ConvergenceWarning: lbfgs failed to converge (status=1):\n",
      "STOP: TOTAL NO. of ITERATIONS REACHED LIMIT.\n",
      "\n",
      "Increase the number of iterations (max_iter) or scale the data as shown in:\n",
      "    https://scikit-learn.org/stable/modules/preprocessing.html\n",
      "Please also refer to the documentation for alternative solver options:\n",
      "    https://scikit-learn.org/stable/modules/linear_model.html#logistic-regression\n",
      "  n_iter_i = _check_optimize_result(\n",
      "/opt/anaconda3/envs/torch/lib/python3.9/site-packages/sklearn/linear_model/_logistic.py:458: ConvergenceWarning: lbfgs failed to converge (status=1):\n",
      "STOP: TOTAL NO. of ITERATIONS REACHED LIMIT.\n",
      "\n",
      "Increase the number of iterations (max_iter) or scale the data as shown in:\n",
      "    https://scikit-learn.org/stable/modules/preprocessing.html\n",
      "Please also refer to the documentation for alternative solver options:\n",
      "    https://scikit-learn.org/stable/modules/linear_model.html#logistic-regression\n",
      "  n_iter_i = _check_optimize_result(\n",
      "/opt/anaconda3/envs/torch/lib/python3.9/site-packages/sklearn/linear_model/_sag.py:350: ConvergenceWarning: The max_iter was reached which means the coef_ did not converge\n",
      "  warnings.warn(\n",
      "/opt/anaconda3/envs/torch/lib/python3.9/site-packages/sklearn/linear_model/_sag.py:350: ConvergenceWarning: The max_iter was reached which means the coef_ did not converge\n",
      "  warnings.warn(\n"
     ]
    },
    {
     "data": {
      "text/html": [
       "<style>#sk-container-id-1 {color: black;background-color: white;}#sk-container-id-1 pre{padding: 0;}#sk-container-id-1 div.sk-toggleable {background-color: white;}#sk-container-id-1 label.sk-toggleable__label {cursor: pointer;display: block;width: 100%;margin-bottom: 0;padding: 0.3em;box-sizing: border-box;text-align: center;}#sk-container-id-1 label.sk-toggleable__label-arrow:before {content: \"▸\";float: left;margin-right: 0.25em;color: #696969;}#sk-container-id-1 label.sk-toggleable__label-arrow:hover:before {color: black;}#sk-container-id-1 div.sk-estimator:hover label.sk-toggleable__label-arrow:before {color: black;}#sk-container-id-1 div.sk-toggleable__content {max-height: 0;max-width: 0;overflow: hidden;text-align: left;background-color: #f0f8ff;}#sk-container-id-1 div.sk-toggleable__content pre {margin: 0.2em;color: black;border-radius: 0.25em;background-color: #f0f8ff;}#sk-container-id-1 input.sk-toggleable__control:checked~div.sk-toggleable__content {max-height: 200px;max-width: 100%;overflow: auto;}#sk-container-id-1 input.sk-toggleable__control:checked~label.sk-toggleable__label-arrow:before {content: \"▾\";}#sk-container-id-1 div.sk-estimator input.sk-toggleable__control:checked~label.sk-toggleable__label {background-color: #d4ebff;}#sk-container-id-1 div.sk-label input.sk-toggleable__control:checked~label.sk-toggleable__label {background-color: #d4ebff;}#sk-container-id-1 input.sk-hidden--visually {border: 0;clip: rect(1px 1px 1px 1px);clip: rect(1px, 1px, 1px, 1px);height: 1px;margin: -1px;overflow: hidden;padding: 0;position: absolute;width: 1px;}#sk-container-id-1 div.sk-estimator {font-family: monospace;background-color: #f0f8ff;border: 1px dotted black;border-radius: 0.25em;box-sizing: border-box;margin-bottom: 0.5em;}#sk-container-id-1 div.sk-estimator:hover {background-color: #d4ebff;}#sk-container-id-1 div.sk-parallel-item::after {content: \"\";width: 100%;border-bottom: 1px solid gray;flex-grow: 1;}#sk-container-id-1 div.sk-label:hover label.sk-toggleable__label {background-color: #d4ebff;}#sk-container-id-1 div.sk-serial::before {content: \"\";position: absolute;border-left: 1px solid gray;box-sizing: border-box;top: 0;bottom: 0;left: 50%;z-index: 0;}#sk-container-id-1 div.sk-serial {display: flex;flex-direction: column;align-items: center;background-color: white;padding-right: 0.2em;padding-left: 0.2em;position: relative;}#sk-container-id-1 div.sk-item {position: relative;z-index: 1;}#sk-container-id-1 div.sk-parallel {display: flex;align-items: stretch;justify-content: center;background-color: white;position: relative;}#sk-container-id-1 div.sk-item::before, #sk-container-id-1 div.sk-parallel-item::before {content: \"\";position: absolute;border-left: 1px solid gray;box-sizing: border-box;top: 0;bottom: 0;left: 50%;z-index: -1;}#sk-container-id-1 div.sk-parallel-item {display: flex;flex-direction: column;z-index: 1;position: relative;background-color: white;}#sk-container-id-1 div.sk-parallel-item:first-child::after {align-self: flex-end;width: 50%;}#sk-container-id-1 div.sk-parallel-item:last-child::after {align-self: flex-start;width: 50%;}#sk-container-id-1 div.sk-parallel-item:only-child::after {width: 0;}#sk-container-id-1 div.sk-dashed-wrapped {border: 1px dashed gray;margin: 0 0.4em 0.5em 0.4em;box-sizing: border-box;padding-bottom: 0.4em;background-color: white;}#sk-container-id-1 div.sk-label label {font-family: monospace;font-weight: bold;display: inline-block;line-height: 1.2em;}#sk-container-id-1 div.sk-label-container {text-align: center;}#sk-container-id-1 div.sk-container {/* jupyter's `normalize.less` sets `[hidden] { display: none; }` but bootstrap.min.css set `[hidden] { display: none !important; }` so we also need the `!important` here to be able to override the default hidden behavior on the sphinx rendered scikit-learn.org. See: https://github.com/scikit-learn/scikit-learn/issues/21755 */display: inline-block !important;position: relative;}#sk-container-id-1 div.sk-text-repr-fallback {display: none;}</style><div id=\"sk-container-id-1\" class=\"sk-top-container\"><div class=\"sk-text-repr-fallback\"><pre>GridSearchCV(cv=5,\n",
       "             estimator=Pipeline(steps=[(&#x27;lr&#x27;,\n",
       "                                        LogisticRegression(max_iter=500,\n",
       "                                                           random_state=42))]),\n",
       "             n_jobs=4,\n",
       "             param_grid={&#x27;lr__C&#x27;: [0.01, 0.1, 1],\n",
       "                         &#x27;lr__solver&#x27;: [&#x27;lbfgs&#x27;, &#x27;sag&#x27;, &#x27;saga&#x27;]},\n",
       "             verbose=1)</pre><b>In a Jupyter environment, please rerun this cell to show the HTML representation or trust the notebook. <br />On GitHub, the HTML representation is unable to render, please try loading this page with nbviewer.org.</b></div><div class=\"sk-container\" hidden><div class=\"sk-item sk-dashed-wrapped\"><div class=\"sk-label-container\"><div class=\"sk-label sk-toggleable\"><input class=\"sk-toggleable__control sk-hidden--visually\" id=\"sk-estimator-id-1\" type=\"checkbox\" ><label for=\"sk-estimator-id-1\" class=\"sk-toggleable__label sk-toggleable__label-arrow\">GridSearchCV</label><div class=\"sk-toggleable__content\"><pre>GridSearchCV(cv=5,\n",
       "             estimator=Pipeline(steps=[(&#x27;lr&#x27;,\n",
       "                                        LogisticRegression(max_iter=500,\n",
       "                                                           random_state=42))]),\n",
       "             n_jobs=4,\n",
       "             param_grid={&#x27;lr__C&#x27;: [0.01, 0.1, 1],\n",
       "                         &#x27;lr__solver&#x27;: [&#x27;lbfgs&#x27;, &#x27;sag&#x27;, &#x27;saga&#x27;]},\n",
       "             verbose=1)</pre></div></div></div><div class=\"sk-parallel\"><div class=\"sk-parallel-item\"><div class=\"sk-item\"><div class=\"sk-label-container\"><div class=\"sk-label sk-toggleable\"><input class=\"sk-toggleable__control sk-hidden--visually\" id=\"sk-estimator-id-2\" type=\"checkbox\" ><label for=\"sk-estimator-id-2\" class=\"sk-toggleable__label sk-toggleable__label-arrow\">estimator: Pipeline</label><div class=\"sk-toggleable__content\"><pre>Pipeline(steps=[(&#x27;lr&#x27;, LogisticRegression(max_iter=500, random_state=42))])</pre></div></div></div><div class=\"sk-serial\"><div class=\"sk-item\"><div class=\"sk-serial\"><div class=\"sk-item\"><div class=\"sk-estimator sk-toggleable\"><input class=\"sk-toggleable__control sk-hidden--visually\" id=\"sk-estimator-id-3\" type=\"checkbox\" ><label for=\"sk-estimator-id-3\" class=\"sk-toggleable__label sk-toggleable__label-arrow\">LogisticRegression</label><div class=\"sk-toggleable__content\"><pre>LogisticRegression(max_iter=500, random_state=42)</pre></div></div></div></div></div></div></div></div></div></div></div></div>"
      ],
      "text/plain": [
       "GridSearchCV(cv=5,\n",
       "             estimator=Pipeline(steps=[('lr',\n",
       "                                        LogisticRegression(max_iter=500,\n",
       "                                                           random_state=42))]),\n",
       "             n_jobs=4,\n",
       "             param_grid={'lr__C': [0.01, 0.1, 1],\n",
       "                         'lr__solver': ['lbfgs', 'sag', 'saga']},\n",
       "             verbose=1)"
      ]
     },
     "execution_count": 11,
     "metadata": {},
     "output_type": "execute_result"
    }
   ],
   "source": [
    "from sklearn.pipeline import Pipeline\n",
    "from sklearn.model_selection import GridSearchCV\n",
    "\n",
    "lr_bert = LogisticRegression(random_state=42, max_iter=500)\n",
    "\n",
    "param_grid = {\n",
    "    'lr__C': [0.01, 0.1, 1],\n",
    "    'lr__solver': ['lbfgs', 'sag', 'saga']\n",
    "}\n",
    "\n",
    "pipe_bert = Pipeline([\n",
    "    ('lr', lr_bert)\n",
    "])\n",
    "\n",
    "grid_bert = GridSearchCV(pipe_bert, param_grid, cv=5, n_jobs = 4, verbose=1)\n",
    "grid_bert.fit(X_bert_train, y_bert_train)"
   ]
  },
  {
   "cell_type": "code",
   "execution_count": 12,
   "id": "81c29872",
   "metadata": {},
   "outputs": [
    {
     "name": "stdout",
     "output_type": "stream",
     "text": [
      "[[0.00301765 0.00067401 0.00021651 ... 0.00340104 0.00041861 0.00030602]\n",
      " [0.0011922  0.00332541 0.00076021 ... 0.00708485 0.00114241 0.00100545]\n",
      " [0.032127   0.00215073 0.00069615 ... 0.00075929 0.00337209 0.0209072 ]\n",
      " ...\n",
      " [0.00789708 0.0080775  0.001034   ... 0.00564501 0.00036308 0.01802545]\n",
      " [0.00779617 0.00968665 0.00803526 ... 0.0034936  0.01096778 0.00075043]\n",
      " [0.00083369 0.00952283 0.00221429 ... 0.00038638 0.00751849 0.00061903]]\n",
      "[15 16 26 ... 11 19 11]\n"
     ]
    }
   ],
   "source": [
    "lr_bert_predicted = grid_bert.predict(X_bert_test)\n",
    "lr_bert_proba = grid_bert.predict_proba(X_bert_test)\n",
    "print(lr_bert_proba)\n",
    "print(lr_bert_predicted)"
   ]
  },
  {
   "cell_type": "code",
   "execution_count": 13,
   "id": "0ea9b084",
   "metadata": {},
   "outputs": [],
   "source": [
    "def plot_confusion_matrix(y_true, y_pred, normalize=False, title=None):\n",
    "    data = confusion_matrix(y_true, y_pred)\n",
    "    if normalize:\n",
    "        data = data.astype('float') / data.sum(axis=1)[:, np.newaxis]\n",
    "    df_cm = pd.DataFrame(data, index=np.unique(y_true), columns=np.unique(y_true))\n",
    "    df_cm.index.name = 'Actual'\n",
    "    df_cm.columns.name = 'Predicted'\n",
    "    plt.figure(figsize=(10, 7))\n",
    "    if title:\n",
    "        plt.title(title)\n",
    "    else:\n",
    "        plt.title(\"Confusion Matrix\")\n",
    "    sn.set(font_scale=1.4)\n",
    "    sn.heatmap(df_cm, cmap='Reds')\n",
    "\n",
    "def output_metrics(y_true, y_pred, normalize_cm=False, title_cm=None):\n",
    "    \"\"\"Output metrics for a model:\n",
    "    - accuracy\n",
    "    - (normalized) confusion matrix\n",
    "    \"\"\"\n",
    "    report = classification_report(y_true, y_pred, output_dict=True)\n",
    "    macro_avg = report['macro avg']\n",
    "    weighted_avg = report['weighted avg']\n",
    "\n",
    "    print('Balanced Accuracy:', balanced_accuracy_score(y_true, y_pred))\n",
    "    print('Accuracy:', report['accuracy'])\n",
    "    print('\\t\\t precision\\t\\t recall\\t\\t\\t f1-score\\t\\t support')\n",
    "    print('Macro Avg: \\t {}\\t {}\\t {}\\t {}'.format(\n",
    "        macro_avg['precision'], macro_avg['recall'], macro_avg['f1-score'], macro_avg['support']))\n",
    "    print('Weighted Avg: \\t {}\\t {}\\t {}\\t {}'.format(\n",
    "        weighted_avg['precision'], weighted_avg['recall'], weighted_avg['f1-score'], weighted_avg['support']))\n",
    "    plot_confusion_matrix(y_true, y_pred, normalize=normalize_cm, title=title_cm)\n"
   ]
  },
  {
   "cell_type": "code",
   "execution_count": 14,
   "id": "cbec8b6d",
   "metadata": {},
   "outputs": [
    {
     "name": "stdout",
     "output_type": "stream",
     "text": [
      "Balanced Accuracy: 0.5689339830401648\n",
      "Accuracy: 0.5683333333333334\n",
      "\t\t precision\t\t recall\t\t\t f1-score\t\t support\n",
      "Macro Avg: \t 0.5613244822251664\t 0.5689339830401648\t 0.5639776376536676\t 23400\n",
      "Weighted Avg: \t 0.5614726242775779\t 0.5683333333333334\t 0.5637493809905004\t 23400\n"
     ]
    },
    {
     "data": {
      "image/png": "[encoded data removed]",
      "text/plain": [
       "<Figure size 1000x700 with 2 Axes>"
      ]
     },
     "metadata": {},
     "output_type": "display_data"
    }
   ],
   "source": [
    "output_metrics(y_bert_test, lr_bert_predicted, normalize_cm=True, title_cm='Logistic Regression (BERT Embeddings) Confusion Matrix')"
   ]
  },
  {
   "cell_type": "code",
   "execution_count": null,
   "id": "98203216",
   "metadata": {},
   "outputs": [],
   "source": []
  }
 ],
 "metadata": {
  "kernelspec": {
   "display_name": "Python 3 (ipykernel)",
   "language": "python",
   "name": "python3"
  },
  "language_info": {
   "codemirror_mode": {
    "name": "ipython",
    "version": 3
   },
   "file_extension": ".py",
   "mimetype": "text/x-python",
   "name": "python",
   "nbconvert_exporter": "python",
   "pygments_lexer": "ipython3",
   "version": "3.9.13"
  }
 },
 "nbformat": 4,
 "nbformat_minor": 5
}
