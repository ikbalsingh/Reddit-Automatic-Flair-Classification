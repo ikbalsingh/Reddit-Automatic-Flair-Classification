{
 "cells": [
  {
   "cell_type": "code",
   "execution_count": 1,
   "metadata": {
    "id": "Kfw56CoCjLao"
   },
   "outputs": [],
   "source": [
    "subreddit_filename = 'archive/subreddit_info.csv'\n",
    "main_dataset_filename = 'archive/rspct.tsv'"
   ]
  },
  {
   "cell_type": "code",
   "execution_count": 2,
   "metadata": {
    "colab": {
     "base_uri": "https://localhost:8080/"
    },
    "id": "TzM-6D0yqi60",
    "outputId": "c8b40b8e-32a4-423a-a784-866d59b26811"
   },
   "outputs": [
    {
     "name": "stderr",
     "output_type": "stream",
     "text": [
      "[nltk_data] Downloading package stopwords to\n",
      "[nltk_data]     /Users/rmritik/nltk_data...\n",
      "[nltk_data]   Unzipping corpora/stopwords.zip.\n"
     ]
    },
    {
     "data": {
      "text/plain": [
       "True"
      ]
     },
     "execution_count": 2,
     "metadata": {},
     "output_type": "execute_result"
    }
   ],
   "source": [
    "import re\n",
    "import numpy as np\n",
    "import pandas as pd\n",
    "import scipy.stats\n",
    "import nltk\n",
    "from nltk.corpus import stopwords\n",
    "nltk.download('stopwords')"
   ]
  },
  {
   "cell_type": "code",
   "execution_count": 3,
   "metadata": {
    "id": "nC86O-225NYH"
   },
   "outputs": [],
   "source": [
    "sub_df = pd.read_csv(subreddit_filename)"
   ]
  },
  {
   "cell_type": "code",
   "execution_count": 4,
   "metadata": {
    "colab": {
     "base_uri": "https://localhost:8080/",
     "height": 206
    },
    "id": "m_uJ2AFK5Nvi",
    "outputId": "fb55f038-1d99-45c1-bd67-cd7b99cd4b63"
   },
   "outputs": [
    {
     "data": {
      "text/html": [
       "<div>\n",
       "<style scoped>\n",
       "    .dataframe tbody tr th:only-of-type {\n",
       "        vertical-align: middle;\n",
       "    }\n",
       "\n",
       "    .dataframe tbody tr th {\n",
       "        vertical-align: top;\n",
       "    }\n",
       "\n",
       "    .dataframe thead th {\n",
       "        text-align: right;\n",
       "    }\n",
       "</style>\n",
       "<table border=\"1\" class=\"dataframe\">\n",
       "  <thead>\n",
       "    <tr style=\"text-align: right;\">\n",
       "      <th></th>\n",
       "      <th>subreddit</th>\n",
       "      <th>category_1</th>\n",
       "      <th>category_2</th>\n",
       "      <th>category_3</th>\n",
       "      <th>in_data</th>\n",
       "      <th>reason_for_exclusion</th>\n",
       "    </tr>\n",
       "  </thead>\n",
       "  <tbody>\n",
       "    <tr>\n",
       "      <th>3389</th>\n",
       "      <td>HFY</td>\n",
       "      <td>writing/stories</td>\n",
       "      <td>sci-fi</td>\n",
       "      <td>NaN</td>\n",
       "      <td>True</td>\n",
       "      <td>NaN</td>\n",
       "    </tr>\n",
       "    <tr>\n",
       "      <th>3390</th>\n",
       "      <td>TalesFromYourServer</td>\n",
       "      <td>writing/stories</td>\n",
       "      <td>tech support</td>\n",
       "      <td>NaN</td>\n",
       "      <td>False</td>\n",
       "      <td>fewer posts than r/talesfromtechsupport which ...</td>\n",
       "    </tr>\n",
       "    <tr>\n",
       "      <th>3391</th>\n",
       "      <td>talesfromtechsupport</td>\n",
       "      <td>writing/stories</td>\n",
       "      <td>tech support</td>\n",
       "      <td>NaN</td>\n",
       "      <td>True</td>\n",
       "      <td>NaN</td>\n",
       "    </tr>\n",
       "    <tr>\n",
       "      <th>3392</th>\n",
       "      <td>WayfarersPub</td>\n",
       "      <td>writing/stories</td>\n",
       "      <td>wayfarers pub</td>\n",
       "      <td>NaN</td>\n",
       "      <td>True</td>\n",
       "      <td>NaN</td>\n",
       "    </tr>\n",
       "    <tr>\n",
       "      <th>3393</th>\n",
       "      <td>Glitch_in_the_Matrix</td>\n",
       "      <td>writing/stories</td>\n",
       "      <td>weird</td>\n",
       "      <td>NaN</td>\n",
       "      <td>False</td>\n",
       "      <td>too_broad</td>\n",
       "    </tr>\n",
       "  </tbody>\n",
       "</table>\n",
       "</div>"
      ],
      "text/plain": [
       "                 subreddit       category_1     category_2 category_3  \\\n",
       "3389                   HFY  writing/stories         sci-fi        NaN   \n",
       "3390   TalesFromYourServer  writing/stories   tech support        NaN   \n",
       "3391  talesfromtechsupport  writing/stories   tech support        NaN   \n",
       "3392          WayfarersPub  writing/stories  wayfarers pub        NaN   \n",
       "3393  Glitch_in_the_Matrix  writing/stories          weird        NaN   \n",
       "\n",
       "      in_data                               reason_for_exclusion  \n",
       "3389     True                                                NaN  \n",
       "3390    False  fewer posts than r/talesfromtechsupport which ...  \n",
       "3391     True                                                NaN  \n",
       "3392     True                                                NaN  \n",
       "3393    False                                          too_broad  "
      ]
     },
     "execution_count": 4,
     "metadata": {},
     "output_type": "execute_result"
    }
   ],
   "source": [
    "sub_df.tail()"
   ]
  },
  {
   "cell_type": "code",
   "execution_count": 5,
   "metadata": {
    "colab": {
     "base_uri": "https://localhost:8080/"
    },
    "id": "xWg2LnBv5N7W",
    "outputId": "690ebbc0-55a7-45c2-9eab-161ea2bd6da4"
   },
   "outputs": [
    {
     "name": "stdout",
     "output_type": "stream",
     "text": [
      "Number of subreddits in main dataset: 1013\n"
     ]
    }
   ],
   "source": [
    "in_data_rows = sub_df[sub_df['in_data'].isin([True])]\n",
    "print('Number of subreddits in main dataset:', in_data_rows['subreddit'].count())"
   ]
  },
  {
   "cell_type": "code",
   "execution_count": 6,
   "metadata": {
    "colab": {
     "base_uri": "https://localhost:8080/"
    },
    "id": "rRAGMyI75N-n",
    "outputId": "8cc9e544-57ca-4810-8a68-e2d3b3b53b7f"
   },
   "outputs": [
    {
     "name": "stdout",
     "output_type": "stream",
     "text": [
      "Number of distinct subreddit genres/categories in main dataset: 39\n"
     ]
    }
   ],
   "source": [
    "print('Number of distinct subreddit genres/categories in main dataset:', in_data_rows['category_1'].nunique())"
   ]
  },
  {
   "cell_type": "code",
   "execution_count": 7,
   "metadata": {
    "colab": {
     "base_uri": "https://localhost:8080/"
    },
    "id": "b1GxYL2V5ODF",
    "outputId": "dad92d56-d113-4ba4-d705-dda05fd8d060"
   },
   "outputs": [
    {
     "data": {
      "text/plain": [
       "(1013000, 4)"
      ]
     },
     "execution_count": 7,
     "metadata": {},
     "output_type": "execute_result"
    }
   ],
   "source": [
    "import csv\n",
    "main_df = pd.read_csv(main_dataset_filename, sep='\\t', quoting=csv.QUOTE_NONE)\n",
    "main_df.shape"
   ]
  },
  {
   "cell_type": "code",
   "execution_count": 8,
   "metadata": {
    "colab": {
     "base_uri": "https://localhost:8080/",
     "height": 206
    },
    "id": "ahEkogrN5OIi",
    "outputId": "98ed0729-fb72-4e1d-b263-8a8b613660c5"
   },
   "outputs": [
    {
     "data": {
      "text/html": [
       "<div>\n",
       "<style scoped>\n",
       "    .dataframe tbody tr th:only-of-type {\n",
       "        vertical-align: middle;\n",
       "    }\n",
       "\n",
       "    .dataframe tbody tr th {\n",
       "        vertical-align: top;\n",
       "    }\n",
       "\n",
       "    .dataframe thead th {\n",
       "        text-align: right;\n",
       "    }\n",
       "</style>\n",
       "<table border=\"1\" class=\"dataframe\">\n",
       "  <thead>\n",
       "    <tr style=\"text-align: right;\">\n",
       "      <th></th>\n",
       "      <th>id</th>\n",
       "      <th>subreddit</th>\n",
       "      <th>title</th>\n",
       "      <th>selftext</th>\n",
       "    </tr>\n",
       "  </thead>\n",
       "  <tbody>\n",
       "    <tr>\n",
       "      <th>1012995</th>\n",
       "      <td>5r9k4h</td>\n",
       "      <td>MSLGame</td>\n",
       "      <td>Is this months rebirth and dungeon astro's wor...</td>\n",
       "      <td>I looking on what to evo3 farm next and was ex...</td>\n",
       "    </tr>\n",
       "    <tr>\n",
       "      <th>1012996</th>\n",
       "      <td>6529fp</td>\n",
       "      <td>CrohnsDisease</td>\n",
       "      <td>I might need a Medical leave from grad school</td>\n",
       "      <td>Has anyone here ever needed a medical leave fr...</td>\n",
       "    </tr>\n",
       "    <tr>\n",
       "      <th>1012997</th>\n",
       "      <td>7tiyzx</td>\n",
       "      <td>HongKong</td>\n",
       "      <td>Police harassing ethnic minorities in Hong Kong</td>\n",
       "      <td>I thought I'd make this post so that more peop...</td>\n",
       "    </tr>\n",
       "    <tr>\n",
       "      <th>1012998</th>\n",
       "      <td>664ha3</td>\n",
       "      <td>yorku</td>\n",
       "      <td>SU EECS 2030 and EECS 2021 - need advice</td>\n",
       "      <td>Hi, I just finished 1st year EECS courses and ...</td>\n",
       "    </tr>\n",
       "    <tr>\n",
       "      <th>1012999</th>\n",
       "      <td>6ump0y</td>\n",
       "      <td>wine</td>\n",
       "      <td>What is the worse wine you ever had?</td>\n",
       "      <td>My worst wine was at a dinner party. My friend...</td>\n",
       "    </tr>\n",
       "  </tbody>\n",
       "</table>\n",
       "</div>"
      ],
      "text/plain": [
       "             id      subreddit  \\\n",
       "1012995  5r9k4h        MSLGame   \n",
       "1012996  6529fp  CrohnsDisease   \n",
       "1012997  7tiyzx       HongKong   \n",
       "1012998  664ha3          yorku   \n",
       "1012999  6ump0y           wine   \n",
       "\n",
       "                                                     title  \\\n",
       "1012995  Is this months rebirth and dungeon astro's wor...   \n",
       "1012996      I might need a Medical leave from grad school   \n",
       "1012997    Police harassing ethnic minorities in Hong Kong   \n",
       "1012998           SU EECS 2030 and EECS 2021 - need advice   \n",
       "1012999               What is the worse wine you ever had?   \n",
       "\n",
       "                                                  selftext  \n",
       "1012995  I looking on what to evo3 farm next and was ex...  \n",
       "1012996  Has anyone here ever needed a medical leave fr...  \n",
       "1012997  I thought I'd make this post so that more peop...  \n",
       "1012998  Hi, I just finished 1st year EECS courses and ...  \n",
       "1012999  My worst wine was at a dinner party. My friend...  "
      ]
     },
     "execution_count": 8,
     "metadata": {},
     "output_type": "execute_result"
    }
   ],
   "source": [
    "main_df.head()\n",
    "main_df.tail()"
   ]
  },
  {
   "cell_type": "code",
   "execution_count": 9,
   "metadata": {
    "colab": {
     "base_uri": "https://localhost:8080/"
    },
    "id": "hGmL1OAb5OMP",
    "outputId": "3b62b93f-ba7b-49f9-8616-30ed036c7e67"
   },
   "outputs": [
    {
     "name": "stdout",
     "output_type": "stream",
     "text": [
      "DescribeResult(nobs=39, minmax=(5000, 100000), mean=25974.358974358973, variance=390446693.65722007, skewness=1.8081815563285653, kurtosis=3.5418945416204455)\n",
      "                            0\n",
      "advice/question         18000\n",
      "animals                 17000\n",
      "anime/manga             26000\n",
      "appearance              11000\n",
      "arts                    21000\n",
      "autos                   20000\n",
      "board_game               9000\n",
      "books                   12000\n",
      "card_game               15000\n",
      "company/website         28000\n",
      "crypto                  29000\n",
      "drugs                   23000\n",
      "education               17000\n",
      "electronics             51000\n",
      "finance/money           10000\n",
      "food/drink              15000\n",
      "geo                     29000\n",
      "hardware/tools          14000\n",
      "health                  58000\n",
      "hobby                   30000\n",
      "meta                     9000\n",
      "movies                   7000\n",
      "music                   43000\n",
      "other                   27000\n",
      "parenting               13000\n",
      "politics/viewpoint      16000\n",
      "profession              56000\n",
      "programming             21000\n",
      "religion/supernatural   13000\n",
      "rpg                      7000\n",
      "sex/relationships       31000\n",
      "social_group            16000\n",
      "software                52000\n",
      "sports                  40000\n",
      "stem                    14000\n",
      "travel                   5000\n",
      "tv_show                 68000\n",
      "video_game             100000\n",
      "writing/stories         22000\n"
     ]
    }
   ],
   "source": [
    "import re\n",
    "from collections import defaultdict\n",
    "\n",
    "genres = list(in_data_rows['category_1'].unique())\n",
    "genre_to_sub = dict()\n",
    "for genre in genres:\n",
    "  rows = in_data_rows.loc[in_data_rows['category_1'] == genre]\n",
    "  genre_to_sub[genre] = list(rows['subreddit'])\n",
    "\n",
    "# Get frequencies of each subreddit using efficient pandas filtering.\n",
    "frequencies = defaultdict(int)\n",
    "for genre in genres:\n",
    "  frequencies[genre] = len(main_df.loc[main_df['subreddit'].isin(genre_to_sub[genre])])\n",
    "\n",
    "frequencies_df = pd.DataFrame([frequencies])\n",
    "# frequencies_df.transpose().hist()\n",
    "frequencies_df = frequencies_df.T\n",
    "\n",
    "print(scipy.stats.describe(list(frequencies.values())))\n",
    "print(frequencies_df)"
   ]
  },
  {
   "cell_type": "code",
   "execution_count": 10,
   "metadata": {
    "id": "q34lRa5NEJ6-"
   },
   "outputs": [],
   "source": [
    "main_df['title'] = main_df['title'].apply(lambda title: title.lower())\n",
    "main_df['selftext'] = main_df['selftext'].apply(lambda selftext: selftext.lower())"
   ]
  },
  {
   "cell_type": "code",
   "execution_count": 11,
   "metadata": {
    "id": "CkmYLnee5OP2"
   },
   "outputs": [],
   "source": [
    "def clean_punctuation(sr):\n",
    "  for i, text in sr.items():\n",
    "    text = re.sub(r\",\", \"\", text)\n",
    "    text = re.sub(r\"\\.\", \"\", text)\n",
    "    text = re.sub(r\"\\?\", \" ? \", text)\n",
    "    text = re.sub(r\"!\", \" ! \", text)\n",
    "    text = re.sub(r\"<.*>\", \"\", text)\n",
    "    sr.at[i] = text\n",
    "\n",
    "clean_punctuation(main_df['title'])\n",
    "clean_punctuation(main_df['selftext'])"
   ]
  },
  {
   "cell_type": "code",
   "execution_count": 12,
   "metadata": {
    "colab": {
     "base_uri": "https://localhost:8080/"
    },
    "id": "hzIO39tw5OTV",
    "outputId": "9cee94a6-aed1-43a4-f347-c6c0af31a34a"
   },
   "outputs": [
    {
     "name": "stdout",
     "output_type": "stream",
     "text": [
      "       id             subreddit  \\\n",
      "0  6d8knd  talesfromtechsupport   \n",
      "1  58mbft               teenmom   \n",
      "2  8f73s7                Harley   \n",
      "3  6ti6re          ringdoorbell   \n",
      "4  77sxto                 intel   \n",
      "\n",
      "                                               title  \\\n",
      "0                remember your command line switches   \n",
      "1              \"so what was matt \"\"addicted\"\" to ? \"   \n",
      "2                                     no club colors   \n",
      "3          not door bell but floodlight mount height   \n",
      "4  worried about my 8700k small fft/data stress r...   \n",
      "\n",
      "                                            selftext  \n",
      "0                                       \"hi there  \"  \n",
      "1  did he ever say what his addiction was or is h...  \n",
      "2  funny story i went to college in las vegas thi...  \n",
      "3  i know this is a sub for the 'ring doorbell' b...  \n",
      "4  \"prime95 (regardless of version) and occt both...  \n",
      "             id      subreddit  \\\n",
      "1012995  5r9k4h        MSLGame   \n",
      "1012996  6529fp  CrohnsDisease   \n",
      "1012997  7tiyzx       HongKong   \n",
      "1012998  664ha3          yorku   \n",
      "1012999  6ump0y           wine   \n",
      "\n",
      "                                                     title  \\\n",
      "1012995  is this months rebirth and dungeon astro's wor...   \n",
      "1012996      i might need a medical leave from grad school   \n",
      "1012997    police harassing ethnic minorities in hong kong   \n",
      "1012998           su eecs 2030 and eecs 2021 - need advice   \n",
      "1012999             what is the worse wine you ever had ?    \n",
      "\n",
      "                                                  selftext  \n",
      "1012995  i looking on what to evo3 farm next and was ex...  \n",
      "1012996  has anyone here ever needed a medical leave fr...  \n",
      "1012997  i thought i'd make this post so that more peop...  \n",
      "1012998  hi i just finished 1st year eecs courses and h...  \n",
      "1012999  my worst wine was at a dinner party my friend ...  \n"
     ]
    }
   ],
   "source": [
    "print(main_df.head())\n",
    "print(main_df.tail())"
   ]
  },
  {
   "cell_type": "code",
   "execution_count": 13,
   "metadata": {
    "colab": {
     "base_uri": "https://localhost:8080/",
     "height": 101,
     "referenced_widgets": [
      "f8935b476fb84463a7ebac4738fabc5b",
      "9c00ccf3fea84df88b02665de14327bd",
      "b8744cdcb61e4353ab111fda2f4419f6",
      "6423ebd1f272459ba22b32ba0eb616e6",
      "c1bbaa15dccc483bb714511bb89df115",
      "47908d27e0004b36bf429490b579efad",
      "a00f252846414bf1aaceb94f87d830a5",
      "21e2b0e2c2704347ac6c146548fa14d4",
      "9a95e3be064949278507252a7963edbf",
      "ca4f3b29b8c84c33955a24bd07152922",
      "ac63d3bb42e54285ad13835046186dce"
     ]
    },
    "id": "SzqKC2HlEYEg",
    "outputId": "1b3d2325-1e9f-47a7-f38d-2df9a74faf8b"
   },
   "outputs": [
    {
     "name": "stderr",
     "output_type": "stream",
     "text": [
      "/var/folders/43/55xrz6yn351c1v3zrty2c19m0000gn/T/ipykernel_60462/3034196913.py:3: TqdmDeprecationWarning: This function will be removed in tqdm==5.0.0\n",
      "Please use `tqdm.notebook.tqdm` instead of `tqdm.tqdm_notebook`\n",
      "  for genre in tqdm(genres):\n"
     ]
    },
    {
     "data": {
      "application/vnd.jupyter.widget-view+json": {
       "model_id": "1a03323fd76d450986943fc553ba873c",
       "version_major": 2,
       "version_minor": 0
      },
      "text/plain": [
       "  0%|          | 0/39 [00:00<?, ?it/s]"
      ]
     },
     "metadata": {},
     "output_type": "display_data"
    }
   ],
   "source": [
    "from tqdm import tqdm_notebook as tqdm\n",
    "main_df['genre'] = np.nan\n",
    "for genre in tqdm(genres):\n",
    "  rows_for_genre = main_df.loc[main_df['subreddit'].isin(genre_to_sub[genre]), 'genre'] = genre"
   ]
  },
  {
   "cell_type": "code",
   "execution_count": 14,
   "metadata": {
    "colab": {
     "base_uri": "https://localhost:8080/"
    },
    "id": "rdxU2bADEZod",
    "outputId": "e2b0ca04-4b6b-4bc2-fbed-70e735909667"
   },
   "outputs": [
    {
     "name": "stdout",
     "output_type": "stream",
     "text": [
      "       id             subreddit  \\\n",
      "0  6d8knd  talesfromtechsupport   \n",
      "1  58mbft               teenmom   \n",
      "2  8f73s7                Harley   \n",
      "3  6ti6re          ringdoorbell   \n",
      "4  77sxto                 intel   \n",
      "\n",
      "                                               title  \\\n",
      "0                remember your command line switches   \n",
      "1              \"so what was matt \"\"addicted\"\" to ? \"   \n",
      "2                                     no club colors   \n",
      "3          not door bell but floodlight mount height   \n",
      "4  worried about my 8700k small fft/data stress r...   \n",
      "\n",
      "                                            selftext            genre  \n",
      "0                                       \"hi there  \"  writing/stories  \n",
      "1  did he ever say what his addiction was or is h...          tv_show  \n",
      "2  funny story i went to college in las vegas thi...            autos  \n",
      "3  i know this is a sub for the 'ring doorbell' b...   hardware/tools  \n",
      "4  \"prime95 (regardless of version) and occt both...      electronics  \n",
      "             id      subreddit  \\\n",
      "1012995  5r9k4h        MSLGame   \n",
      "1012996  6529fp  CrohnsDisease   \n",
      "1012997  7tiyzx       HongKong   \n",
      "1012998  664ha3          yorku   \n",
      "1012999  6ump0y           wine   \n",
      "\n",
      "                                                     title  \\\n",
      "1012995  is this months rebirth and dungeon astro's wor...   \n",
      "1012996      i might need a medical leave from grad school   \n",
      "1012997    police harassing ethnic minorities in hong kong   \n",
      "1012998           su eecs 2030 and eecs 2021 - need advice   \n",
      "1012999             what is the worse wine you ever had ?    \n",
      "\n",
      "                                                  selftext       genre  \n",
      "1012995  i looking on what to evo3 farm next and was ex...  video_game  \n",
      "1012996  has anyone here ever needed a medical leave fr...      health  \n",
      "1012997  i thought i'd make this post so that more peop...         geo  \n",
      "1012998  hi i just finished 1st year eecs courses and h...   education  \n",
      "1012999  my worst wine was at a dinner party my friend ...  food/drink  \n"
     ]
    }
   ],
   "source": [
    "print(main_df.head())\n",
    "print(main_df.tail())"
   ]
  },
  {
   "cell_type": "code",
   "execution_count": 15,
   "metadata": {
    "colab": {
     "base_uri": "https://localhost:8080/",
     "height": 597
    },
    "id": "56EBksLmEZrY",
    "outputId": "895ac247-4f7e-41c1-a780-601bf5b1b39b"
   },
   "outputs": [
    {
     "data": {
      "text/html": [
       "<div>\n",
       "<style scoped>\n",
       "    .dataframe tbody tr th:only-of-type {\n",
       "        vertical-align: middle;\n",
       "    }\n",
       "\n",
       "    .dataframe tbody tr th {\n",
       "        vertical-align: top;\n",
       "    }\n",
       "\n",
       "    .dataframe thead th {\n",
       "        text-align: right;\n",
       "    }\n",
       "</style>\n",
       "<table border=\"1\" class=\"dataframe\">\n",
       "  <thead>\n",
       "    <tr style=\"text-align: right;\">\n",
       "      <th></th>\n",
       "      <th>id</th>\n",
       "      <th>subreddit</th>\n",
       "      <th>title</th>\n",
       "      <th>selftext</th>\n",
       "      <th>genre</th>\n",
       "    </tr>\n",
       "  </thead>\n",
       "  <tbody>\n",
       "    <tr>\n",
       "      <th>0</th>\n",
       "      <td>6d8knd</td>\n",
       "      <td>talesfromtechsupport</td>\n",
       "      <td>remember your command line switches</td>\n",
       "      <td>\"hi there  \"</td>\n",
       "      <td>writing/stories</td>\n",
       "    </tr>\n",
       "    <tr>\n",
       "      <th>1</th>\n",
       "      <td>58mbft</td>\n",
       "      <td>teenmom</td>\n",
       "      <td>\"so what was matt \"\"addicted\"\" to ? \"</td>\n",
       "      <td>did he ever say what his addiction was or is h...</td>\n",
       "      <td>tv_show</td>\n",
       "    </tr>\n",
       "    <tr>\n",
       "      <th>2</th>\n",
       "      <td>8f73s7</td>\n",
       "      <td>Harley</td>\n",
       "      <td>no club colors</td>\n",
       "      <td>funny story i went to college in las vegas thi...</td>\n",
       "      <td>autos</td>\n",
       "    </tr>\n",
       "    <tr>\n",
       "      <th>3</th>\n",
       "      <td>6ti6re</td>\n",
       "      <td>ringdoorbell</td>\n",
       "      <td>not door bell but floodlight mount height</td>\n",
       "      <td>i know this is a sub for the 'ring doorbell' b...</td>\n",
       "      <td>hardware/tools</td>\n",
       "    </tr>\n",
       "    <tr>\n",
       "      <th>4</th>\n",
       "      <td>77sxto</td>\n",
       "      <td>intel</td>\n",
       "      <td>worried about my 8700k small fft/data stress r...</td>\n",
       "      <td>\"prime95 (regardless of version) and occt both...</td>\n",
       "      <td>electronics</td>\n",
       "    </tr>\n",
       "    <tr>\n",
       "      <th>...</th>\n",
       "      <td>...</td>\n",
       "      <td>...</td>\n",
       "      <td>...</td>\n",
       "      <td>...</td>\n",
       "      <td>...</td>\n",
       "    </tr>\n",
       "    <tr>\n",
       "      <th>1012995</th>\n",
       "      <td>5r9k4h</td>\n",
       "      <td>MSLGame</td>\n",
       "      <td>is this months rebirth and dungeon astro's wor...</td>\n",
       "      <td>i looking on what to evo3 farm next and was ex...</td>\n",
       "      <td>video_game</td>\n",
       "    </tr>\n",
       "    <tr>\n",
       "      <th>1012996</th>\n",
       "      <td>6529fp</td>\n",
       "      <td>CrohnsDisease</td>\n",
       "      <td>i might need a medical leave from grad school</td>\n",
       "      <td>has anyone here ever needed a medical leave fr...</td>\n",
       "      <td>health</td>\n",
       "    </tr>\n",
       "    <tr>\n",
       "      <th>1012997</th>\n",
       "      <td>7tiyzx</td>\n",
       "      <td>HongKong</td>\n",
       "      <td>police harassing ethnic minorities in hong kong</td>\n",
       "      <td>i thought i'd make this post so that more peop...</td>\n",
       "      <td>geo</td>\n",
       "    </tr>\n",
       "    <tr>\n",
       "      <th>1012998</th>\n",
       "      <td>664ha3</td>\n",
       "      <td>yorku</td>\n",
       "      <td>su eecs 2030 and eecs 2021 - need advice</td>\n",
       "      <td>hi i just finished 1st year eecs courses and h...</td>\n",
       "      <td>education</td>\n",
       "    </tr>\n",
       "    <tr>\n",
       "      <th>1012999</th>\n",
       "      <td>6ump0y</td>\n",
       "      <td>wine</td>\n",
       "      <td>what is the worse wine you ever had ?</td>\n",
       "      <td>my worst wine was at a dinner party my friend ...</td>\n",
       "      <td>food/drink</td>\n",
       "    </tr>\n",
       "  </tbody>\n",
       "</table>\n",
       "<p>1013000 rows × 5 columns</p>\n",
       "</div>"
      ],
      "text/plain": [
       "             id             subreddit  \\\n",
       "0        6d8knd  talesfromtechsupport   \n",
       "1        58mbft               teenmom   \n",
       "2        8f73s7                Harley   \n",
       "3        6ti6re          ringdoorbell   \n",
       "4        77sxto                 intel   \n",
       "...         ...                   ...   \n",
       "1012995  5r9k4h               MSLGame   \n",
       "1012996  6529fp         CrohnsDisease   \n",
       "1012997  7tiyzx              HongKong   \n",
       "1012998  664ha3                 yorku   \n",
       "1012999  6ump0y                  wine   \n",
       "\n",
       "                                                     title  \\\n",
       "0                      remember your command line switches   \n",
       "1                    \"so what was matt \"\"addicted\"\" to ? \"   \n",
       "2                                           no club colors   \n",
       "3                not door bell but floodlight mount height   \n",
       "4        worried about my 8700k small fft/data stress r...   \n",
       "...                                                    ...   \n",
       "1012995  is this months rebirth and dungeon astro's wor...   \n",
       "1012996      i might need a medical leave from grad school   \n",
       "1012997    police harassing ethnic minorities in hong kong   \n",
       "1012998           su eecs 2030 and eecs 2021 - need advice   \n",
       "1012999             what is the worse wine you ever had ?    \n",
       "\n",
       "                                                  selftext            genre  \n",
       "0                                             \"hi there  \"  writing/stories  \n",
       "1        did he ever say what his addiction was or is h...          tv_show  \n",
       "2        funny story i went to college in las vegas thi...            autos  \n",
       "3        i know this is a sub for the 'ring doorbell' b...   hardware/tools  \n",
       "4        \"prime95 (regardless of version) and occt both...      electronics  \n",
       "...                                                    ...              ...  \n",
       "1012995  i looking on what to evo3 farm next and was ex...       video_game  \n",
       "1012996  has anyone here ever needed a medical leave fr...           health  \n",
       "1012997  i thought i'd make this post so that more peop...              geo  \n",
       "1012998  hi i just finished 1st year eecs courses and h...        education  \n",
       "1012999  my worst wine was at a dinner party my friend ...       food/drink  \n",
       "\n",
       "[1013000 rows x 5 columns]"
      ]
     },
     "execution_count": 15,
     "metadata": {},
     "output_type": "execute_result"
    }
   ],
   "source": [
    "main_df"
   ]
  },
  {
   "cell_type": "code",
   "execution_count": 16,
   "metadata": {
    "id": "k3q4NgQREZt2"
   },
   "outputs": [],
   "source": [
    "# Load into a local colab file.\n",
    "main_df_pickle_filename = 'main_df.pickle'\n",
    "main_df.to_pickle(main_df_pickle_filename)"
   ]
  }
 ],
 "metadata": {
  "colab": {
   "provenance": []
  },
  "kernelspec": {
   "display_name": "Python 3 (ipykernel)",
   "language": "python",
   "name": "python3"
  },
  "language_info": {
   "codemirror_mode": {
    "name": "ipython",
    "version": 3
   },
   "file_extension": ".py",
   "mimetype": "text/x-python",
   "name": "python",
   "nbconvert_exporter": "python",
   "pygments_lexer": "ipython3",
   "version": "3.9.12"
  },
  "widgets": {
   "application/vnd.jupyter.widget-state+json": {
    "21e2b0e2c2704347ac6c146548fa14d4": {
     "model_module": "@jupyter-widgets/base",
     "model_module_version": "1.2.0",
     "model_name": "LayoutModel",
     "state": {
      "_model_module": "@jupyter-widgets/base",
      "_model_module_version": "1.2.0",
      "_model_name": "LayoutModel",
      "_view_count": null,
      "_view_module": "@jupyter-widgets/base",
      "_view_module_version": "1.2.0",
      "_view_name": "LayoutView",
      "align_content": null,
      "align_items": null,
      "align_self": null,
      "border": null,
      "bottom": null,
      "display": null,
      "flex": null,
      "flex_flow": null,
      "grid_area": null,
      "grid_auto_columns": null,
      "grid_auto_flow": null,
      "grid_auto_rows": null,
      "grid_column": null,
      "grid_gap": null,
      "grid_row": null,
      "grid_template_areas": null,
      "grid_template_columns": null,
      "grid_template_rows": null,
      "height": null,
      "justify_content": null,
      "justify_items": null,
      "left": null,
      "margin": null,
      "max_height": null,
      "max_width": null,
      "min_height": null,
      "min_width": null,
      "object_fit": null,
      "object_position": null,
      "order": null,
      "overflow": null,
      "overflow_x": null,
      "overflow_y": null,
      "padding": null,
      "right": null,
      "top": null,
      "visibility": null,
      "width": null
     }
    },
    "47908d27e0004b36bf429490b579efad": {
     "model_module": "@jupyter-widgets/base",
     "model_module_version": "1.2.0",
     "model_name": "LayoutModel",
     "state": {
      "_model_module": "@jupyter-widgets/base",
      "_model_module_version": "1.2.0",
      "_model_name": "LayoutModel",
      "_view_count": null,
      "_view_module": "@jupyter-widgets/base",
      "_view_module_version": "1.2.0",
      "_view_name": "LayoutView",
      "align_content": null,
      "align_items": null,
      "align_self": null,
      "border": null,
      "bottom": null,
      "display": null,
      "flex": null,
      "flex_flow": null,
      "grid_area": null,
      "grid_auto_columns": null,
      "grid_auto_flow": null,
      "grid_auto_rows": null,
      "grid_column": null,
      "grid_gap": null,
      "grid_row": null,
      "grid_template_areas": null,
      "grid_template_columns": null,
      "grid_template_rows": null,
      "height": null,
      "justify_content": null,
      "justify_items": null,
      "left": null,
      "margin": null,
      "max_height": null,
      "max_width": null,
      "min_height": null,
      "min_width": null,
      "object_fit": null,
      "object_position": null,
      "order": null,
      "overflow": null,
      "overflow_x": null,
      "overflow_y": null,
      "padding": null,
      "right": null,
      "top": null,
      "visibility": null,
      "width": null
     }
    },
    "6423ebd1f272459ba22b32ba0eb616e6": {
     "model_module": "@jupyter-widgets/controls",
     "model_module_version": "1.5.0",
     "model_name": "HTMLModel",
     "state": {
      "_dom_classes": [],
      "_model_module": "@jupyter-widgets/controls",
      "_model_module_version": "1.5.0",
      "_model_name": "HTMLModel",
      "_view_count": null,
      "_view_module": "@jupyter-widgets/controls",
      "_view_module_version": "1.5.0",
      "_view_name": "HTMLView",
      "description": "",
      "description_tooltip": null,
      "layout": "IPY_MODEL_ca4f3b29b8c84c33955a24bd07152922",
      "placeholder": "​",
      "style": "IPY_MODEL_ac63d3bb42e54285ad13835046186dce",
      "value": " 39/39 [00:02&lt;00:00, 13.22it/s]"
     }
    },
    "9a95e3be064949278507252a7963edbf": {
     "model_module": "@jupyter-widgets/controls",
     "model_module_version": "1.5.0",
     "model_name": "ProgressStyleModel",
     "state": {
      "_model_module": "@jupyter-widgets/controls",
      "_model_module_version": "1.5.0",
      "_model_name": "ProgressStyleModel",
      "_view_count": null,
      "_view_module": "@jupyter-widgets/base",
      "_view_module_version": "1.2.0",
      "_view_name": "StyleView",
      "bar_color": null,
      "description_width": ""
     }
    },
    "9c00ccf3fea84df88b02665de14327bd": {
     "model_module": "@jupyter-widgets/controls",
     "model_module_version": "1.5.0",
     "model_name": "HTMLModel",
     "state": {
      "_dom_classes": [],
      "_model_module": "@jupyter-widgets/controls",
      "_model_module_version": "1.5.0",
      "_model_name": "HTMLModel",
      "_view_count": null,
      "_view_module": "@jupyter-widgets/controls",
      "_view_module_version": "1.5.0",
      "_view_name": "HTMLView",
      "description": "",
      "description_tooltip": null,
      "layout": "IPY_MODEL_47908d27e0004b36bf429490b579efad",
      "placeholder": "​",
      "style": "IPY_MODEL_a00f252846414bf1aaceb94f87d830a5",
      "value": "100%"
     }
    },
    "a00f252846414bf1aaceb94f87d830a5": {
     "model_module": "@jupyter-widgets/controls",
     "model_module_version": "1.5.0",
     "model_name": "DescriptionStyleModel",
     "state": {
      "_model_module": "@jupyter-widgets/controls",
      "_model_module_version": "1.5.0",
      "_model_name": "DescriptionStyleModel",
      "_view_count": null,
      "_view_module": "@jupyter-widgets/base",
      "_view_module_version": "1.2.0",
      "_view_name": "StyleView",
      "description_width": ""
     }
    },
    "ac63d3bb42e54285ad13835046186dce": {
     "model_module": "@jupyter-widgets/controls",
     "model_module_version": "1.5.0",
     "model_name": "DescriptionStyleModel",
     "state": {
      "_model_module": "@jupyter-widgets/controls",
      "_model_module_version": "1.5.0",
      "_model_name": "DescriptionStyleModel",
      "_view_count": null,
      "_view_module": "@jupyter-widgets/base",
      "_view_module_version": "1.2.0",
      "_view_name": "StyleView",
      "description_width": ""
     }
    },
    "b8744cdcb61e4353ab111fda2f4419f6": {
     "model_module": "@jupyter-widgets/controls",
     "model_module_version": "1.5.0",
     "model_name": "FloatProgressModel",
     "state": {
      "_dom_classes": [],
      "_model_module": "@jupyter-widgets/controls",
      "_model_module_version": "1.5.0",
      "_model_name": "FloatProgressModel",
      "_view_count": null,
      "_view_module": "@jupyter-widgets/controls",
      "_view_module_version": "1.5.0",
      "_view_name": "ProgressView",
      "bar_style": "success",
      "description": "",
      "description_tooltip": null,
      "layout": "IPY_MODEL_21e2b0e2c2704347ac6c146548fa14d4",
      "max": 39,
      "min": 0,
      "orientation": "horizontal",
      "style": "IPY_MODEL_9a95e3be064949278507252a7963edbf",
      "value": 39
     }
    },
    "c1bbaa15dccc483bb714511bb89df115": {
     "model_module": "@jupyter-widgets/base",
     "model_module_version": "1.2.0",
     "model_name": "LayoutModel",
     "state": {
      "_model_module": "@jupyter-widgets/base",
      "_model_module_version": "1.2.0",
      "_model_name": "LayoutModel",
      "_view_count": null,
      "_view_module": "@jupyter-widgets/base",
      "_view_module_version": "1.2.0",
      "_view_name": "LayoutView",
      "align_content": null,
      "align_items": null,
      "align_self": null,
      "border": null,
      "bottom": null,
      "display": null,
      "flex": null,
      "flex_flow": null,
      "grid_area": null,
      "grid_auto_columns": null,
      "grid_auto_flow": null,
      "grid_auto_rows": null,
      "grid_column": null,
      "grid_gap": null,
      "grid_row": null,
      "grid_template_areas": null,
      "grid_template_columns": null,
      "grid_template_rows": null,
      "height": null,
      "justify_content": null,
      "justify_items": null,
      "left": null,
      "margin": null,
      "max_height": null,
      "max_width": null,
      "min_height": null,
      "min_width": null,
      "object_fit": null,
      "object_position": null,
      "order": null,
      "overflow": null,
      "overflow_x": null,
      "overflow_y": null,
      "padding": null,
      "right": null,
      "top": null,
      "visibility": null,
      "width": null
     }
    },
    "ca4f3b29b8c84c33955a24bd07152922": {
     "model_module": "@jupyter-widgets/base",
     "model_module_version": "1.2.0",
     "model_name": "LayoutModel",
     "state": {
      "_model_module": "@jupyter-widgets/base",
      "_model_module_version": "1.2.0",
      "_model_name": "LayoutModel",
      "_view_count": null,
      "_view_module": "@jupyter-widgets/base",
      "_view_module_version": "1.2.0",
      "_view_name": "LayoutView",
      "align_content": null,
      "align_items": null,
      "align_self": null,
      "border": null,
      "bottom": null,
      "display": null,
      "flex": null,
      "flex_flow": null,
      "grid_area": null,
      "grid_auto_columns": null,
      "grid_auto_flow": null,
      "grid_auto_rows": null,
      "grid_column": null,
      "grid_gap": null,
      "grid_row": null,
      "grid_template_areas": null,
      "grid_template_columns": null,
      "grid_template_rows": null,
      "height": null,
      "justify_content": null,
      "justify_items": null,
      "left": null,
      "margin": null,
      "max_height": null,
      "max_width": null,
      "min_height": null,
      "min_width": null,
      "object_fit": null,
      "object_position": null,
      "order": null,
      "overflow": null,
      "overflow_x": null,
      "overflow_y": null,
      "padding": null,
      "right": null,
      "top": null,
      "visibility": null,
      "width": null
     }
    },
    "f8935b476fb84463a7ebac4738fabc5b": {
     "model_module": "@jupyter-widgets/controls",
     "model_module_version": "1.5.0",
     "model_name": "HBoxModel",
     "state": {
      "_dom_classes": [],
      "_model_module": "@jupyter-widgets/controls",
      "_model_module_version": "1.5.0",
      "_model_name": "HBoxModel",
      "_view_count": null,
      "_view_module": "@jupyter-widgets/controls",
      "_view_module_version": "1.5.0",
      "_view_name": "HBoxView",
      "box_style": "",
      "children": [
       "IPY_MODEL_9c00ccf3fea84df88b02665de14327bd",
       "IPY_MODEL_b8744cdcb61e4353ab111fda2f4419f6",
       "IPY_MODEL_6423ebd1f272459ba22b32ba0eb616e6"
      ],
      "layout": "IPY_MODEL_c1bbaa15dccc483bb714511bb89df115"
     }
    }
   }
  }
 },
 "nbformat": 4,
 "nbformat_minor": 1
}
